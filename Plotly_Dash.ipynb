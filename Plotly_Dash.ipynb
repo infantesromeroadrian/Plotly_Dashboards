{
 "cells": [
  {
   "cell_type": "code",
   "execution_count": 1,
   "outputs": [
    {
     "name": "stderr",
     "output_type": "stream",
     "text": [
      "/var/folders/b7/wmcd_tzj3hd8lsdlfgr85gb40000gn/T/ipykernel_19632/2608474045.py:6: UserWarning: \n",
      "The dash_core_components package is deprecated. Please replace\n",
      "`import dash_core_components as dcc` with `from dash import dcc`\n",
      "  import dash_core_components as dcc\n",
      "/var/folders/b7/wmcd_tzj3hd8lsdlfgr85gb40000gn/T/ipykernel_19632/2608474045.py:7: UserWarning: \n",
      "The dash_html_components package is deprecated. Please replace\n",
      "`import dash_html_components as html` with `from dash import html`\n",
      "  import dash_html_components as html\n"
     ]
    },
    {
     "name": "stdout",
     "output_type": "stream",
     "text": [
      "Dash is running on http://127.0.0.1:8050/\n",
      "\n"
     ]
    },
    {
     "data": {
      "text/plain": "<IPython.lib.display.IFrame at 0x7f82b8b9f3a0>",
      "text/html": "\n        <iframe\n            width=\"100%\"\n            height=\"650\"\n            src=\"http://127.0.0.1:8050/\"\n            frameborder=\"0\"\n            allowfullscreen\n            \n        ></iframe>\n        "
     },
     "metadata": {},
     "output_type": "display_data"
    }
   ],
   "source": [
    "\n",
    "\n",
    "import pandas as pd\n",
    "import geopandas as gpd\n",
    "import plotly.express as px\n",
    "\n",
    "from jupyter_dash import JupyterDash\n",
    "import dash_core_components as dcc\n",
    "import dash_html_components as html\n",
    "from dash.dependencies import Input, Output\n",
    "\n",
    "# Reemplaza con tu token de acceso de Mapbox\n",
    "mapbox_access_token = \"pk.eyJ1IjoiaW5mYW50ZXNyb21lcm9hZHJpYW4iLCJhIjoiY2xncXAyOXZmMHJuZjNxbW0yZmM2dTAyayJ9.qqmlPTzwF0bNcuaHd3FzHQ\"\n",
    "\n",
    "# Cargar datos de ejemplo con información de países\n",
    "url = \"https://raw.githubusercontent.com/plotly/datasets/master/2014_world_gdp_with_codes.csv\"\n",
    "df = pd.read_csv(url)\n",
    "\n",
    "# Leer geometría de países\n",
    "world = gpd.read_file(gpd.datasets.get_path('naturalearth_lowres'))\n",
    "\n",
    "# Unir datos de países con geometría de países\n",
    "merged = world.merge(df, left_on='iso_a3', right_on='CODE')\n",
    "\n",
    "# Crear la aplicación de Jupyter Dash\n",
    "app = JupyterDash(__name__)\n",
    "\n",
    "# Definir la estructura de la aplicación\n",
    "app.layout = html.Div([\n",
    "    html.H1(\"Mapa de países\"),\n",
    "    dcc.Dropdown(\n",
    "        id=\"country-dropdown\",\n",
    "        options=[{\"label\": country, \"value\": code} for country, code in df[[\"COUNTRY\", \"CODE\"]].values],\n",
    "        value=\"USA\",\n",
    "        placeholder=\"Selecciona un país\",\n",
    "    ),\n",
    "    dcc.Graph(id=\"country-map\")\n",
    "])\n",
    "\n",
    "# Definir la función de actualización\n",
    "@app.callback(\n",
    "    Output(\"country-map\", \"figure\"),\n",
    "    [Input(\"country-dropdown\", \"value\")]\n",
    ")\n",
    "def update_map(selected_country_code):\n",
    "    # Obtener las coordenadas del país seleccionado\n",
    "    country_data = merged[merged[\"CODE\"] == selected_country_code]\n",
    "    center_lat, center_lon = country_data.geometry.centroid.y.values[0], country_data.geometry.centroid.x.values[0]\n",
    "\n",
    "    # Crear un mapa centrado en el país seleccionado\n",
    "    fig = px.scatter_mapbox(\n",
    "        country_data,\n",
    "        lat=[center_lat],\n",
    "        lon=[center_lon],\n",
    "        hover_name=\"COUNTRY\",\n",
    "        zoom=3,\n",
    "        height=600\n",
    "    )\n",
    "\n",
    "    fig.update_layout(\n",
    "        mapbox_style=\"dark\",  # Aquí puedes cambiar el estilo del mapa. Ejemplos: \"streets\", \"outdoors\", \"light\", \"dark\", \"satellite\", \"satellite-streets\"\n",
    "        mapbox_accesstoken=mapbox_access_token,\n",
    "        showlegend=False,\n",
    "        margin={\"r\": 0, \"t\": 0, \"l\": 0, \"b\": 0},\n",
    "        title_text=f\"País seleccionado: {selected_country_code}\",\n",
    "    )\n",
    "\n",
    "    fig.update_traces(marker=dict(size=15, color=\"red\"))\n",
    "\n",
    "    return fig\n",
    "\n",
    "# Ejecutar la aplicación\n",
    "app.run_server(mode=\"inline\")"
   ],
   "metadata": {
    "collapsed": false,
    "ExecuteTime": {
     "start_time": "2023-04-21T22:51:10.871162Z",
     "end_time": "2023-04-21T22:51:14.692656Z"
    }
   }
  },
  {
   "cell_type": "markdown",
   "source": [
    "Vamos a crear una app de dash con las siguientes características:\n",
    "\n",
    "- Un dropdown con los nombres de los paises del mundo\n",
    "- Un gráfico de barras con datos del csv y poder seleccionar la característica que queremos ver con otro dropdown"
   ],
   "metadata": {
    "collapsed": false
   }
  },
  {
   "cell_type": "code",
   "execution_count": null,
   "outputs": [],
   "source": [
    "# Comenzamos leyendo los datos del csv:\n",
    "\n",
    "import pandas as pd\n",
    "\n",
    "df = pd.read_csv('Data/countries of the world.csv')\n",
    "df.head()"
   ],
   "metadata": {
    "collapsed": false,
    "ExecuteTime": {
     "start_time": "2023-04-21T17:47:49.096553Z",
     "end_time": "2023-04-21T17:47:49.152953Z"
    }
   }
  },
  {
   "cell_type": "code",
   "execution_count": null,
   "outputs": [],
   "source": [
    "df.columns"
   ],
   "metadata": {
    "collapsed": false,
    "ExecuteTime": {
     "start_time": "2023-04-21T17:49:03.277150Z",
     "end_time": "2023-04-21T17:49:03.314460Z"
    }
   }
  },
  {
   "cell_type": "code",
   "execution_count": null,
   "outputs": [],
   "source": [
    "import pandas as pd\n",
    "import plotly.express as px\n",
    "\n",
    "from jupyter_dash import JupyterDash\n",
    "import dash_core_components as dcc\n",
    "import dash_html_components as html\n",
    "from dash.dependencies import Input, Output\n",
    "\n",
    "# Cargar datos de países\n",
    "country_data = pd.read_csv(\"Data/countries of the world.csv\")\n",
    "\n",
    "# Crear la aplicación de Jupyter Dash\n",
    "app = JupyterDash(__name__)\n",
    "\n",
    "# Definir la estructura de la aplicación\n",
    "app.layout = html.Div([\n",
    "    html.H1(\"Información de países\"),\n",
    "    dcc.Dropdown(\n",
    "        id=\"country-dropdown\",\n",
    "        options=[{\"label\": country, \"value\": country} for country in country_data[\"Country\"]],\n",
    "        value=\"United States\",\n",
    "        placeholder=\"Selecciona un país\",\n",
    "        multi=True\n",
    "    ),\n",
    "    dcc.Dropdown(\n",
    "        id=\"feature-dropdown\",\n",
    "        options=[{\"label\": feature, \"value\": feature} for feature in country_data.columns[2:]],\n",
    "        value=\"Population\",\n",
    "        placeholder=\"Selecciona una característica\",\n",
    "    ),\n",
    "    dcc.Graph(id=\"bar-chart\")\n",
    "])\n",
    "\n",
    "# Definir la función de actualización para el gráfico de barras\n",
    "@app.callback(\n",
    "    Output(\"bar-chart\", \"figure\"),\n",
    "    [Input(\"country-dropdown\", \"value\"),\n",
    "     Input(\"feature-dropdown\", \"value\")]\n",
    ")\n",
    "def update_bar_chart(selected_countries, selected_feature):\n",
    "    if selected_countries:\n",
    "        data = country_data[country_data[\"Country\"].isin(selected_countries)]\n",
    "    else:\n",
    "        data = country_data\n",
    "\n",
    "    # Crear un gráfico de barras con información de la característica seleccionada\n",
    "    fig = px.bar(\n",
    "        data,\n",
    "        x=\"Country\",\n",
    "        y=selected_feature,\n",
    "        text=selected_feature,\n",
    "        height=400\n",
    "    )\n",
    "\n",
    "    fig.update_traces(texttemplate='%{text:.2s}', textposition='outside')\n",
    "    fig.update_layout(\n",
    "        xaxis=dict(title=\"Países\"),\n",
    "        yaxis=dict(title=selected_feature),\n",
    "        title_text=f\"{selected_feature} de los países seleccionados\",\n",
    "        uniformtext_minsize=8,\n",
    "        uniformtext_mode='hide',\n",
    "        margin={\"r\": 0, \"t\": 40, \"l\": 0, \"b\": 0},\n",
    "    )\n",
    "\n",
    "    return fig\n",
    "\n",
    "# Ejecutar la aplicación\n",
    "app.run_server(mode=\"inline\")\n"
   ],
   "metadata": {
    "collapsed": false,
    "ExecuteTime": {
     "start_time": "2023-04-21T17:51:33.781975Z",
     "end_time": "2023-04-21T17:51:35.299934Z"
    }
   }
  },
  {
   "cell_type": "markdown",
   "source": [
    "# Ejercicio 2:\n",
    "\n",
    "- Crea una app de dash con un dropdown con los nombres de los paises del mundo, donde podamos ver con un scatter plot la relación entre la población y la esperanza de vida de cada país."
   ],
   "metadata": {
    "collapsed": false
   }
  },
  {
   "cell_type": "code",
   "execution_count": null,
   "outputs": [],
   "source": [
    "import pandas as pd\n",
    "import plotly.express as px\n",
    "\n",
    "from jupyter_dash import JupyterDash\n",
    "import dash_core_components as dcc\n",
    "import dash_html_components as html\n",
    "from dash.dependencies import Input, Output\n",
    "\n",
    "# Cargar datos de países\n",
    "country_data = pd.read_csv(\"Data/countries of the world.csv\")\n",
    "\n",
    "# Crear la aplicación de Jupyter Dash\n",
    "app = JupyterDash(__name__)\n",
    "\n",
    "# Definir la estructura de la aplicación\n",
    "app.layout = html.Div([\n",
    "    html.H1(\"Información de países\"),\n",
    "    dcc.Dropdown(\n",
    "        id=\"country-dropdown\",\n",
    "        options=[{\"label\": country, \"value\": country} for country in country_data[\"Country\"]],\n",
    "        value=\"United States\",\n",
    "        placeholder=\"Selecciona un país\",\n",
    "        multi=True\n",
    "    ),\n",
    "    dcc.Dropdown(\n",
    "        id=\"feature-dropdown\",\n",
    "        options=[{\"label\": feature, \"value\": feature} for feature in [\"Population\", \"Life_expectancy\"]],\n",
    "        value=\"Population\",\n",
    "        placeholder=\"Selecciona una característica\",\n",
    "    ),\n",
    "    dcc.Graph(id=\"scatter-plot\")\n",
    "])\n",
    "\n",
    "# Definir la función de actualización para el gráfico de dispersión\n",
    "@app.callback(\n",
    "    Output(\"scatter-plot\", \"figure\"),\n",
    "    [Input(\"country-dropdown\", \"value\"),\n",
    "     Input(\"feature-dropdown\", \"value\")]\n",
    ")\n",
    "def update_scatter_plot(selected_country, selected_feature):\n",
    "    if selected_country:\n",
    "        data = country_data[country_data[\"Country\"].isin(selected_country)]\n",
    "    else:\n",
    "        data = country_data\n",
    "\n",
    "    fig = px.scatter(\n",
    "        data,\n",
    "        x=\"Population\",\n",
    "        y=selected_feature,\n",
    "        text=\"Country\",\n",
    "        height=400\n",
    "    )\n",
    "\n",
    "    fig.update_traces(textposition='top center')\n",
    "    fig.update_layout(\n",
    "        xaxis=dict(title=\"Población\"),\n",
    "        yaxis=dict(title=selected_feature),\n",
    "        title_text=f\"Relación entre la población y {selected_feature} de los países seleccionados\",\n",
    "        uniformtext_minsize=8,\n",
    "        uniformtext_mode='hide',\n",
    "        margin={\"r\": 0, \"t\": 40, \"l\": 0, \"b\": 0},\n",
    "    )\n",
    "\n",
    "    return fig\n",
    "\n",
    "# Ejecutar la aplicación\n",
    "app.run_server(mode=\"inline\")\n"
   ],
   "metadata": {
    "collapsed": false,
    "ExecuteTime": {
     "start_time": "2023-04-21T18:10:45.299324Z",
     "end_time": "2023-04-21T18:10:46.861310Z"
    }
   }
  },
  {
   "cell_type": "markdown",
   "source": [
    "# Ejercicio 3:\n",
    "\n",
    "- Crea un graficos de plotly donde veamos la evolucion de la natalidad en España:"
   ],
   "metadata": {
    "collapsed": false
   }
  },
  {
   "cell_type": "code",
   "execution_count": 1,
   "outputs": [],
   "source": [
    "import pandas as pd\n",
    "import plotly.express as px"
   ],
   "metadata": {
    "collapsed": false,
    "ExecuteTime": {
     "start_time": "2023-04-21T19:58:13.050957Z",
     "end_time": "2023-04-21T19:58:14.247157Z"
    }
   }
  },
  {
   "cell_type": "code",
   "execution_count": 2,
   "outputs": [
    {
     "data": {
      "text/plain": "     Comunidades y Ciudades Autónomas          Nacionalidad  Periodo  Total\n0                      Total Nacional  Ambas nacionalidades     2021   7,12\n1                      Total Nacional  Ambas nacionalidades     2020   7,19\n2                      Total Nacional  Ambas nacionalidades     2019   7,62\n3                      Total Nacional  Ambas nacionalidades     2018   7,94\n4                      Total Nacional  Ambas nacionalidades     2017   8,41\n...                               ...                   ...      ...    ...\n1195                       19 Melilla            Extranjera     2006  66,33\n1196                       19 Melilla            Extranjera     2005  64,04\n1197                       19 Melilla            Extranjera     2004  69,46\n1198                       19 Melilla            Extranjera     2003  72,98\n1199                       19 Melilla            Extranjera     2002  54,43\n\n[1200 rows x 4 columns]",
      "text/html": "<div>\n<style scoped>\n    .dataframe tbody tr th:only-of-type {\n        vertical-align: middle;\n    }\n\n    .dataframe tbody tr th {\n        vertical-align: top;\n    }\n\n    .dataframe thead th {\n        text-align: right;\n    }\n</style>\n<table border=\"1\" class=\"dataframe\">\n  <thead>\n    <tr style=\"text-align: right;\">\n      <th></th>\n      <th>Comunidades y Ciudades Autónomas</th>\n      <th>Nacionalidad</th>\n      <th>Periodo</th>\n      <th>Total</th>\n    </tr>\n  </thead>\n  <tbody>\n    <tr>\n      <th>0</th>\n      <td>Total Nacional</td>\n      <td>Ambas nacionalidades</td>\n      <td>2021</td>\n      <td>7,12</td>\n    </tr>\n    <tr>\n      <th>1</th>\n      <td>Total Nacional</td>\n      <td>Ambas nacionalidades</td>\n      <td>2020</td>\n      <td>7,19</td>\n    </tr>\n    <tr>\n      <th>2</th>\n      <td>Total Nacional</td>\n      <td>Ambas nacionalidades</td>\n      <td>2019</td>\n      <td>7,62</td>\n    </tr>\n    <tr>\n      <th>3</th>\n      <td>Total Nacional</td>\n      <td>Ambas nacionalidades</td>\n      <td>2018</td>\n      <td>7,94</td>\n    </tr>\n    <tr>\n      <th>4</th>\n      <td>Total Nacional</td>\n      <td>Ambas nacionalidades</td>\n      <td>2017</td>\n      <td>8,41</td>\n    </tr>\n    <tr>\n      <th>...</th>\n      <td>...</td>\n      <td>...</td>\n      <td>...</td>\n      <td>...</td>\n    </tr>\n    <tr>\n      <th>1195</th>\n      <td>19 Melilla</td>\n      <td>Extranjera</td>\n      <td>2006</td>\n      <td>66,33</td>\n    </tr>\n    <tr>\n      <th>1196</th>\n      <td>19 Melilla</td>\n      <td>Extranjera</td>\n      <td>2005</td>\n      <td>64,04</td>\n    </tr>\n    <tr>\n      <th>1197</th>\n      <td>19 Melilla</td>\n      <td>Extranjera</td>\n      <td>2004</td>\n      <td>69,46</td>\n    </tr>\n    <tr>\n      <th>1198</th>\n      <td>19 Melilla</td>\n      <td>Extranjera</td>\n      <td>2003</td>\n      <td>72,98</td>\n    </tr>\n    <tr>\n      <th>1199</th>\n      <td>19 Melilla</td>\n      <td>Extranjera</td>\n      <td>2002</td>\n      <td>54,43</td>\n    </tr>\n  </tbody>\n</table>\n<p>1200 rows × 4 columns</p>\n</div>"
     },
     "execution_count": 2,
     "metadata": {},
     "output_type": "execute_result"
    }
   ],
   "source": [
    "\n",
    "data = pd.read_csv('Data/España_natalidad.csv', sep=';')\n",
    "data"
   ],
   "metadata": {
    "collapsed": false,
    "ExecuteTime": {
     "start_time": "2023-04-21T19:58:14.787529Z",
     "end_time": "2023-04-21T19:58:14.861491Z"
    }
   }
  },
  {
   "cell_type": "code",
   "execution_count": 3,
   "outputs": [
    {
     "name": "stdout",
     "output_type": "stream",
     "text": [
      "<class 'pandas.core.frame.DataFrame'>\n",
      "RangeIndex: 1200 entries, 0 to 1199\n",
      "Data columns (total 4 columns):\n",
      " #   Column                            Non-Null Count  Dtype \n",
      "---  ------                            --------------  ----- \n",
      " 0   Comunidades y Ciudades Autónomas  1200 non-null   object\n",
      " 1   Nacionalidad                      1200 non-null   object\n",
      " 2   Periodo                           1200 non-null   int64 \n",
      " 3   Total                             1200 non-null   object\n",
      "dtypes: int64(1), object(3)\n",
      "memory usage: 37.6+ KB\n"
     ]
    }
   ],
   "source": [
    "data.info()"
   ],
   "metadata": {
    "collapsed": false,
    "ExecuteTime": {
     "start_time": "2023-04-21T19:58:16.864978Z",
     "end_time": "2023-04-21T19:58:16.875802Z"
    }
   }
  },
  {
   "cell_type": "code",
   "execution_count": 4,
   "outputs": [
    {
     "data": {
      "text/plain": "2021    60\n2020    60\n2003    60\n2004    60\n2005    60\n2006    60\n2007    60\n2008    60\n2009    60\n2010    60\n2011    60\n2012    60\n2013    60\n2014    60\n2015    60\n2016    60\n2017    60\n2018    60\n2019    60\n2002    60\nName: Periodo, dtype: int64"
     },
     "execution_count": 4,
     "metadata": {},
     "output_type": "execute_result"
    }
   ],
   "source": [
    "data['Periodo'].value_counts()"
   ],
   "metadata": {
    "collapsed": false,
    "ExecuteTime": {
     "start_time": "2023-04-21T19:58:19.667448Z",
     "end_time": "2023-04-21T19:58:19.673459Z"
    }
   }
  },
  {
   "cell_type": "code",
   "execution_count": 5,
   "outputs": [
    {
     "data": {
      "text/plain": "     Comunidades y Ciudades Autónomas          Nacionalidad  Periodo  Total\n0                      Total Nacional  Ambas nacionalidades     2021   7.12\n1                      Total Nacional  Ambas nacionalidades     2020   7.19\n2                      Total Nacional  Ambas nacionalidades     2019   7.62\n3                      Total Nacional  Ambas nacionalidades     2018   7.94\n4                      Total Nacional  Ambas nacionalidades     2017   8.41\n...                               ...                   ...      ...    ...\n1195                       19 Melilla            Extranjera     2006  66.33\n1196                       19 Melilla            Extranjera     2005  64.04\n1197                       19 Melilla            Extranjera     2004  69.46\n1198                       19 Melilla            Extranjera     2003  72.98\n1199                       19 Melilla            Extranjera     2002  54.43\n\n[1200 rows x 4 columns]",
      "text/html": "<div>\n<style scoped>\n    .dataframe tbody tr th:only-of-type {\n        vertical-align: middle;\n    }\n\n    .dataframe tbody tr th {\n        vertical-align: top;\n    }\n\n    .dataframe thead th {\n        text-align: right;\n    }\n</style>\n<table border=\"1\" class=\"dataframe\">\n  <thead>\n    <tr style=\"text-align: right;\">\n      <th></th>\n      <th>Comunidades y Ciudades Autónomas</th>\n      <th>Nacionalidad</th>\n      <th>Periodo</th>\n      <th>Total</th>\n    </tr>\n  </thead>\n  <tbody>\n    <tr>\n      <th>0</th>\n      <td>Total Nacional</td>\n      <td>Ambas nacionalidades</td>\n      <td>2021</td>\n      <td>7.12</td>\n    </tr>\n    <tr>\n      <th>1</th>\n      <td>Total Nacional</td>\n      <td>Ambas nacionalidades</td>\n      <td>2020</td>\n      <td>7.19</td>\n    </tr>\n    <tr>\n      <th>2</th>\n      <td>Total Nacional</td>\n      <td>Ambas nacionalidades</td>\n      <td>2019</td>\n      <td>7.62</td>\n    </tr>\n    <tr>\n      <th>3</th>\n      <td>Total Nacional</td>\n      <td>Ambas nacionalidades</td>\n      <td>2018</td>\n      <td>7.94</td>\n    </tr>\n    <tr>\n      <th>4</th>\n      <td>Total Nacional</td>\n      <td>Ambas nacionalidades</td>\n      <td>2017</td>\n      <td>8.41</td>\n    </tr>\n    <tr>\n      <th>...</th>\n      <td>...</td>\n      <td>...</td>\n      <td>...</td>\n      <td>...</td>\n    </tr>\n    <tr>\n      <th>1195</th>\n      <td>19 Melilla</td>\n      <td>Extranjera</td>\n      <td>2006</td>\n      <td>66.33</td>\n    </tr>\n    <tr>\n      <th>1196</th>\n      <td>19 Melilla</td>\n      <td>Extranjera</td>\n      <td>2005</td>\n      <td>64.04</td>\n    </tr>\n    <tr>\n      <th>1197</th>\n      <td>19 Melilla</td>\n      <td>Extranjera</td>\n      <td>2004</td>\n      <td>69.46</td>\n    </tr>\n    <tr>\n      <th>1198</th>\n      <td>19 Melilla</td>\n      <td>Extranjera</td>\n      <td>2003</td>\n      <td>72.98</td>\n    </tr>\n    <tr>\n      <th>1199</th>\n      <td>19 Melilla</td>\n      <td>Extranjera</td>\n      <td>2002</td>\n      <td>54.43</td>\n    </tr>\n  </tbody>\n</table>\n<p>1200 rows × 4 columns</p>\n</div>"
     },
     "execution_count": 5,
     "metadata": {},
     "output_type": "execute_result"
    }
   ],
   "source": [
    "# Convertimos la columan Total a float\n",
    "\n",
    "data['Total'] = data['Total'].str.replace(',', '.').astype(float)\n",
    "data"
   ],
   "metadata": {
    "collapsed": false,
    "ExecuteTime": {
     "start_time": "2023-04-21T19:58:26.602552Z",
     "end_time": "2023-04-21T19:58:26.632836Z"
    }
   }
  },
  {
   "cell_type": "code",
   "execution_count": 6,
   "outputs": [
    {
     "data": {
      "text/plain": "2021    60\n2020    60\n2003    60\n2004    60\n2005    60\n2006    60\n2007    60\n2008    60\n2009    60\n2010    60\n2011    60\n2012    60\n2013    60\n2014    60\n2015    60\n2016    60\n2017    60\n2018    60\n2019    60\n2002    60\nName: Periodo, dtype: int64"
     },
     "execution_count": 6,
     "metadata": {},
     "output_type": "execute_result"
    }
   ],
   "source": [
    "# Vamos a crear un gráfico de lineas con plotly para ver la evolución de la natalidad en España\n",
    "\n",
    "\n",
    "data['Periodo'].value_counts()"
   ],
   "metadata": {
    "collapsed": false,
    "ExecuteTime": {
     "start_time": "2023-04-21T19:58:27.741907Z",
     "end_time": "2023-04-21T19:58:27.746846Z"
    }
   }
  },
  {
   "cell_type": "code",
   "execution_count": 8,
   "outputs": [
    {
     "data": {
      "application/vnd.plotly.v1+json": {
       "data": [
        {
         "alignmentgroup": "True",
         "hovertemplate": "Nacionalidad=Ambas nacionalidades<br>Periodo=%{x}<br>Total=%{y}<extra></extra>",
         "legendgroup": "Ambas nacionalidades",
         "marker": {
          "color": "#636efa",
          "pattern": {
           "shape": ""
          }
         },
         "name": "Ambas nacionalidades",
         "offsetgroup": "Ambas nacionalidades",
         "orientation": "v",
         "showlegend": true,
         "textposition": "auto",
         "x": [
          2021,
          2020,
          2019,
          2018,
          2017,
          2016,
          2015,
          2014,
          2013,
          2012,
          2011,
          2010,
          2009,
          2008,
          2007,
          2006,
          2005,
          2004,
          2003,
          2002,
          2021,
          2020,
          2019,
          2018,
          2017,
          2016,
          2015,
          2014,
          2013,
          2012,
          2011,
          2010,
          2009,
          2008,
          2007,
          2006,
          2005,
          2004,
          2003,
          2002,
          2021,
          2020,
          2019,
          2018,
          2017,
          2016,
          2015,
          2014,
          2013,
          2012,
          2011,
          2010,
          2009,
          2008,
          2007,
          2006,
          2005,
          2004,
          2003,
          2002,
          2021,
          2020,
          2019,
          2018,
          2017,
          2016,
          2015,
          2014,
          2013,
          2012,
          2011,
          2010,
          2009,
          2008,
          2007,
          2006,
          2005,
          2004,
          2003,
          2002,
          2021,
          2020,
          2019,
          2018,
          2017,
          2016,
          2015,
          2014,
          2013,
          2012,
          2011,
          2010,
          2009,
          2008,
          2007,
          2006,
          2005,
          2004,
          2003,
          2002,
          2021,
          2020,
          2019,
          2018,
          2017,
          2016,
          2015,
          2014,
          2013,
          2012,
          2011,
          2010,
          2009,
          2008,
          2007,
          2006,
          2005,
          2004,
          2003,
          2002,
          2021,
          2020,
          2019,
          2018,
          2017,
          2016,
          2015,
          2014,
          2013,
          2012,
          2011,
          2010,
          2009,
          2008,
          2007,
          2006,
          2005,
          2004,
          2003,
          2002,
          2021,
          2020,
          2019,
          2018,
          2017,
          2016,
          2015,
          2014,
          2013,
          2012,
          2011,
          2010,
          2009,
          2008,
          2007,
          2006,
          2005,
          2004,
          2003,
          2002,
          2021,
          2020,
          2019,
          2018,
          2017,
          2016,
          2015,
          2014,
          2013,
          2012,
          2011,
          2010,
          2009,
          2008,
          2007,
          2006,
          2005,
          2004,
          2003,
          2002,
          2021,
          2020,
          2019,
          2018,
          2017,
          2016,
          2015,
          2014,
          2013,
          2012,
          2011,
          2010,
          2009,
          2008,
          2007,
          2006,
          2005,
          2004,
          2003,
          2002,
          2021,
          2020,
          2019,
          2018,
          2017,
          2016,
          2015,
          2014,
          2013,
          2012,
          2011,
          2010,
          2009,
          2008,
          2007,
          2006,
          2005,
          2004,
          2003,
          2002,
          2021,
          2020,
          2019,
          2018,
          2017,
          2016,
          2015,
          2014,
          2013,
          2012,
          2011,
          2010,
          2009,
          2008,
          2007,
          2006,
          2005,
          2004,
          2003,
          2002,
          2021,
          2020,
          2019,
          2018,
          2017,
          2016,
          2015,
          2014,
          2013,
          2012,
          2011,
          2010,
          2009,
          2008,
          2007,
          2006,
          2005,
          2004,
          2003,
          2002,
          2021,
          2020,
          2019,
          2018,
          2017,
          2016,
          2015,
          2014,
          2013,
          2012,
          2011,
          2010,
          2009,
          2008,
          2007,
          2006,
          2005,
          2004,
          2003,
          2002,
          2021,
          2020,
          2019,
          2018,
          2017,
          2016,
          2015,
          2014,
          2013,
          2012,
          2011,
          2010,
          2009,
          2008,
          2007,
          2006,
          2005,
          2004,
          2003,
          2002,
          2021,
          2020,
          2019,
          2018,
          2017,
          2016,
          2015,
          2014,
          2013,
          2012,
          2011,
          2010,
          2009,
          2008,
          2007,
          2006,
          2005,
          2004,
          2003,
          2002,
          2021,
          2020,
          2019,
          2018,
          2017,
          2016,
          2015,
          2014,
          2013,
          2012,
          2011,
          2010,
          2009,
          2008,
          2007,
          2006,
          2005,
          2004,
          2003,
          2002,
          2021,
          2020,
          2019,
          2018,
          2017,
          2016,
          2015,
          2014,
          2013,
          2012,
          2011,
          2010,
          2009,
          2008,
          2007,
          2006,
          2005,
          2004,
          2003,
          2002,
          2021,
          2020,
          2019,
          2018,
          2017,
          2016,
          2015,
          2014,
          2013,
          2012,
          2011,
          2010,
          2009,
          2008,
          2007,
          2006,
          2005,
          2004,
          2003,
          2002,
          2021,
          2020,
          2019,
          2018,
          2017,
          2016,
          2015,
          2014,
          2013,
          2012,
          2011,
          2010,
          2009,
          2008,
          2007,
          2006,
          2005,
          2004,
          2003,
          2002
         ],
         "xaxis": "x",
         "y": [
          7.12,
          7.19,
          7.62,
          7.94,
          8.41,
          8.8,
          9.02,
          9.17,
          9.11,
          9.69,
          10.07,
          10.42,
          10.65,
          11.28,
          10.86,
          10.85,
          10.65,
          10.57,
          10.44,
          10.08,
          7.72,
          7.72,
          8.21,
          8.45,
          8.89,
          9.43,
          9.6,
          9.8,
          9.71,
          10.3,
          10.72,
          11.1,
          11.48,
          12.28,
          11.93,
          12.03,
          11.76,
          11.64,
          11.42,
          11.01,
          7.21,
          6.83,
          7.28,
          7.58,
          8.0,
          8.3,
          8.59,
          8.73,
          8.74,
          8.94,
          9.38,
          9.63,
          9.72,
          10.23,
          9.82,
          9.57,
          9.2,
          9.21,
          8.93,
          8.51,
          4.74,
          4.7,
          5.05,
          5.6,
          5.84,
          6.12,
          6.18,
          6.26,
          6.28,
          7.12,
          7.24,
          7.21,
          7.63,
          7.65,
          7.33,
          7.14,
          7.04,
          6.8,
          6.69,
          6.34,
          7.81,
          7.78,
          8.08,
          8.75,
          8.88,
          9.29,
          9.38,
          9.53,
          9.46,
          9.96,
          10.28,
          11.0,
          11.17,
          12.02,
          11.62,
          11.83,
          11.44,
          11.68,
          11.86,
          12.03,
          5.67,
          5.87,
          6.37,
          6.75,
          7.29,
          7.54,
          7.59,
          7.74,
          7.52,
          8.22,
          8.4,
          8.92,
          9.32,
          10.28,
          10.03,
          10.75,
          10.73,
          10.51,
          10.83,
          11.24,
          5.63,
          5.85,
          6.1,
          6.55,
          7.09,
          7.3,
          7.5,
          7.79,
          8.21,
          8.57,
          9.03,
          9.46,
          9.58,
          10.13,
          9.39,
          9.27,
          9.44,
          9.18,
          8.94,
          8.47,
          5.5,
          5.71,
          5.96,
          6.24,
          6.4,
          6.82,
          7.06,
          7.2,
          7.11,
          7.54,
          7.82,
          8.05,
          8.01,
          8.37,
          7.94,
          7.9,
          7.81,
          7.64,
          7.54,
          7.36,
          7.1,
          7.21,
          7.51,
          7.8,
          8.29,
          8.71,
          8.87,
          8.9,
          9.15,
          9.71,
          10.16,
          10.52,
          10.75,
          11.24,
          10.42,
          10.5,
          10.03,
          10.01,
          9.95,
          9.63,
          7.52,
          7.64,
          8.09,
          8.46,
          8.97,
          9.29,
          9.53,
          9.67,
          9.62,
          10.33,
          10.83,
          11.28,
          11.44,
          12.1,
          11.62,
          11.63,
          11.49,
          11.35,
          11.03,
          10.59,
          7.06,
          7.1,
          7.47,
          7.68,
          8.18,
          8.52,
          8.81,
          8.96,
          8.9,
          9.52,
          9.89,
          10.36,
          10.51,
          11.51,
          11.19,
          11.14,
          10.95,
          10.89,
          10.8,
          10.39,
          6.87,
          6.97,
          7.2,
          7.33,
          7.92,
          8.12,
          8.18,
          8.38,
          8.09,
          8.55,
          9.01,
          9.2,
          9.4,
          9.84,
          9.19,
          9.39,
          9.32,
          9.28,
          9.38,
          9.24,
          5.5,
          5.65,
          5.82,
          6.14,
          6.82,
          7.03,
          7.13,
          7.17,
          7.17,
          7.63,
          7.79,
          7.95,
          8.14,
          8.4,
          7.92,
          7.83,
          7.74,
          7.6,
          7.54,
          7.16,
          7.62,
          7.75,
          8.34,
          8.74,
          9.31,
          9.79,
          10.14,
          10.27,
          10.22,
          10.8,
          11.24,
          11.57,
          11.95,
          12.54,
          12.16,
          11.98,
          11.73,
          11.88,
          11.75,
          11.36,
          9.11,
          9.08,
          9.54,
          9.92,
          10.24,
          10.57,
          10.91,
          11.15,
          11.02,
          11.42,
          11.91,
          12.38,
          12.82,
          13.54,
          13.24,
          13.23,
          12.98,
          12.91,
          13.04,
          12.65,
          7.78,
          7.66,
          8.23,
          8.35,
          8.96,
          9.24,
          9.44,
          9.72,
          9.54,
          10.53,
          10.57,
          10.67,
          10.86,
          11.3,
          10.82,
          10.98,
          10.46,
          10.85,
          10.8,
          10.31,
          6.56,
          6.73,
          7.08,
          7.41,
          7.88,
          8.43,
          8.71,
          8.95,
          8.81,
          9.42,
          9.69,
          9.71,
          9.6,
          9.83,
          9.57,
          9.38,
          9.29,
          9.29,
          9.19,
          8.69,
          6.94,
          7.33,
          7.66,
          7.45,
          8.21,
          8.51,
          8.73,
          9.02,
          9.16,
          9.96,
          9.88,
          10.55,
          10.41,
          11.05,
          10.47,
          10.07,
          10.11,
          9.99,
          9.98,
          9.16,
          8.68,
          10.04,
          9.96,
          11.44,
          12.29,
          12.51,
          12.97,
          14.2,
          12.85,
          13.4,
          14.06,
          14.79,
          14.81,
          15.37,
          15.24,
          14.2,
          14.75,
          14.82,
          14.26,
          14.44,
          11.17,
          11.41,
          14.64,
          15.83,
          15.82,
          17.19,
          17.83,
          19.33,
          18.04,
          18.34,
          18.15,
          17.55,
          17.09,
          17.34,
          15.87,
          16.52,
          15.25,
          15.39,
          17.04,
          16.02
         ],
         "yaxis": "y",
         "type": "bar"
        },
        {
         "alignmentgroup": "True",
         "hovertemplate": "Nacionalidad=Española<br>Periodo=%{x}<br>Total=%{y}<extra></extra>",
         "legendgroup": "Española",
         "marker": {
          "color": "#EF553B",
          "pattern": {
           "shape": ""
          }
         },
         "name": "Española",
         "offsetgroup": "Española",
         "orientation": "v",
         "showlegend": true,
         "textposition": "auto",
         "x": [
          2021,
          2020,
          2019,
          2018,
          2017,
          2016,
          2015,
          2014,
          2013,
          2012,
          2011,
          2010,
          2009,
          2008,
          2007,
          2006,
          2005,
          2004,
          2003,
          2002,
          2021,
          2020,
          2019,
          2018,
          2017,
          2016,
          2015,
          2014,
          2013,
          2012,
          2011,
          2010,
          2009,
          2008,
          2007,
          2006,
          2005,
          2004,
          2003,
          2002,
          2021,
          2020,
          2019,
          2018,
          2017,
          2016,
          2015,
          2014,
          2013,
          2012,
          2011,
          2010,
          2009,
          2008,
          2007,
          2006,
          2005,
          2004,
          2003,
          2002,
          2021,
          2020,
          2019,
          2018,
          2017,
          2016,
          2015,
          2014,
          2013,
          2012,
          2011,
          2010,
          2009,
          2008,
          2007,
          2006,
          2005,
          2004,
          2003,
          2002,
          2021,
          2020,
          2019,
          2018,
          2017,
          2016,
          2015,
          2014,
          2013,
          2012,
          2011,
          2010,
          2009,
          2008,
          2007,
          2006,
          2005,
          2004,
          2003,
          2002,
          2021,
          2020,
          2019,
          2018,
          2017,
          2016,
          2015,
          2014,
          2013,
          2012,
          2011,
          2010,
          2009,
          2008,
          2007,
          2006,
          2005,
          2004,
          2003,
          2002,
          2021,
          2020,
          2019,
          2018,
          2017,
          2016,
          2015,
          2014,
          2013,
          2012,
          2011,
          2010,
          2009,
          2008,
          2007,
          2006,
          2005,
          2004,
          2003,
          2002,
          2021,
          2020,
          2019,
          2018,
          2017,
          2016,
          2015,
          2014,
          2013,
          2012,
          2011,
          2010,
          2009,
          2008,
          2007,
          2006,
          2005,
          2004,
          2003,
          2002,
          2021,
          2020,
          2019,
          2018,
          2017,
          2016,
          2015,
          2014,
          2013,
          2012,
          2011,
          2010,
          2009,
          2008,
          2007,
          2006,
          2005,
          2004,
          2003,
          2002,
          2021,
          2020,
          2019,
          2018,
          2017,
          2016,
          2015,
          2014,
          2013,
          2012,
          2011,
          2010,
          2009,
          2008,
          2007,
          2006,
          2005,
          2004,
          2003,
          2002,
          2021,
          2020,
          2019,
          2018,
          2017,
          2016,
          2015,
          2014,
          2013,
          2012,
          2011,
          2010,
          2009,
          2008,
          2007,
          2006,
          2005,
          2004,
          2003,
          2002,
          2021,
          2020,
          2019,
          2018,
          2017,
          2016,
          2015,
          2014,
          2013,
          2012,
          2011,
          2010,
          2009,
          2008,
          2007,
          2006,
          2005,
          2004,
          2003,
          2002,
          2021,
          2020,
          2019,
          2018,
          2017,
          2016,
          2015,
          2014,
          2013,
          2012,
          2011,
          2010,
          2009,
          2008,
          2007,
          2006,
          2005,
          2004,
          2003,
          2002,
          2021,
          2020,
          2019,
          2018,
          2017,
          2016,
          2015,
          2014,
          2013,
          2012,
          2011,
          2010,
          2009,
          2008,
          2007,
          2006,
          2005,
          2004,
          2003,
          2002,
          2021,
          2020,
          2019,
          2018,
          2017,
          2016,
          2015,
          2014,
          2013,
          2012,
          2011,
          2010,
          2009,
          2008,
          2007,
          2006,
          2005,
          2004,
          2003,
          2002,
          2021,
          2020,
          2019,
          2018,
          2017,
          2016,
          2015,
          2014,
          2013,
          2012,
          2011,
          2010,
          2009,
          2008,
          2007,
          2006,
          2005,
          2004,
          2003,
          2002,
          2021,
          2020,
          2019,
          2018,
          2017,
          2016,
          2015,
          2014,
          2013,
          2012,
          2011,
          2010,
          2009,
          2008,
          2007,
          2006,
          2005,
          2004,
          2003,
          2002,
          2021,
          2020,
          2019,
          2018,
          2017,
          2016,
          2015,
          2014,
          2013,
          2012,
          2011,
          2010,
          2009,
          2008,
          2007,
          2006,
          2005,
          2004,
          2003,
          2002,
          2021,
          2020,
          2019,
          2018,
          2017,
          2016,
          2015,
          2014,
          2013,
          2012,
          2011,
          2010,
          2009,
          2008,
          2007,
          2006,
          2005,
          2004,
          2003,
          2002,
          2021,
          2020,
          2019,
          2018,
          2017,
          2016,
          2015,
          2014,
          2013,
          2012,
          2011,
          2010,
          2009,
          2008,
          2007,
          2006,
          2005,
          2004,
          2003,
          2002
         ],
         "xaxis": "x",
         "y": [
          6.31,
          6.28,
          6.65,
          7.01,
          7.53,
          7.95,
          8.21,
          8.37,
          8.3,
          8.82,
          9.16,
          9.38,
          9.58,
          10.1,
          9.86,
          10.02,
          9.91,
          9.86,
          9.8,
          9.51,
          7.3,
          7.23,
          7.66,
          7.95,
          8.43,
          8.98,
          9.19,
          9.4,
          9.3,
          9.87,
          10.25,
          10.56,
          10.91,
          11.65,
          11.39,
          11.65,
          11.46,
          11.27,
          11.13,
          10.78,
          6.11,
          5.78,
          6.16,
          6.43,
          6.93,
          7.19,
          7.61,
          7.7,
          7.7,
          7.82,
          8.21,
          8.23,
          8.29,
          8.7,
          8.6,
          8.54,
          8.36,
          8.46,
          8.18,
          7.95,
          4.41,
          4.29,
          4.65,
          5.2,
          5.5,
          5.78,
          5.84,
          5.96,
          5.92,
          6.75,
          6.84,
          6.77,
          7.2,
          7.22,
          6.97,
          6.86,
          6.73,
          6.54,
          6.46,
          6.17,
          7.02,
          6.81,
          6.92,
          7.71,
          7.87,
          8.3,
          8.51,
          8.71,
          8.4,
          8.81,
          9.15,
          9.58,
          9.52,
          10.33,
          10.34,
          10.64,
          10.32,
          10.67,
          10.82,
          11.01,
          5.4,
          5.49,
          5.97,
          6.38,
          6.96,
          7.21,
          7.28,
          7.44,
          7.22,
          7.78,
          7.97,
          8.38,
          8.7,
          9.65,
          9.57,
          10.3,
          10.29,
          10.18,
          10.47,
          10.76,
          5.24,
          5.39,
          5.62,
          6.12,
          6.69,
          6.9,
          7.08,
          7.37,
          7.82,
          8.1,
          8.51,
          8.89,
          8.97,
          9.5,
          8.8,
          8.89,
          9.09,
          8.84,
          8.66,
          8.2,
          5.01,
          5.13,
          5.35,
          5.71,
          5.89,
          6.35,
          6.54,
          6.71,
          6.61,
          6.96,
          7.18,
          7.32,
          7.28,
          7.55,
          7.29,
          7.34,
          7.34,
          7.24,
          7.19,
          7.07,
          6.34,
          6.34,
          6.65,
          7.03,
          7.52,
          7.98,
          8.18,
          8.24,
          8.39,
          8.84,
          9.22,
          9.33,
          9.57,
          9.92,
          9.35,
          9.61,
          9.34,
          9.31,
          9.38,
          9.25,
          6.02,
          6.0,
          6.37,
          6.83,
          7.36,
          7.75,
          8.06,
          8.19,
          8.15,
          8.75,
          9.18,
          9.47,
          9.69,
          10.28,
          10.09,
          10.33,
          10.3,
          10.22,
          10.07,
          9.76,
          6.38,
          6.28,
          6.68,
          6.9,
          7.48,
          7.87,
          8.21,
          8.4,
          8.35,
          8.91,
          9.2,
          9.55,
          9.67,
          10.46,
          10.35,
          10.44,
          10.31,
          10.25,
          10.24,
          9.9,
          6.58,
          6.61,
          6.84,
          6.99,
          7.62,
          7.83,
          7.9,
          8.12,
          7.82,
          8.32,
          8.67,
          8.82,
          9.05,
          9.45,
          8.89,
          9.13,
          9.06,
          8.98,
          9.17,
          9.05,
          5.15,
          5.3,
          5.47,
          5.82,
          6.54,
          6.78,
          6.91,
          6.91,
          6.91,
          7.33,
          7.51,
          7.59,
          7.77,
          8.03,
          7.62,
          7.58,
          7.48,
          7.36,
          7.32,
          6.97,
          6.68,
          6.69,
          7.17,
          7.56,
          8.17,
          8.67,
          9.05,
          9.14,
          9.09,
          9.6,
          10.07,
          10.21,
          10.52,
          10.86,
          10.63,
          10.69,
          10.6,
          10.74,
          10.66,
          10.25,
          8.0,
          7.77,
          8.16,
          8.6,
          9.02,
          9.39,
          9.81,
          10.1,
          10.01,
          10.3,
          10.72,
          11.08,
          11.4,
          11.92,
          11.77,
          12.09,
          11.9,
          11.77,
          11.89,
          11.58,
          6.53,
          6.27,
          6.79,
          7.09,
          7.71,
          8.24,
          8.4,
          8.84,
          8.64,
          9.39,
          9.52,
          9.36,
          9.64,
          9.99,
          9.63,
          9.82,
          9.59,
          9.94,
          10.0,
          9.69,
          5.51,
          5.6,
          5.92,
          6.29,
          6.86,
          7.36,
          7.7,
          8.03,
          7.94,
          8.56,
          8.88,
          8.92,
          8.71,
          8.98,
          8.96,
          8.94,
          8.92,
          8.96,
          8.9,
          8.45,
          5.68,
          5.94,
          6.11,
          6.02,
          6.65,
          7.01,
          7.36,
          7.81,
          7.78,
          8.45,
          8.13,
          8.59,
          8.79,
          9.06,
          8.62,
          8.54,
          8.76,
          8.89,
          9.02,
          8.45,
          7.48,
          8.12,
          8.33,
          9.33,
          10.28,
          10.67,
          11.17,
          12.36,
          11.04,
          11.95,
          12.19,
          12.5,
          12.58,
          13.06,
          13.62,
          12.79,
          13.48,
          13.23,
          13.12,
          13.08,
          8.66,
          8.23,
          9.45,
          10.47,
          9.7,
          10.92,
          11.2,
          12.6,
          12.29,
          11.91,
          12.4,
          12.37,
          12.23,
          12.43,
          11.33,
          11.72,
          11.1,
          11.57,
          12.1,
          11.92
         ],
         "yaxis": "y",
         "type": "bar"
        },
        {
         "alignmentgroup": "True",
         "hovertemplate": "Nacionalidad=Extranjera<br>Periodo=%{x}<br>Total=%{y}<extra></extra>",
         "legendgroup": "Extranjera",
         "marker": {
          "color": "#00cc96",
          "pattern": {
           "shape": ""
          }
         },
         "name": "Extranjera",
         "offsetgroup": "Extranjera",
         "orientation": "v",
         "showlegend": true,
         "textposition": "auto",
         "x": [
          2021,
          2020,
          2019,
          2018,
          2017,
          2016,
          2015,
          2014,
          2013,
          2012,
          2011,
          2010,
          2009,
          2008,
          2007,
          2006,
          2005,
          2004,
          2003,
          2002,
          2021,
          2020,
          2019,
          2018,
          2017,
          2016,
          2015,
          2014,
          2013,
          2012,
          2011,
          2010,
          2009,
          2008,
          2007,
          2006,
          2005,
          2004,
          2003,
          2002,
          2021,
          2020,
          2019,
          2018,
          2017,
          2016,
          2015,
          2014,
          2013,
          2012,
          2011,
          2010,
          2009,
          2008,
          2007,
          2006,
          2005,
          2004,
          2003,
          2002,
          2021,
          2020,
          2019,
          2018,
          2017,
          2016,
          2015,
          2014,
          2013,
          2012,
          2011,
          2010,
          2009,
          2008,
          2007,
          2006,
          2005,
          2004,
          2003,
          2002,
          2021,
          2020,
          2019,
          2018,
          2017,
          2016,
          2015,
          2014,
          2013,
          2012,
          2011,
          2010,
          2009,
          2008,
          2007,
          2006,
          2005,
          2004,
          2003,
          2002,
          2021,
          2020,
          2019,
          2018,
          2017,
          2016,
          2015,
          2014,
          2013,
          2012,
          2011,
          2010,
          2009,
          2008,
          2007,
          2006,
          2005,
          2004,
          2003,
          2002,
          2021,
          2020,
          2019,
          2018,
          2017,
          2016,
          2015,
          2014,
          2013,
          2012,
          2011,
          2010,
          2009,
          2008,
          2007,
          2006,
          2005,
          2004,
          2003,
          2002,
          2021,
          2020,
          2019,
          2018,
          2017,
          2016,
          2015,
          2014,
          2013,
          2012,
          2011,
          2010,
          2009,
          2008,
          2007,
          2006,
          2005,
          2004,
          2003,
          2002,
          2021,
          2020,
          2019,
          2018,
          2017,
          2016,
          2015,
          2014,
          2013,
          2012,
          2011,
          2010,
          2009,
          2008,
          2007,
          2006,
          2005,
          2004,
          2003,
          2002,
          2021,
          2020,
          2019,
          2018,
          2017,
          2016,
          2015,
          2014,
          2013,
          2012,
          2011,
          2010,
          2009,
          2008,
          2007,
          2006,
          2005,
          2004,
          2003,
          2002,
          2021,
          2020,
          2019,
          2018,
          2017,
          2016,
          2015,
          2014,
          2013,
          2012,
          2011,
          2010,
          2009,
          2008,
          2007,
          2006,
          2005,
          2004,
          2003,
          2002,
          2021,
          2020,
          2019,
          2018,
          2017,
          2016,
          2015,
          2014,
          2013,
          2012,
          2011,
          2010,
          2009,
          2008,
          2007,
          2006,
          2005,
          2004,
          2003,
          2002,
          2021,
          2020,
          2019,
          2018,
          2017,
          2016,
          2015,
          2014,
          2013,
          2012,
          2011,
          2010,
          2009,
          2008,
          2007,
          2006,
          2005,
          2004,
          2003,
          2002,
          2021,
          2020,
          2019,
          2018,
          2017,
          2016,
          2015,
          2014,
          2013,
          2012,
          2011,
          2010,
          2009,
          2008,
          2007,
          2006,
          2005,
          2004,
          2003,
          2002,
          2021,
          2020,
          2019,
          2018,
          2017,
          2016,
          2015,
          2014,
          2013,
          2012,
          2011,
          2010,
          2009,
          2008,
          2007,
          2006,
          2005,
          2004,
          2003,
          2002,
          2021,
          2020,
          2019,
          2018,
          2017,
          2016,
          2015,
          2014,
          2013,
          2012,
          2011,
          2010,
          2009,
          2008,
          2007,
          2006,
          2005,
          2004,
          2003,
          2002,
          2021,
          2020,
          2019,
          2018,
          2017,
          2016,
          2015,
          2014,
          2013,
          2012,
          2011,
          2010,
          2009,
          2008,
          2007,
          2006,
          2005,
          2004,
          2003,
          2002,
          2021,
          2020,
          2019,
          2018,
          2017,
          2016,
          2015,
          2014,
          2013,
          2012,
          2011,
          2010,
          2009,
          2008,
          2007,
          2006,
          2005,
          2004,
          2003,
          2002,
          2021,
          2020,
          2019,
          2018,
          2017,
          2016,
          2015,
          2014,
          2013,
          2012,
          2011,
          2010,
          2009,
          2008,
          2007,
          2006,
          2005,
          2004,
          2003,
          2002,
          2021,
          2020,
          2019,
          2018,
          2017,
          2016,
          2015,
          2014,
          2013,
          2012,
          2011,
          2010,
          2009,
          2008,
          2007,
          2006,
          2005,
          2004,
          2003,
          2002
         ],
         "xaxis": "x",
         "y": [
          13.51,
          14.39,
          15.72,
          16.27,
          16.75,
          16.97,
          16.71,
          16.59,
          16.05,
          16.78,
          17.24,
          18.46,
          18.69,
          20.34,
          19.27,
          18.86,
          18.57,
          19.74,
          19.99,
          21.02,
          12.19,
          13.1,
          14.51,
          14.52,
          14.53,
          14.98,
          14.69,
          14.66,
          14.64,
          15.38,
          16.29,
          17.46,
          18.17,
          19.94,
          19.19,
          17.77,
          17.0,
          19.56,
          18.52,
          17.96,
          15.55,
          14.12,
          15.59,
          16.86,
          16.87,
          17.59,
          16.62,
          17.0,
          16.51,
          17.0,
          17.7,
          19.44,
          19.45,
          21.13,
          20.02,
          19.98,
          19.11,
          20.11,
          22.05,
          20.93,
          11.44,
          12.99,
          14.07,
          15.05,
          14.38,
          14.94,
          14.84,
          13.68,
          14.36,
          15.08,
          15.85,
          17.03,
          17.28,
          18.34,
          18.09,
          17.1,
          19.08,
          18.28,
          18.39,
          17.1,
          10.52,
          11.18,
          12.35,
          12.81,
          13.07,
          13.43,
          13.09,
          13.01,
          13.83,
          14.56,
          14.73,
          16.42,
          17.35,
          18.58,
          17.02,
          17.45,
          17.45,
          17.91,
          19.19,
          21.18,
          7.02,
          7.83,
          8.5,
          8.91,
          9.34,
          9.67,
          9.6,
          9.7,
          9.46,
          11.06,
          11.18,
          12.36,
          13.26,
          14.4,
          13.24,
          14.25,
          14.37,
          13.67,
          14.76,
          17.53,
          11.41,
          12.75,
          13.68,
          13.98,
          14.21,
          14.74,
          15.01,
          15.01,
          14.43,
          15.53,
          16.71,
          17.79,
          18.49,
          20.08,
          20.36,
          17.86,
          18.22,
          19.76,
          19.13,
          20.86,
          12.59,
          14.06,
          15.5,
          15.15,
          15.21,
          15.04,
          15.74,
          15.22,
          14.88,
          16.1,
          17.13,
          18.56,
          18.64,
          20.58,
          19.13,
          19.96,
          19.56,
          19.87,
          20.61,
          21.12,
          14.18,
          15.43,
          16.14,
          16.04,
          16.83,
          16.66,
          16.15,
          15.59,
          16.43,
          17.44,
          18.32,
          20.86,
          20.8,
          22.76,
          21.05,
          21.69,
          20.29,
          23.1,
          22.91,
          21.42,
          16.37,
          17.22,
          18.71,
          19.46,
          20.67,
          20.77,
          20.34,
          20.26,
          18.93,
          19.61,
          20.08,
          21.19,
          20.74,
          22.0,
          20.75,
          20.4,
          20.46,
          21.5,
          21.26,
          22.54,
          10.97,
          11.88,
          12.31,
          12.82,
          12.91,
          12.98,
          12.8,
          12.6,
          12.2,
          12.99,
          13.7,
          14.79,
          14.89,
          17.0,
          15.9,
          15.58,
          15.53,
          16.32,
          16.53,
          17.02,
          15.11,
          17.05,
          18.2,
          18.22,
          17.76,
          17.79,
          16.81,
          16.26,
          15.59,
          15.01,
          18.3,
          20.0,
          19.55,
          21.51,
          19.37,
          19.66,
          20.86,
          25.37,
          22.09,
          23.63,
          12.69,
          13.1,
          14.32,
          14.48,
          14.78,
          14.15,
          13.42,
          14.58,
          14.21,
          15.17,
          15.08,
          17.39,
          17.72,
          18.43,
          17.08,
          16.59,
          18.1,
          18.25,
          18.8,
          18.54,
          14.06,
          14.86,
          16.77,
          17.91,
          18.74,
          19.11,
          19.01,
          19.0,
          17.89,
          18.05,
          17.91,
          18.97,
          19.42,
          21.44,
          20.88,
          20.23,
          19.5,
          20.7,
          21.05,
          23.26,
          15.76,
          16.9,
          17.98,
          18.4,
          18.08,
          18.11,
          17.75,
          17.52,
          16.9,
          17.69,
          18.36,
          19.17,
          20.11,
          22.02,
          21.35,
          20.32,
          20.43,
          22.49,
          24.41,
          26.12,
          18.91,
          19.89,
          21.98,
          21.48,
          23.2,
          20.97,
          21.49,
          19.53,
          18.62,
          20.93,
          19.68,
          21.81,
          21.12,
          22.48,
          21.96,
          23.63,
          20.7,
          22.56,
          22.2,
          21.41,
          21.69,
          22.72,
          25.21,
          26.73,
          26.9,
          28.98,
          28.26,
          26.17,
          23.41,
          22.34,
          21.23,
          20.83,
          22.41,
          22.92,
          20.26,
          18.76,
          18.42,
          19.2,
          19.99,
          20.62,
          15.91,
          17.26,
          19.49,
          19.07,
          21.36,
          21.36,
          20.24,
          18.78,
          19.13,
          19.79,
          20.78,
          22.65,
          20.19,
          23.03,
          22.78,
          21.83,
          21.39,
          20.8,
          21.47,
          20.02,
          32.35,
          44.34,
          37.88,
          47.22,
          44.79,
          43.2,
          43.54,
          45.52,
          39.26,
          33.29,
          41.19,
          52.47,
          56.74,
          63.58,
          50.34,
          44.68,
          43.8,
          49.76,
          38.97,
          43.29,
          34.09,
          38.14,
          55.78,
          56.7,
          60.41,
          62.23,
          64.61,
          66.75,
          54.65,
          57.47,
          55.62,
          53.44,
          53.11,
          57.11,
          56.76,
          66.33,
          64.04,
          69.46,
          72.98,
          54.43
         ],
         "yaxis": "y",
         "type": "bar"
        }
       ],
       "layout": {
        "template": {
         "data": {
          "histogram2dcontour": [
           {
            "type": "histogram2dcontour",
            "colorbar": {
             "outlinewidth": 0,
             "ticks": ""
            },
            "colorscale": [
             [
              0.0,
              "#0d0887"
             ],
             [
              0.1111111111111111,
              "#46039f"
             ],
             [
              0.2222222222222222,
              "#7201a8"
             ],
             [
              0.3333333333333333,
              "#9c179e"
             ],
             [
              0.4444444444444444,
              "#bd3786"
             ],
             [
              0.5555555555555556,
              "#d8576b"
             ],
             [
              0.6666666666666666,
              "#ed7953"
             ],
             [
              0.7777777777777778,
              "#fb9f3a"
             ],
             [
              0.8888888888888888,
              "#fdca26"
             ],
             [
              1.0,
              "#f0f921"
             ]
            ]
           }
          ],
          "choropleth": [
           {
            "type": "choropleth",
            "colorbar": {
             "outlinewidth": 0,
             "ticks": ""
            }
           }
          ],
          "histogram2d": [
           {
            "type": "histogram2d",
            "colorbar": {
             "outlinewidth": 0,
             "ticks": ""
            },
            "colorscale": [
             [
              0.0,
              "#0d0887"
             ],
             [
              0.1111111111111111,
              "#46039f"
             ],
             [
              0.2222222222222222,
              "#7201a8"
             ],
             [
              0.3333333333333333,
              "#9c179e"
             ],
             [
              0.4444444444444444,
              "#bd3786"
             ],
             [
              0.5555555555555556,
              "#d8576b"
             ],
             [
              0.6666666666666666,
              "#ed7953"
             ],
             [
              0.7777777777777778,
              "#fb9f3a"
             ],
             [
              0.8888888888888888,
              "#fdca26"
             ],
             [
              1.0,
              "#f0f921"
             ]
            ]
           }
          ],
          "heatmap": [
           {
            "type": "heatmap",
            "colorbar": {
             "outlinewidth": 0,
             "ticks": ""
            },
            "colorscale": [
             [
              0.0,
              "#0d0887"
             ],
             [
              0.1111111111111111,
              "#46039f"
             ],
             [
              0.2222222222222222,
              "#7201a8"
             ],
             [
              0.3333333333333333,
              "#9c179e"
             ],
             [
              0.4444444444444444,
              "#bd3786"
             ],
             [
              0.5555555555555556,
              "#d8576b"
             ],
             [
              0.6666666666666666,
              "#ed7953"
             ],
             [
              0.7777777777777778,
              "#fb9f3a"
             ],
             [
              0.8888888888888888,
              "#fdca26"
             ],
             [
              1.0,
              "#f0f921"
             ]
            ]
           }
          ],
          "heatmapgl": [
           {
            "type": "heatmapgl",
            "colorbar": {
             "outlinewidth": 0,
             "ticks": ""
            },
            "colorscale": [
             [
              0.0,
              "#0d0887"
             ],
             [
              0.1111111111111111,
              "#46039f"
             ],
             [
              0.2222222222222222,
              "#7201a8"
             ],
             [
              0.3333333333333333,
              "#9c179e"
             ],
             [
              0.4444444444444444,
              "#bd3786"
             ],
             [
              0.5555555555555556,
              "#d8576b"
             ],
             [
              0.6666666666666666,
              "#ed7953"
             ],
             [
              0.7777777777777778,
              "#fb9f3a"
             ],
             [
              0.8888888888888888,
              "#fdca26"
             ],
             [
              1.0,
              "#f0f921"
             ]
            ]
           }
          ],
          "contourcarpet": [
           {
            "type": "contourcarpet",
            "colorbar": {
             "outlinewidth": 0,
             "ticks": ""
            }
           }
          ],
          "contour": [
           {
            "type": "contour",
            "colorbar": {
             "outlinewidth": 0,
             "ticks": ""
            },
            "colorscale": [
             [
              0.0,
              "#0d0887"
             ],
             [
              0.1111111111111111,
              "#46039f"
             ],
             [
              0.2222222222222222,
              "#7201a8"
             ],
             [
              0.3333333333333333,
              "#9c179e"
             ],
             [
              0.4444444444444444,
              "#bd3786"
             ],
             [
              0.5555555555555556,
              "#d8576b"
             ],
             [
              0.6666666666666666,
              "#ed7953"
             ],
             [
              0.7777777777777778,
              "#fb9f3a"
             ],
             [
              0.8888888888888888,
              "#fdca26"
             ],
             [
              1.0,
              "#f0f921"
             ]
            ]
           }
          ],
          "surface": [
           {
            "type": "surface",
            "colorbar": {
             "outlinewidth": 0,
             "ticks": ""
            },
            "colorscale": [
             [
              0.0,
              "#0d0887"
             ],
             [
              0.1111111111111111,
              "#46039f"
             ],
             [
              0.2222222222222222,
              "#7201a8"
             ],
             [
              0.3333333333333333,
              "#9c179e"
             ],
             [
              0.4444444444444444,
              "#bd3786"
             ],
             [
              0.5555555555555556,
              "#d8576b"
             ],
             [
              0.6666666666666666,
              "#ed7953"
             ],
             [
              0.7777777777777778,
              "#fb9f3a"
             ],
             [
              0.8888888888888888,
              "#fdca26"
             ],
             [
              1.0,
              "#f0f921"
             ]
            ]
           }
          ],
          "mesh3d": [
           {
            "type": "mesh3d",
            "colorbar": {
             "outlinewidth": 0,
             "ticks": ""
            }
           }
          ],
          "scatter": [
           {
            "marker": {
             "line": {
              "color": "#283442"
             }
            },
            "type": "scatter"
           }
          ],
          "parcoords": [
           {
            "type": "parcoords",
            "line": {
             "colorbar": {
              "outlinewidth": 0,
              "ticks": ""
             }
            }
           }
          ],
          "scatterpolargl": [
           {
            "type": "scatterpolargl",
            "marker": {
             "colorbar": {
              "outlinewidth": 0,
              "ticks": ""
             }
            }
           }
          ],
          "bar": [
           {
            "error_x": {
             "color": "#f2f5fa"
            },
            "error_y": {
             "color": "#f2f5fa"
            },
            "marker": {
             "line": {
              "color": "rgb(17,17,17)",
              "width": 0.5
             },
             "pattern": {
              "fillmode": "overlay",
              "size": 10,
              "solidity": 0.2
             }
            },
            "type": "bar"
           }
          ],
          "scattergeo": [
           {
            "type": "scattergeo",
            "marker": {
             "colorbar": {
              "outlinewidth": 0,
              "ticks": ""
             }
            }
           }
          ],
          "scatterpolar": [
           {
            "type": "scatterpolar",
            "marker": {
             "colorbar": {
              "outlinewidth": 0,
              "ticks": ""
             }
            }
           }
          ],
          "histogram": [
           {
            "marker": {
             "pattern": {
              "fillmode": "overlay",
              "size": 10,
              "solidity": 0.2
             }
            },
            "type": "histogram"
           }
          ],
          "scattergl": [
           {
            "marker": {
             "line": {
              "color": "#283442"
             }
            },
            "type": "scattergl"
           }
          ],
          "scatter3d": [
           {
            "type": "scatter3d",
            "line": {
             "colorbar": {
              "outlinewidth": 0,
              "ticks": ""
             }
            },
            "marker": {
             "colorbar": {
              "outlinewidth": 0,
              "ticks": ""
             }
            }
           }
          ],
          "scattermapbox": [
           {
            "type": "scattermapbox",
            "marker": {
             "colorbar": {
              "outlinewidth": 0,
              "ticks": ""
             }
            }
           }
          ],
          "scatterternary": [
           {
            "type": "scatterternary",
            "marker": {
             "colorbar": {
              "outlinewidth": 0,
              "ticks": ""
             }
            }
           }
          ],
          "scattercarpet": [
           {
            "type": "scattercarpet",
            "marker": {
             "colorbar": {
              "outlinewidth": 0,
              "ticks": ""
             }
            }
           }
          ],
          "carpet": [
           {
            "aaxis": {
             "endlinecolor": "#A2B1C6",
             "gridcolor": "#506784",
             "linecolor": "#506784",
             "minorgridcolor": "#506784",
             "startlinecolor": "#A2B1C6"
            },
            "baxis": {
             "endlinecolor": "#A2B1C6",
             "gridcolor": "#506784",
             "linecolor": "#506784",
             "minorgridcolor": "#506784",
             "startlinecolor": "#A2B1C6"
            },
            "type": "carpet"
           }
          ],
          "table": [
           {
            "cells": {
             "fill": {
              "color": "#506784"
             },
             "line": {
              "color": "rgb(17,17,17)"
             }
            },
            "header": {
             "fill": {
              "color": "#2a3f5f"
             },
             "line": {
              "color": "rgb(17,17,17)"
             }
            },
            "type": "table"
           }
          ],
          "barpolar": [
           {
            "marker": {
             "line": {
              "color": "rgb(17,17,17)",
              "width": 0.5
             },
             "pattern": {
              "fillmode": "overlay",
              "size": 10,
              "solidity": 0.2
             }
            },
            "type": "barpolar"
           }
          ],
          "pie": [
           {
            "automargin": true,
            "type": "pie"
           }
          ]
         },
         "layout": {
          "autotypenumbers": "strict",
          "colorway": [
           "#636efa",
           "#EF553B",
           "#00cc96",
           "#ab63fa",
           "#FFA15A",
           "#19d3f3",
           "#FF6692",
           "#B6E880",
           "#FF97FF",
           "#FECB52"
          ],
          "font": {
           "color": "#f2f5fa"
          },
          "hovermode": "closest",
          "hoverlabel": {
           "align": "left"
          },
          "paper_bgcolor": "rgb(17,17,17)",
          "plot_bgcolor": "rgb(17,17,17)",
          "polar": {
           "bgcolor": "rgb(17,17,17)",
           "angularaxis": {
            "gridcolor": "#506784",
            "linecolor": "#506784",
            "ticks": ""
           },
           "radialaxis": {
            "gridcolor": "#506784",
            "linecolor": "#506784",
            "ticks": ""
           }
          },
          "ternary": {
           "bgcolor": "rgb(17,17,17)",
           "aaxis": {
            "gridcolor": "#506784",
            "linecolor": "#506784",
            "ticks": ""
           },
           "baxis": {
            "gridcolor": "#506784",
            "linecolor": "#506784",
            "ticks": ""
           },
           "caxis": {
            "gridcolor": "#506784",
            "linecolor": "#506784",
            "ticks": ""
           }
          },
          "coloraxis": {
           "colorbar": {
            "outlinewidth": 0,
            "ticks": ""
           }
          },
          "colorscale": {
           "sequential": [
            [
             0.0,
             "#0d0887"
            ],
            [
             0.1111111111111111,
             "#46039f"
            ],
            [
             0.2222222222222222,
             "#7201a8"
            ],
            [
             0.3333333333333333,
             "#9c179e"
            ],
            [
             0.4444444444444444,
             "#bd3786"
            ],
            [
             0.5555555555555556,
             "#d8576b"
            ],
            [
             0.6666666666666666,
             "#ed7953"
            ],
            [
             0.7777777777777778,
             "#fb9f3a"
            ],
            [
             0.8888888888888888,
             "#fdca26"
            ],
            [
             1.0,
             "#f0f921"
            ]
           ],
           "sequentialminus": [
            [
             0.0,
             "#0d0887"
            ],
            [
             0.1111111111111111,
             "#46039f"
            ],
            [
             0.2222222222222222,
             "#7201a8"
            ],
            [
             0.3333333333333333,
             "#9c179e"
            ],
            [
             0.4444444444444444,
             "#bd3786"
            ],
            [
             0.5555555555555556,
             "#d8576b"
            ],
            [
             0.6666666666666666,
             "#ed7953"
            ],
            [
             0.7777777777777778,
             "#fb9f3a"
            ],
            [
             0.8888888888888888,
             "#fdca26"
            ],
            [
             1.0,
             "#f0f921"
            ]
           ],
           "diverging": [
            [
             0,
             "#8e0152"
            ],
            [
             0.1,
             "#c51b7d"
            ],
            [
             0.2,
             "#de77ae"
            ],
            [
             0.3,
             "#f1b6da"
            ],
            [
             0.4,
             "#fde0ef"
            ],
            [
             0.5,
             "#f7f7f7"
            ],
            [
             0.6,
             "#e6f5d0"
            ],
            [
             0.7,
             "#b8e186"
            ],
            [
             0.8,
             "#7fbc41"
            ],
            [
             0.9,
             "#4d9221"
            ],
            [
             1,
             "#276419"
            ]
           ]
          },
          "xaxis": {
           "gridcolor": "#283442",
           "linecolor": "#506784",
           "ticks": "",
           "title": {
            "standoff": 15
           },
           "zerolinecolor": "#283442",
           "automargin": true,
           "zerolinewidth": 2
          },
          "yaxis": {
           "gridcolor": "#283442",
           "linecolor": "#506784",
           "ticks": "",
           "title": {
            "standoff": 15
           },
           "zerolinecolor": "#283442",
           "automargin": true,
           "zerolinewidth": 2
          },
          "scene": {
           "xaxis": {
            "backgroundcolor": "rgb(17,17,17)",
            "gridcolor": "#506784",
            "linecolor": "#506784",
            "showbackground": true,
            "ticks": "",
            "zerolinecolor": "#C8D4E3",
            "gridwidth": 2
           },
           "yaxis": {
            "backgroundcolor": "rgb(17,17,17)",
            "gridcolor": "#506784",
            "linecolor": "#506784",
            "showbackground": true,
            "ticks": "",
            "zerolinecolor": "#C8D4E3",
            "gridwidth": 2
           },
           "zaxis": {
            "backgroundcolor": "rgb(17,17,17)",
            "gridcolor": "#506784",
            "linecolor": "#506784",
            "showbackground": true,
            "ticks": "",
            "zerolinecolor": "#C8D4E3",
            "gridwidth": 2
           }
          },
          "shapedefaults": {
           "line": {
            "color": "#f2f5fa"
           }
          },
          "annotationdefaults": {
           "arrowcolor": "#f2f5fa",
           "arrowhead": 0,
           "arrowwidth": 1
          },
          "geo": {
           "bgcolor": "rgb(17,17,17)",
           "landcolor": "rgb(17,17,17)",
           "subunitcolor": "#506784",
           "showland": true,
           "showlakes": true,
           "lakecolor": "rgb(17,17,17)"
          },
          "title": {
           "x": 0.05
          },
          "updatemenudefaults": {
           "bgcolor": "#506784",
           "borderwidth": 0
          },
          "sliderdefaults": {
           "bgcolor": "#C8D4E3",
           "borderwidth": 1,
           "bordercolor": "rgb(17,17,17)",
           "tickwidth": 0
          },
          "mapbox": {
           "style": "dark"
          }
         }
        },
        "xaxis": {
         "anchor": "y",
         "domain": [
          0.0,
          1.0
         ],
         "title": {
          "text": "Periodo"
         }
        },
        "yaxis": {
         "anchor": "x",
         "domain": [
          0.0,
          1.0
         ],
         "title": {
          "text": "Total"
         }
        },
        "legend": {
         "title": {
          "text": "Nacionalidad"
         },
         "tracegroupgap": 0
        },
        "margin": {
         "t": 60
        },
        "barmode": "group"
       },
       "config": {
        "plotlyServerURL": "https://plot.ly"
       }
      },
      "text/html": "<div>                            <div id=\"1f6fc29d-7bd5-4c90-aa13-72fbc4b1636c\" class=\"plotly-graph-div\" style=\"height:525px; width:100%;\"></div>            <script type=\"text/javascript\">                require([\"plotly\"], function(Plotly) {                    window.PLOTLYENV=window.PLOTLYENV || {};                                    if (document.getElementById(\"1f6fc29d-7bd5-4c90-aa13-72fbc4b1636c\")) {                    Plotly.newPlot(                        \"1f6fc29d-7bd5-4c90-aa13-72fbc4b1636c\",                        [{\"alignmentgroup\":\"True\",\"hovertemplate\":\"Nacionalidad=Ambas nacionalidades<br>Periodo=%{x}<br>Total=%{y}<extra></extra>\",\"legendgroup\":\"Ambas nacionalidades\",\"marker\":{\"color\":\"#636efa\",\"pattern\":{\"shape\":\"\"}},\"name\":\"Ambas nacionalidades\",\"offsetgroup\":\"Ambas nacionalidades\",\"orientation\":\"v\",\"showlegend\":true,\"textposition\":\"auto\",\"x\":[2021,2020,2019,2018,2017,2016,2015,2014,2013,2012,2011,2010,2009,2008,2007,2006,2005,2004,2003,2002,2021,2020,2019,2018,2017,2016,2015,2014,2013,2012,2011,2010,2009,2008,2007,2006,2005,2004,2003,2002,2021,2020,2019,2018,2017,2016,2015,2014,2013,2012,2011,2010,2009,2008,2007,2006,2005,2004,2003,2002,2021,2020,2019,2018,2017,2016,2015,2014,2013,2012,2011,2010,2009,2008,2007,2006,2005,2004,2003,2002,2021,2020,2019,2018,2017,2016,2015,2014,2013,2012,2011,2010,2009,2008,2007,2006,2005,2004,2003,2002,2021,2020,2019,2018,2017,2016,2015,2014,2013,2012,2011,2010,2009,2008,2007,2006,2005,2004,2003,2002,2021,2020,2019,2018,2017,2016,2015,2014,2013,2012,2011,2010,2009,2008,2007,2006,2005,2004,2003,2002,2021,2020,2019,2018,2017,2016,2015,2014,2013,2012,2011,2010,2009,2008,2007,2006,2005,2004,2003,2002,2021,2020,2019,2018,2017,2016,2015,2014,2013,2012,2011,2010,2009,2008,2007,2006,2005,2004,2003,2002,2021,2020,2019,2018,2017,2016,2015,2014,2013,2012,2011,2010,2009,2008,2007,2006,2005,2004,2003,2002,2021,2020,2019,2018,2017,2016,2015,2014,2013,2012,2011,2010,2009,2008,2007,2006,2005,2004,2003,2002,2021,2020,2019,2018,2017,2016,2015,2014,2013,2012,2011,2010,2009,2008,2007,2006,2005,2004,2003,2002,2021,2020,2019,2018,2017,2016,2015,2014,2013,2012,2011,2010,2009,2008,2007,2006,2005,2004,2003,2002,2021,2020,2019,2018,2017,2016,2015,2014,2013,2012,2011,2010,2009,2008,2007,2006,2005,2004,2003,2002,2021,2020,2019,2018,2017,2016,2015,2014,2013,2012,2011,2010,2009,2008,2007,2006,2005,2004,2003,2002,2021,2020,2019,2018,2017,2016,2015,2014,2013,2012,2011,2010,2009,2008,2007,2006,2005,2004,2003,2002,2021,2020,2019,2018,2017,2016,2015,2014,2013,2012,2011,2010,2009,2008,2007,2006,2005,2004,2003,2002,2021,2020,2019,2018,2017,2016,2015,2014,2013,2012,2011,2010,2009,2008,2007,2006,2005,2004,2003,2002,2021,2020,2019,2018,2017,2016,2015,2014,2013,2012,2011,2010,2009,2008,2007,2006,2005,2004,2003,2002,2021,2020,2019,2018,2017,2016,2015,2014,2013,2012,2011,2010,2009,2008,2007,2006,2005,2004,2003,2002],\"xaxis\":\"x\",\"y\":[7.12,7.19,7.62,7.94,8.41,8.8,9.02,9.17,9.11,9.69,10.07,10.42,10.65,11.28,10.86,10.85,10.65,10.57,10.44,10.08,7.72,7.72,8.21,8.45,8.89,9.43,9.6,9.8,9.71,10.3,10.72,11.1,11.48,12.28,11.93,12.03,11.76,11.64,11.42,11.01,7.21,6.83,7.28,7.58,8.0,8.3,8.59,8.73,8.74,8.94,9.38,9.63,9.72,10.23,9.82,9.57,9.2,9.21,8.93,8.51,4.74,4.7,5.05,5.6,5.84,6.12,6.18,6.26,6.28,7.12,7.24,7.21,7.63,7.65,7.33,7.14,7.04,6.8,6.69,6.34,7.81,7.78,8.08,8.75,8.88,9.29,9.38,9.53,9.46,9.96,10.28,11.0,11.17,12.02,11.62,11.83,11.44,11.68,11.86,12.03,5.67,5.87,6.37,6.75,7.29,7.54,7.59,7.74,7.52,8.22,8.4,8.92,9.32,10.28,10.03,10.75,10.73,10.51,10.83,11.24,5.63,5.85,6.1,6.55,7.09,7.3,7.5,7.79,8.21,8.57,9.03,9.46,9.58,10.13,9.39,9.27,9.44,9.18,8.94,8.47,5.5,5.71,5.96,6.24,6.4,6.82,7.06,7.2,7.11,7.54,7.82,8.05,8.01,8.37,7.94,7.9,7.81,7.64,7.54,7.36,7.1,7.21,7.51,7.8,8.29,8.71,8.87,8.9,9.15,9.71,10.16,10.52,10.75,11.24,10.42,10.5,10.03,10.01,9.95,9.63,7.52,7.64,8.09,8.46,8.97,9.29,9.53,9.67,9.62,10.33,10.83,11.28,11.44,12.1,11.62,11.63,11.49,11.35,11.03,10.59,7.06,7.1,7.47,7.68,8.18,8.52,8.81,8.96,8.9,9.52,9.89,10.36,10.51,11.51,11.19,11.14,10.95,10.89,10.8,10.39,6.87,6.97,7.2,7.33,7.92,8.12,8.18,8.38,8.09,8.55,9.01,9.2,9.4,9.84,9.19,9.39,9.32,9.28,9.38,9.24,5.5,5.65,5.82,6.14,6.82,7.03,7.13,7.17,7.17,7.63,7.79,7.95,8.14,8.4,7.92,7.83,7.74,7.6,7.54,7.16,7.62,7.75,8.34,8.74,9.31,9.79,10.14,10.27,10.22,10.8,11.24,11.57,11.95,12.54,12.16,11.98,11.73,11.88,11.75,11.36,9.11,9.08,9.54,9.92,10.24,10.57,10.91,11.15,11.02,11.42,11.91,12.38,12.82,13.54,13.24,13.23,12.98,12.91,13.04,12.65,7.78,7.66,8.23,8.35,8.96,9.24,9.44,9.72,9.54,10.53,10.57,10.67,10.86,11.3,10.82,10.98,10.46,10.85,10.8,10.31,6.56,6.73,7.08,7.41,7.88,8.43,8.71,8.95,8.81,9.42,9.69,9.71,9.6,9.83,9.57,9.38,9.29,9.29,9.19,8.69,6.94,7.33,7.66,7.45,8.21,8.51,8.73,9.02,9.16,9.96,9.88,10.55,10.41,11.05,10.47,10.07,10.11,9.99,9.98,9.16,8.68,10.04,9.96,11.44,12.29,12.51,12.97,14.2,12.85,13.4,14.06,14.79,14.81,15.37,15.24,14.2,14.75,14.82,14.26,14.44,11.17,11.41,14.64,15.83,15.82,17.19,17.83,19.33,18.04,18.34,18.15,17.55,17.09,17.34,15.87,16.52,15.25,15.39,17.04,16.02],\"yaxis\":\"y\",\"type\":\"bar\"},{\"alignmentgroup\":\"True\",\"hovertemplate\":\"Nacionalidad=Espa\\u00f1ola<br>Periodo=%{x}<br>Total=%{y}<extra></extra>\",\"legendgroup\":\"Espa\\u00f1ola\",\"marker\":{\"color\":\"#EF553B\",\"pattern\":{\"shape\":\"\"}},\"name\":\"Espa\\u00f1ola\",\"offsetgroup\":\"Espa\\u00f1ola\",\"orientation\":\"v\",\"showlegend\":true,\"textposition\":\"auto\",\"x\":[2021,2020,2019,2018,2017,2016,2015,2014,2013,2012,2011,2010,2009,2008,2007,2006,2005,2004,2003,2002,2021,2020,2019,2018,2017,2016,2015,2014,2013,2012,2011,2010,2009,2008,2007,2006,2005,2004,2003,2002,2021,2020,2019,2018,2017,2016,2015,2014,2013,2012,2011,2010,2009,2008,2007,2006,2005,2004,2003,2002,2021,2020,2019,2018,2017,2016,2015,2014,2013,2012,2011,2010,2009,2008,2007,2006,2005,2004,2003,2002,2021,2020,2019,2018,2017,2016,2015,2014,2013,2012,2011,2010,2009,2008,2007,2006,2005,2004,2003,2002,2021,2020,2019,2018,2017,2016,2015,2014,2013,2012,2011,2010,2009,2008,2007,2006,2005,2004,2003,2002,2021,2020,2019,2018,2017,2016,2015,2014,2013,2012,2011,2010,2009,2008,2007,2006,2005,2004,2003,2002,2021,2020,2019,2018,2017,2016,2015,2014,2013,2012,2011,2010,2009,2008,2007,2006,2005,2004,2003,2002,2021,2020,2019,2018,2017,2016,2015,2014,2013,2012,2011,2010,2009,2008,2007,2006,2005,2004,2003,2002,2021,2020,2019,2018,2017,2016,2015,2014,2013,2012,2011,2010,2009,2008,2007,2006,2005,2004,2003,2002,2021,2020,2019,2018,2017,2016,2015,2014,2013,2012,2011,2010,2009,2008,2007,2006,2005,2004,2003,2002,2021,2020,2019,2018,2017,2016,2015,2014,2013,2012,2011,2010,2009,2008,2007,2006,2005,2004,2003,2002,2021,2020,2019,2018,2017,2016,2015,2014,2013,2012,2011,2010,2009,2008,2007,2006,2005,2004,2003,2002,2021,2020,2019,2018,2017,2016,2015,2014,2013,2012,2011,2010,2009,2008,2007,2006,2005,2004,2003,2002,2021,2020,2019,2018,2017,2016,2015,2014,2013,2012,2011,2010,2009,2008,2007,2006,2005,2004,2003,2002,2021,2020,2019,2018,2017,2016,2015,2014,2013,2012,2011,2010,2009,2008,2007,2006,2005,2004,2003,2002,2021,2020,2019,2018,2017,2016,2015,2014,2013,2012,2011,2010,2009,2008,2007,2006,2005,2004,2003,2002,2021,2020,2019,2018,2017,2016,2015,2014,2013,2012,2011,2010,2009,2008,2007,2006,2005,2004,2003,2002,2021,2020,2019,2018,2017,2016,2015,2014,2013,2012,2011,2010,2009,2008,2007,2006,2005,2004,2003,2002,2021,2020,2019,2018,2017,2016,2015,2014,2013,2012,2011,2010,2009,2008,2007,2006,2005,2004,2003,2002],\"xaxis\":\"x\",\"y\":[6.31,6.28,6.65,7.01,7.53,7.95,8.21,8.37,8.3,8.82,9.16,9.38,9.58,10.1,9.86,10.02,9.91,9.86,9.8,9.51,7.3,7.23,7.66,7.95,8.43,8.98,9.19,9.4,9.3,9.87,10.25,10.56,10.91,11.65,11.39,11.65,11.46,11.27,11.13,10.78,6.11,5.78,6.16,6.43,6.93,7.19,7.61,7.7,7.7,7.82,8.21,8.23,8.29,8.7,8.6,8.54,8.36,8.46,8.18,7.95,4.41,4.29,4.65,5.2,5.5,5.78,5.84,5.96,5.92,6.75,6.84,6.77,7.2,7.22,6.97,6.86,6.73,6.54,6.46,6.17,7.02,6.81,6.92,7.71,7.87,8.3,8.51,8.71,8.4,8.81,9.15,9.58,9.52,10.33,10.34,10.64,10.32,10.67,10.82,11.01,5.4,5.49,5.97,6.38,6.96,7.21,7.28,7.44,7.22,7.78,7.97,8.38,8.7,9.65,9.57,10.3,10.29,10.18,10.47,10.76,5.24,5.39,5.62,6.12,6.69,6.9,7.08,7.37,7.82,8.1,8.51,8.89,8.97,9.5,8.8,8.89,9.09,8.84,8.66,8.2,5.01,5.13,5.35,5.71,5.89,6.35,6.54,6.71,6.61,6.96,7.18,7.32,7.28,7.55,7.29,7.34,7.34,7.24,7.19,7.07,6.34,6.34,6.65,7.03,7.52,7.98,8.18,8.24,8.39,8.84,9.22,9.33,9.57,9.92,9.35,9.61,9.34,9.31,9.38,9.25,6.02,6.0,6.37,6.83,7.36,7.75,8.06,8.19,8.15,8.75,9.18,9.47,9.69,10.28,10.09,10.33,10.3,10.22,10.07,9.76,6.38,6.28,6.68,6.9,7.48,7.87,8.21,8.4,8.35,8.91,9.2,9.55,9.67,10.46,10.35,10.44,10.31,10.25,10.24,9.9,6.58,6.61,6.84,6.99,7.62,7.83,7.9,8.12,7.82,8.32,8.67,8.82,9.05,9.45,8.89,9.13,9.06,8.98,9.17,9.05,5.15,5.3,5.47,5.82,6.54,6.78,6.91,6.91,6.91,7.33,7.51,7.59,7.77,8.03,7.62,7.58,7.48,7.36,7.32,6.97,6.68,6.69,7.17,7.56,8.17,8.67,9.05,9.14,9.09,9.6,10.07,10.21,10.52,10.86,10.63,10.69,10.6,10.74,10.66,10.25,8.0,7.77,8.16,8.6,9.02,9.39,9.81,10.1,10.01,10.3,10.72,11.08,11.4,11.92,11.77,12.09,11.9,11.77,11.89,11.58,6.53,6.27,6.79,7.09,7.71,8.24,8.4,8.84,8.64,9.39,9.52,9.36,9.64,9.99,9.63,9.82,9.59,9.94,10.0,9.69,5.51,5.6,5.92,6.29,6.86,7.36,7.7,8.03,7.94,8.56,8.88,8.92,8.71,8.98,8.96,8.94,8.92,8.96,8.9,8.45,5.68,5.94,6.11,6.02,6.65,7.01,7.36,7.81,7.78,8.45,8.13,8.59,8.79,9.06,8.62,8.54,8.76,8.89,9.02,8.45,7.48,8.12,8.33,9.33,10.28,10.67,11.17,12.36,11.04,11.95,12.19,12.5,12.58,13.06,13.62,12.79,13.48,13.23,13.12,13.08,8.66,8.23,9.45,10.47,9.7,10.92,11.2,12.6,12.29,11.91,12.4,12.37,12.23,12.43,11.33,11.72,11.1,11.57,12.1,11.92],\"yaxis\":\"y\",\"type\":\"bar\"},{\"alignmentgroup\":\"True\",\"hovertemplate\":\"Nacionalidad=Extranjera<br>Periodo=%{x}<br>Total=%{y}<extra></extra>\",\"legendgroup\":\"Extranjera\",\"marker\":{\"color\":\"#00cc96\",\"pattern\":{\"shape\":\"\"}},\"name\":\"Extranjera\",\"offsetgroup\":\"Extranjera\",\"orientation\":\"v\",\"showlegend\":true,\"textposition\":\"auto\",\"x\":[2021,2020,2019,2018,2017,2016,2015,2014,2013,2012,2011,2010,2009,2008,2007,2006,2005,2004,2003,2002,2021,2020,2019,2018,2017,2016,2015,2014,2013,2012,2011,2010,2009,2008,2007,2006,2005,2004,2003,2002,2021,2020,2019,2018,2017,2016,2015,2014,2013,2012,2011,2010,2009,2008,2007,2006,2005,2004,2003,2002,2021,2020,2019,2018,2017,2016,2015,2014,2013,2012,2011,2010,2009,2008,2007,2006,2005,2004,2003,2002,2021,2020,2019,2018,2017,2016,2015,2014,2013,2012,2011,2010,2009,2008,2007,2006,2005,2004,2003,2002,2021,2020,2019,2018,2017,2016,2015,2014,2013,2012,2011,2010,2009,2008,2007,2006,2005,2004,2003,2002,2021,2020,2019,2018,2017,2016,2015,2014,2013,2012,2011,2010,2009,2008,2007,2006,2005,2004,2003,2002,2021,2020,2019,2018,2017,2016,2015,2014,2013,2012,2011,2010,2009,2008,2007,2006,2005,2004,2003,2002,2021,2020,2019,2018,2017,2016,2015,2014,2013,2012,2011,2010,2009,2008,2007,2006,2005,2004,2003,2002,2021,2020,2019,2018,2017,2016,2015,2014,2013,2012,2011,2010,2009,2008,2007,2006,2005,2004,2003,2002,2021,2020,2019,2018,2017,2016,2015,2014,2013,2012,2011,2010,2009,2008,2007,2006,2005,2004,2003,2002,2021,2020,2019,2018,2017,2016,2015,2014,2013,2012,2011,2010,2009,2008,2007,2006,2005,2004,2003,2002,2021,2020,2019,2018,2017,2016,2015,2014,2013,2012,2011,2010,2009,2008,2007,2006,2005,2004,2003,2002,2021,2020,2019,2018,2017,2016,2015,2014,2013,2012,2011,2010,2009,2008,2007,2006,2005,2004,2003,2002,2021,2020,2019,2018,2017,2016,2015,2014,2013,2012,2011,2010,2009,2008,2007,2006,2005,2004,2003,2002,2021,2020,2019,2018,2017,2016,2015,2014,2013,2012,2011,2010,2009,2008,2007,2006,2005,2004,2003,2002,2021,2020,2019,2018,2017,2016,2015,2014,2013,2012,2011,2010,2009,2008,2007,2006,2005,2004,2003,2002,2021,2020,2019,2018,2017,2016,2015,2014,2013,2012,2011,2010,2009,2008,2007,2006,2005,2004,2003,2002,2021,2020,2019,2018,2017,2016,2015,2014,2013,2012,2011,2010,2009,2008,2007,2006,2005,2004,2003,2002,2021,2020,2019,2018,2017,2016,2015,2014,2013,2012,2011,2010,2009,2008,2007,2006,2005,2004,2003,2002],\"xaxis\":\"x\",\"y\":[13.51,14.39,15.72,16.27,16.75,16.97,16.71,16.59,16.05,16.78,17.24,18.46,18.69,20.34,19.27,18.86,18.57,19.74,19.99,21.02,12.19,13.1,14.51,14.52,14.53,14.98,14.69,14.66,14.64,15.38,16.29,17.46,18.17,19.94,19.19,17.77,17.0,19.56,18.52,17.96,15.55,14.12,15.59,16.86,16.87,17.59,16.62,17.0,16.51,17.0,17.7,19.44,19.45,21.13,20.02,19.98,19.11,20.11,22.05,20.93,11.44,12.99,14.07,15.05,14.38,14.94,14.84,13.68,14.36,15.08,15.85,17.03,17.28,18.34,18.09,17.1,19.08,18.28,18.39,17.1,10.52,11.18,12.35,12.81,13.07,13.43,13.09,13.01,13.83,14.56,14.73,16.42,17.35,18.58,17.02,17.45,17.45,17.91,19.19,21.18,7.02,7.83,8.5,8.91,9.34,9.67,9.6,9.7,9.46,11.06,11.18,12.36,13.26,14.4,13.24,14.25,14.37,13.67,14.76,17.53,11.41,12.75,13.68,13.98,14.21,14.74,15.01,15.01,14.43,15.53,16.71,17.79,18.49,20.08,20.36,17.86,18.22,19.76,19.13,20.86,12.59,14.06,15.5,15.15,15.21,15.04,15.74,15.22,14.88,16.1,17.13,18.56,18.64,20.58,19.13,19.96,19.56,19.87,20.61,21.12,14.18,15.43,16.14,16.04,16.83,16.66,16.15,15.59,16.43,17.44,18.32,20.86,20.8,22.76,21.05,21.69,20.29,23.1,22.91,21.42,16.37,17.22,18.71,19.46,20.67,20.77,20.34,20.26,18.93,19.61,20.08,21.19,20.74,22.0,20.75,20.4,20.46,21.5,21.26,22.54,10.97,11.88,12.31,12.82,12.91,12.98,12.8,12.6,12.2,12.99,13.7,14.79,14.89,17.0,15.9,15.58,15.53,16.32,16.53,17.02,15.11,17.05,18.2,18.22,17.76,17.79,16.81,16.26,15.59,15.01,18.3,20.0,19.55,21.51,19.37,19.66,20.86,25.37,22.09,23.63,12.69,13.1,14.32,14.48,14.78,14.15,13.42,14.58,14.21,15.17,15.08,17.39,17.72,18.43,17.08,16.59,18.1,18.25,18.8,18.54,14.06,14.86,16.77,17.91,18.74,19.11,19.01,19.0,17.89,18.05,17.91,18.97,19.42,21.44,20.88,20.23,19.5,20.7,21.05,23.26,15.76,16.9,17.98,18.4,18.08,18.11,17.75,17.52,16.9,17.69,18.36,19.17,20.11,22.02,21.35,20.32,20.43,22.49,24.41,26.12,18.91,19.89,21.98,21.48,23.2,20.97,21.49,19.53,18.62,20.93,19.68,21.81,21.12,22.48,21.96,23.63,20.7,22.56,22.2,21.41,21.69,22.72,25.21,26.73,26.9,28.98,28.26,26.17,23.41,22.34,21.23,20.83,22.41,22.92,20.26,18.76,18.42,19.2,19.99,20.62,15.91,17.26,19.49,19.07,21.36,21.36,20.24,18.78,19.13,19.79,20.78,22.65,20.19,23.03,22.78,21.83,21.39,20.8,21.47,20.02,32.35,44.34,37.88,47.22,44.79,43.2,43.54,45.52,39.26,33.29,41.19,52.47,56.74,63.58,50.34,44.68,43.8,49.76,38.97,43.29,34.09,38.14,55.78,56.7,60.41,62.23,64.61,66.75,54.65,57.47,55.62,53.44,53.11,57.11,56.76,66.33,64.04,69.46,72.98,54.43],\"yaxis\":\"y\",\"type\":\"bar\"}],                        {\"template\":{\"data\":{\"histogram2dcontour\":[{\"type\":\"histogram2dcontour\",\"colorbar\":{\"outlinewidth\":0,\"ticks\":\"\"},\"colorscale\":[[0.0,\"#0d0887\"],[0.1111111111111111,\"#46039f\"],[0.2222222222222222,\"#7201a8\"],[0.3333333333333333,\"#9c179e\"],[0.4444444444444444,\"#bd3786\"],[0.5555555555555556,\"#d8576b\"],[0.6666666666666666,\"#ed7953\"],[0.7777777777777778,\"#fb9f3a\"],[0.8888888888888888,\"#fdca26\"],[1.0,\"#f0f921\"]]}],\"choropleth\":[{\"type\":\"choropleth\",\"colorbar\":{\"outlinewidth\":0,\"ticks\":\"\"}}],\"histogram2d\":[{\"type\":\"histogram2d\",\"colorbar\":{\"outlinewidth\":0,\"ticks\":\"\"},\"colorscale\":[[0.0,\"#0d0887\"],[0.1111111111111111,\"#46039f\"],[0.2222222222222222,\"#7201a8\"],[0.3333333333333333,\"#9c179e\"],[0.4444444444444444,\"#bd3786\"],[0.5555555555555556,\"#d8576b\"],[0.6666666666666666,\"#ed7953\"],[0.7777777777777778,\"#fb9f3a\"],[0.8888888888888888,\"#fdca26\"],[1.0,\"#f0f921\"]]}],\"heatmap\":[{\"type\":\"heatmap\",\"colorbar\":{\"outlinewidth\":0,\"ticks\":\"\"},\"colorscale\":[[0.0,\"#0d0887\"],[0.1111111111111111,\"#46039f\"],[0.2222222222222222,\"#7201a8\"],[0.3333333333333333,\"#9c179e\"],[0.4444444444444444,\"#bd3786\"],[0.5555555555555556,\"#d8576b\"],[0.6666666666666666,\"#ed7953\"],[0.7777777777777778,\"#fb9f3a\"],[0.8888888888888888,\"#fdca26\"],[1.0,\"#f0f921\"]]}],\"heatmapgl\":[{\"type\":\"heatmapgl\",\"colorbar\":{\"outlinewidth\":0,\"ticks\":\"\"},\"colorscale\":[[0.0,\"#0d0887\"],[0.1111111111111111,\"#46039f\"],[0.2222222222222222,\"#7201a8\"],[0.3333333333333333,\"#9c179e\"],[0.4444444444444444,\"#bd3786\"],[0.5555555555555556,\"#d8576b\"],[0.6666666666666666,\"#ed7953\"],[0.7777777777777778,\"#fb9f3a\"],[0.8888888888888888,\"#fdca26\"],[1.0,\"#f0f921\"]]}],\"contourcarpet\":[{\"type\":\"contourcarpet\",\"colorbar\":{\"outlinewidth\":0,\"ticks\":\"\"}}],\"contour\":[{\"type\":\"contour\",\"colorbar\":{\"outlinewidth\":0,\"ticks\":\"\"},\"colorscale\":[[0.0,\"#0d0887\"],[0.1111111111111111,\"#46039f\"],[0.2222222222222222,\"#7201a8\"],[0.3333333333333333,\"#9c179e\"],[0.4444444444444444,\"#bd3786\"],[0.5555555555555556,\"#d8576b\"],[0.6666666666666666,\"#ed7953\"],[0.7777777777777778,\"#fb9f3a\"],[0.8888888888888888,\"#fdca26\"],[1.0,\"#f0f921\"]]}],\"surface\":[{\"type\":\"surface\",\"colorbar\":{\"outlinewidth\":0,\"ticks\":\"\"},\"colorscale\":[[0.0,\"#0d0887\"],[0.1111111111111111,\"#46039f\"],[0.2222222222222222,\"#7201a8\"],[0.3333333333333333,\"#9c179e\"],[0.4444444444444444,\"#bd3786\"],[0.5555555555555556,\"#d8576b\"],[0.6666666666666666,\"#ed7953\"],[0.7777777777777778,\"#fb9f3a\"],[0.8888888888888888,\"#fdca26\"],[1.0,\"#f0f921\"]]}],\"mesh3d\":[{\"type\":\"mesh3d\",\"colorbar\":{\"outlinewidth\":0,\"ticks\":\"\"}}],\"scatter\":[{\"marker\":{\"line\":{\"color\":\"#283442\"}},\"type\":\"scatter\"}],\"parcoords\":[{\"type\":\"parcoords\",\"line\":{\"colorbar\":{\"outlinewidth\":0,\"ticks\":\"\"}}}],\"scatterpolargl\":[{\"type\":\"scatterpolargl\",\"marker\":{\"colorbar\":{\"outlinewidth\":0,\"ticks\":\"\"}}}],\"bar\":[{\"error_x\":{\"color\":\"#f2f5fa\"},\"error_y\":{\"color\":\"#f2f5fa\"},\"marker\":{\"line\":{\"color\":\"rgb(17,17,17)\",\"width\":0.5},\"pattern\":{\"fillmode\":\"overlay\",\"size\":10,\"solidity\":0.2}},\"type\":\"bar\"}],\"scattergeo\":[{\"type\":\"scattergeo\",\"marker\":{\"colorbar\":{\"outlinewidth\":0,\"ticks\":\"\"}}}],\"scatterpolar\":[{\"type\":\"scatterpolar\",\"marker\":{\"colorbar\":{\"outlinewidth\":0,\"ticks\":\"\"}}}],\"histogram\":[{\"marker\":{\"pattern\":{\"fillmode\":\"overlay\",\"size\":10,\"solidity\":0.2}},\"type\":\"histogram\"}],\"scattergl\":[{\"marker\":{\"line\":{\"color\":\"#283442\"}},\"type\":\"scattergl\"}],\"scatter3d\":[{\"type\":\"scatter3d\",\"line\":{\"colorbar\":{\"outlinewidth\":0,\"ticks\":\"\"}},\"marker\":{\"colorbar\":{\"outlinewidth\":0,\"ticks\":\"\"}}}],\"scattermapbox\":[{\"type\":\"scattermapbox\",\"marker\":{\"colorbar\":{\"outlinewidth\":0,\"ticks\":\"\"}}}],\"scatterternary\":[{\"type\":\"scatterternary\",\"marker\":{\"colorbar\":{\"outlinewidth\":0,\"ticks\":\"\"}}}],\"scattercarpet\":[{\"type\":\"scattercarpet\",\"marker\":{\"colorbar\":{\"outlinewidth\":0,\"ticks\":\"\"}}}],\"carpet\":[{\"aaxis\":{\"endlinecolor\":\"#A2B1C6\",\"gridcolor\":\"#506784\",\"linecolor\":\"#506784\",\"minorgridcolor\":\"#506784\",\"startlinecolor\":\"#A2B1C6\"},\"baxis\":{\"endlinecolor\":\"#A2B1C6\",\"gridcolor\":\"#506784\",\"linecolor\":\"#506784\",\"minorgridcolor\":\"#506784\",\"startlinecolor\":\"#A2B1C6\"},\"type\":\"carpet\"}],\"table\":[{\"cells\":{\"fill\":{\"color\":\"#506784\"},\"line\":{\"color\":\"rgb(17,17,17)\"}},\"header\":{\"fill\":{\"color\":\"#2a3f5f\"},\"line\":{\"color\":\"rgb(17,17,17)\"}},\"type\":\"table\"}],\"barpolar\":[{\"marker\":{\"line\":{\"color\":\"rgb(17,17,17)\",\"width\":0.5},\"pattern\":{\"fillmode\":\"overlay\",\"size\":10,\"solidity\":0.2}},\"type\":\"barpolar\"}],\"pie\":[{\"automargin\":true,\"type\":\"pie\"}]},\"layout\":{\"autotypenumbers\":\"strict\",\"colorway\":[\"#636efa\",\"#EF553B\",\"#00cc96\",\"#ab63fa\",\"#FFA15A\",\"#19d3f3\",\"#FF6692\",\"#B6E880\",\"#FF97FF\",\"#FECB52\"],\"font\":{\"color\":\"#f2f5fa\"},\"hovermode\":\"closest\",\"hoverlabel\":{\"align\":\"left\"},\"paper_bgcolor\":\"rgb(17,17,17)\",\"plot_bgcolor\":\"rgb(17,17,17)\",\"polar\":{\"bgcolor\":\"rgb(17,17,17)\",\"angularaxis\":{\"gridcolor\":\"#506784\",\"linecolor\":\"#506784\",\"ticks\":\"\"},\"radialaxis\":{\"gridcolor\":\"#506784\",\"linecolor\":\"#506784\",\"ticks\":\"\"}},\"ternary\":{\"bgcolor\":\"rgb(17,17,17)\",\"aaxis\":{\"gridcolor\":\"#506784\",\"linecolor\":\"#506784\",\"ticks\":\"\"},\"baxis\":{\"gridcolor\":\"#506784\",\"linecolor\":\"#506784\",\"ticks\":\"\"},\"caxis\":{\"gridcolor\":\"#506784\",\"linecolor\":\"#506784\",\"ticks\":\"\"}},\"coloraxis\":{\"colorbar\":{\"outlinewidth\":0,\"ticks\":\"\"}},\"colorscale\":{\"sequential\":[[0.0,\"#0d0887\"],[0.1111111111111111,\"#46039f\"],[0.2222222222222222,\"#7201a8\"],[0.3333333333333333,\"#9c179e\"],[0.4444444444444444,\"#bd3786\"],[0.5555555555555556,\"#d8576b\"],[0.6666666666666666,\"#ed7953\"],[0.7777777777777778,\"#fb9f3a\"],[0.8888888888888888,\"#fdca26\"],[1.0,\"#f0f921\"]],\"sequentialminus\":[[0.0,\"#0d0887\"],[0.1111111111111111,\"#46039f\"],[0.2222222222222222,\"#7201a8\"],[0.3333333333333333,\"#9c179e\"],[0.4444444444444444,\"#bd3786\"],[0.5555555555555556,\"#d8576b\"],[0.6666666666666666,\"#ed7953\"],[0.7777777777777778,\"#fb9f3a\"],[0.8888888888888888,\"#fdca26\"],[1.0,\"#f0f921\"]],\"diverging\":[[0,\"#8e0152\"],[0.1,\"#c51b7d\"],[0.2,\"#de77ae\"],[0.3,\"#f1b6da\"],[0.4,\"#fde0ef\"],[0.5,\"#f7f7f7\"],[0.6,\"#e6f5d0\"],[0.7,\"#b8e186\"],[0.8,\"#7fbc41\"],[0.9,\"#4d9221\"],[1,\"#276419\"]]},\"xaxis\":{\"gridcolor\":\"#283442\",\"linecolor\":\"#506784\",\"ticks\":\"\",\"title\":{\"standoff\":15},\"zerolinecolor\":\"#283442\",\"automargin\":true,\"zerolinewidth\":2},\"yaxis\":{\"gridcolor\":\"#283442\",\"linecolor\":\"#506784\",\"ticks\":\"\",\"title\":{\"standoff\":15},\"zerolinecolor\":\"#283442\",\"automargin\":true,\"zerolinewidth\":2},\"scene\":{\"xaxis\":{\"backgroundcolor\":\"rgb(17,17,17)\",\"gridcolor\":\"#506784\",\"linecolor\":\"#506784\",\"showbackground\":true,\"ticks\":\"\",\"zerolinecolor\":\"#C8D4E3\",\"gridwidth\":2},\"yaxis\":{\"backgroundcolor\":\"rgb(17,17,17)\",\"gridcolor\":\"#506784\",\"linecolor\":\"#506784\",\"showbackground\":true,\"ticks\":\"\",\"zerolinecolor\":\"#C8D4E3\",\"gridwidth\":2},\"zaxis\":{\"backgroundcolor\":\"rgb(17,17,17)\",\"gridcolor\":\"#506784\",\"linecolor\":\"#506784\",\"showbackground\":true,\"ticks\":\"\",\"zerolinecolor\":\"#C8D4E3\",\"gridwidth\":2}},\"shapedefaults\":{\"line\":{\"color\":\"#f2f5fa\"}},\"annotationdefaults\":{\"arrowcolor\":\"#f2f5fa\",\"arrowhead\":0,\"arrowwidth\":1},\"geo\":{\"bgcolor\":\"rgb(17,17,17)\",\"landcolor\":\"rgb(17,17,17)\",\"subunitcolor\":\"#506784\",\"showland\":true,\"showlakes\":true,\"lakecolor\":\"rgb(17,17,17)\"},\"title\":{\"x\":0.05},\"updatemenudefaults\":{\"bgcolor\":\"#506784\",\"borderwidth\":0},\"sliderdefaults\":{\"bgcolor\":\"#C8D4E3\",\"borderwidth\":1,\"bordercolor\":\"rgb(17,17,17)\",\"tickwidth\":0},\"mapbox\":{\"style\":\"dark\"}}},\"xaxis\":{\"anchor\":\"y\",\"domain\":[0.0,1.0],\"title\":{\"text\":\"Periodo\"}},\"yaxis\":{\"anchor\":\"x\",\"domain\":[0.0,1.0],\"title\":{\"text\":\"Total\"}},\"legend\":{\"title\":{\"text\":\"Nacionalidad\"},\"tracegroupgap\":0},\"margin\":{\"t\":60},\"barmode\":\"group\"},                        {\"responsive\": true}                    ).then(function(){\n                            \nvar gd = document.getElementById('1f6fc29d-7bd5-4c90-aa13-72fbc4b1636c');\nvar x = new MutationObserver(function (mutations, observer) {{\n        var display = window.getComputedStyle(gd).display;\n        if (!display || display === 'none') {{\n            console.log([gd, 'removed!']);\n            Plotly.purge(gd);\n            observer.disconnect();\n        }}\n}});\n\n// Listen for the removal of the full notebook cells\nvar notebookContainer = gd.closest('#notebook-container');\nif (notebookContainer) {{\n    x.observe(notebookContainer, {childList: true});\n}}\n\n// Listen for the clearing of the current output cell\nvar outputEl = gd.closest('.output');\nif (outputEl) {{\n    x.observe(outputEl, {childList: true});\n}}\n\n                        })                };                });            </script>        </div>"
     },
     "metadata": {},
     "output_type": "display_data"
    }
   ],
   "source": [
    "# Ahora vamos a crear un gráfico e barras por cada nacionalidad para ver la evolución de la natalidad en España\n",
    "\n",
    "fig = px.bar(data, x='Periodo', y='Total', color='Nacionalidad', barmode='group')\n",
    "fig.show()"
   ],
   "metadata": {
    "collapsed": false,
    "ExecuteTime": {
     "start_time": "2023-04-21T20:01:39.667594Z",
     "end_time": "2023-04-21T20:01:39.730694Z"
    }
   }
  },
  {
   "cell_type": "markdown",
   "source": [
    "# Ejercicio 4:\n",
    "\n",
    "Vamos a crear un grafico scatter plot con plotly donde vamos a poder ver la correlación entre el crecimiento de la población española vs el crecimiento de la población mundial."
   ],
   "metadata": {
    "collapsed": false
   }
  },
  {
   "cell_type": "code",
   "execution_count": 17,
   "outputs": [
    {
     "data": {
      "text/plain": "     Comunidades y Ciudades Autónomas          Nacionalidad  Periodo  Total\n0                      Total Nacional  Ambas nacionalidades     2021   7,12\n1                      Total Nacional  Ambas nacionalidades     2020   7,19\n2                      Total Nacional  Ambas nacionalidades     2019   7,62\n3                      Total Nacional  Ambas nacionalidades     2018   7,94\n4                      Total Nacional  Ambas nacionalidades     2017   8,41\n...                               ...                   ...      ...    ...\n1195                       19 Melilla            Extranjera     2006  66,33\n1196                       19 Melilla            Extranjera     2005  64,04\n1197                       19 Melilla            Extranjera     2004  69,46\n1198                       19 Melilla            Extranjera     2003  72,98\n1199                       19 Melilla            Extranjera     2002  54,43\n\n[1200 rows x 4 columns]",
      "text/html": "<div>\n<style scoped>\n    .dataframe tbody tr th:only-of-type {\n        vertical-align: middle;\n    }\n\n    .dataframe tbody tr th {\n        vertical-align: top;\n    }\n\n    .dataframe thead th {\n        text-align: right;\n    }\n</style>\n<table border=\"1\" class=\"dataframe\">\n  <thead>\n    <tr style=\"text-align: right;\">\n      <th></th>\n      <th>Comunidades y Ciudades Autónomas</th>\n      <th>Nacionalidad</th>\n      <th>Periodo</th>\n      <th>Total</th>\n    </tr>\n  </thead>\n  <tbody>\n    <tr>\n      <th>0</th>\n      <td>Total Nacional</td>\n      <td>Ambas nacionalidades</td>\n      <td>2021</td>\n      <td>7,12</td>\n    </tr>\n    <tr>\n      <th>1</th>\n      <td>Total Nacional</td>\n      <td>Ambas nacionalidades</td>\n      <td>2020</td>\n      <td>7,19</td>\n    </tr>\n    <tr>\n      <th>2</th>\n      <td>Total Nacional</td>\n      <td>Ambas nacionalidades</td>\n      <td>2019</td>\n      <td>7,62</td>\n    </tr>\n    <tr>\n      <th>3</th>\n      <td>Total Nacional</td>\n      <td>Ambas nacionalidades</td>\n      <td>2018</td>\n      <td>7,94</td>\n    </tr>\n    <tr>\n      <th>4</th>\n      <td>Total Nacional</td>\n      <td>Ambas nacionalidades</td>\n      <td>2017</td>\n      <td>8,41</td>\n    </tr>\n    <tr>\n      <th>...</th>\n      <td>...</td>\n      <td>...</td>\n      <td>...</td>\n      <td>...</td>\n    </tr>\n    <tr>\n      <th>1195</th>\n      <td>19 Melilla</td>\n      <td>Extranjera</td>\n      <td>2006</td>\n      <td>66,33</td>\n    </tr>\n    <tr>\n      <th>1196</th>\n      <td>19 Melilla</td>\n      <td>Extranjera</td>\n      <td>2005</td>\n      <td>64,04</td>\n    </tr>\n    <tr>\n      <th>1197</th>\n      <td>19 Melilla</td>\n      <td>Extranjera</td>\n      <td>2004</td>\n      <td>69,46</td>\n    </tr>\n    <tr>\n      <th>1198</th>\n      <td>19 Melilla</td>\n      <td>Extranjera</td>\n      <td>2003</td>\n      <td>72,98</td>\n    </tr>\n    <tr>\n      <th>1199</th>\n      <td>19 Melilla</td>\n      <td>Extranjera</td>\n      <td>2002</td>\n      <td>54,43</td>\n    </tr>\n  </tbody>\n</table>\n<p>1200 rows × 4 columns</p>\n</div>"
     },
     "execution_count": 17,
     "metadata": {},
     "output_type": "execute_result"
    }
   ],
   "source": [
    "import pandas as pd\n",
    "import plotly.express as px\n",
    "import plotly.graph_objects as go\n",
    "\n",
    "# Cargamos los datos de la población española\n",
    "\n",
    "data = pd.read_csv('Data/España_natalidad.csv', sep=';')\n",
    "data"
   ],
   "metadata": {
    "collapsed": false,
    "ExecuteTime": {
     "start_time": "2023-04-21T23:18:15.328000Z",
     "end_time": "2023-04-21T23:18:15.338203Z"
    }
   }
  },
  {
   "cell_type": "code",
   "execution_count": 2,
   "outputs": [],
   "source": [
    "# Convertimos la columan Total a float\n",
    "\n",
    "data['Total'] = data['Total'].str.replace(',', '.').astype(float)"
   ],
   "metadata": {
    "collapsed": false,
    "ExecuteTime": {
     "start_time": "2023-04-21T23:13:13.217778Z",
     "end_time": "2023-04-21T23:13:13.229305Z"
    }
   }
  },
  {
   "cell_type": "code",
   "execution_count": 3,
   "outputs": [
    {
     "data": {
      "text/plain": "Ambas nacionalidades    400\nEspañola                400\nExtranjera              400\nName: Nacionalidad, dtype: int64"
     },
     "execution_count": 3,
     "metadata": {},
     "output_type": "execute_result"
    }
   ],
   "source": [
    "data['Nacionalidad'].value_counts()"
   ],
   "metadata": {
    "collapsed": false,
    "ExecuteTime": {
     "start_time": "2023-04-21T23:13:14.869294Z",
     "end_time": "2023-04-21T23:13:14.880601Z"
    }
   }
  },
  {
   "cell_type": "code",
   "execution_count": 4,
   "outputs": [
    {
     "data": {
      "text/plain": "     Comunidades y Ciudades Autónomas Nacionalidad  Periodo  Total\n20                     Total Nacional     Española     2021   6.31\n21                     Total Nacional     Española     2020   6.28\n22                     Total Nacional     Española     2019   6.65\n23                     Total Nacional     Española     2018   7.01\n24                     Total Nacional     Española     2017   7.53\n...                               ...          ...      ...    ...\n1175                       19 Melilla     Española     2006  11.72\n1176                       19 Melilla     Española     2005  11.10\n1177                       19 Melilla     Española     2004  11.57\n1178                       19 Melilla     Española     2003  12.10\n1179                       19 Melilla     Española     2002  11.92\n\n[400 rows x 4 columns]",
      "text/html": "<div>\n<style scoped>\n    .dataframe tbody tr th:only-of-type {\n        vertical-align: middle;\n    }\n\n    .dataframe tbody tr th {\n        vertical-align: top;\n    }\n\n    .dataframe thead th {\n        text-align: right;\n    }\n</style>\n<table border=\"1\" class=\"dataframe\">\n  <thead>\n    <tr style=\"text-align: right;\">\n      <th></th>\n      <th>Comunidades y Ciudades Autónomas</th>\n      <th>Nacionalidad</th>\n      <th>Periodo</th>\n      <th>Total</th>\n    </tr>\n  </thead>\n  <tbody>\n    <tr>\n      <th>20</th>\n      <td>Total Nacional</td>\n      <td>Española</td>\n      <td>2021</td>\n      <td>6.31</td>\n    </tr>\n    <tr>\n      <th>21</th>\n      <td>Total Nacional</td>\n      <td>Española</td>\n      <td>2020</td>\n      <td>6.28</td>\n    </tr>\n    <tr>\n      <th>22</th>\n      <td>Total Nacional</td>\n      <td>Española</td>\n      <td>2019</td>\n      <td>6.65</td>\n    </tr>\n    <tr>\n      <th>23</th>\n      <td>Total Nacional</td>\n      <td>Española</td>\n      <td>2018</td>\n      <td>7.01</td>\n    </tr>\n    <tr>\n      <th>24</th>\n      <td>Total Nacional</td>\n      <td>Española</td>\n      <td>2017</td>\n      <td>7.53</td>\n    </tr>\n    <tr>\n      <th>...</th>\n      <td>...</td>\n      <td>...</td>\n      <td>...</td>\n      <td>...</td>\n    </tr>\n    <tr>\n      <th>1175</th>\n      <td>19 Melilla</td>\n      <td>Española</td>\n      <td>2006</td>\n      <td>11.72</td>\n    </tr>\n    <tr>\n      <th>1176</th>\n      <td>19 Melilla</td>\n      <td>Española</td>\n      <td>2005</td>\n      <td>11.10</td>\n    </tr>\n    <tr>\n      <th>1177</th>\n      <td>19 Melilla</td>\n      <td>Española</td>\n      <td>2004</td>\n      <td>11.57</td>\n    </tr>\n    <tr>\n      <th>1178</th>\n      <td>19 Melilla</td>\n      <td>Española</td>\n      <td>2003</td>\n      <td>12.10</td>\n    </tr>\n    <tr>\n      <th>1179</th>\n      <td>19 Melilla</td>\n      <td>Española</td>\n      <td>2002</td>\n      <td>11.92</td>\n    </tr>\n  </tbody>\n</table>\n<p>400 rows × 4 columns</p>\n</div>"
     },
     "execution_count": 4,
     "metadata": {},
     "output_type": "execute_result"
    }
   ],
   "source": [
    "# Creamos una variable donde aislemos la población española\n",
    "\n",
    "poblacion_española = data[data['Nacionalidad'] == 'Española']\n",
    "poblacion_española"
   ],
   "metadata": {
    "collapsed": false,
    "ExecuteTime": {
     "start_time": "2023-04-21T23:13:15.213030Z",
     "end_time": "2023-04-21T23:13:15.218194Z"
    }
   }
  },
  {
   "cell_type": "code",
   "execution_count": 5,
   "outputs": [
    {
     "data": {
      "text/plain": "    Periodo   Total\n0      2002  189.80\n1      2003  194.58\n2      2004  194.28\n3      2005  194.34\n4      2006  195.92\n5      2007  193.68\n6      2008  199.14\n7      2009  190.07\n8      2010  186.90\n9      2011  182.96\n10     2012  177.22\n11     2013  167.68\n12     2014  170.40\n13     2015  164.21\n14     2016  159.13\n15     2017  150.71\n16     2018  141.44\n17     2019  132.92\n18     2020  125.55\n19     2021  125.81",
      "text/html": "<div>\n<style scoped>\n    .dataframe tbody tr th:only-of-type {\n        vertical-align: middle;\n    }\n\n    .dataframe tbody tr th {\n        vertical-align: top;\n    }\n\n    .dataframe thead th {\n        text-align: right;\n    }\n</style>\n<table border=\"1\" class=\"dataframe\">\n  <thead>\n    <tr style=\"text-align: right;\">\n      <th></th>\n      <th>Periodo</th>\n      <th>Total</th>\n    </tr>\n  </thead>\n  <tbody>\n    <tr>\n      <th>0</th>\n      <td>2002</td>\n      <td>189.80</td>\n    </tr>\n    <tr>\n      <th>1</th>\n      <td>2003</td>\n      <td>194.58</td>\n    </tr>\n    <tr>\n      <th>2</th>\n      <td>2004</td>\n      <td>194.28</td>\n    </tr>\n    <tr>\n      <th>3</th>\n      <td>2005</td>\n      <td>194.34</td>\n    </tr>\n    <tr>\n      <th>4</th>\n      <td>2006</td>\n      <td>195.92</td>\n    </tr>\n    <tr>\n      <th>5</th>\n      <td>2007</td>\n      <td>193.68</td>\n    </tr>\n    <tr>\n      <th>6</th>\n      <td>2008</td>\n      <td>199.14</td>\n    </tr>\n    <tr>\n      <th>7</th>\n      <td>2009</td>\n      <td>190.07</td>\n    </tr>\n    <tr>\n      <th>8</th>\n      <td>2010</td>\n      <td>186.90</td>\n    </tr>\n    <tr>\n      <th>9</th>\n      <td>2011</td>\n      <td>182.96</td>\n    </tr>\n    <tr>\n      <th>10</th>\n      <td>2012</td>\n      <td>177.22</td>\n    </tr>\n    <tr>\n      <th>11</th>\n      <td>2013</td>\n      <td>167.68</td>\n    </tr>\n    <tr>\n      <th>12</th>\n      <td>2014</td>\n      <td>170.40</td>\n    </tr>\n    <tr>\n      <th>13</th>\n      <td>2015</td>\n      <td>164.21</td>\n    </tr>\n    <tr>\n      <th>14</th>\n      <td>2016</td>\n      <td>159.13</td>\n    </tr>\n    <tr>\n      <th>15</th>\n      <td>2017</td>\n      <td>150.71</td>\n    </tr>\n    <tr>\n      <th>16</th>\n      <td>2018</td>\n      <td>141.44</td>\n    </tr>\n    <tr>\n      <th>17</th>\n      <td>2019</td>\n      <td>132.92</td>\n    </tr>\n    <tr>\n      <th>18</th>\n      <td>2020</td>\n      <td>125.55</td>\n    </tr>\n    <tr>\n      <th>19</th>\n      <td>2021</td>\n      <td>125.81</td>\n    </tr>\n  </tbody>\n</table>\n</div>"
     },
     "execution_count": 5,
     "metadata": {},
     "output_type": "execute_result"
    }
   ],
   "source": [
    "# Agrupamos los datos por año y sumamos la población\n",
    "\n",
    "natalidad_española = poblacion_española.groupby('Periodo')['Total'].sum().reset_index()\n",
    "natalidad_española"
   ],
   "metadata": {
    "collapsed": false,
    "ExecuteTime": {
     "start_time": "2023-04-21T23:13:15.690011Z",
     "end_time": "2023-04-21T23:13:15.695510Z"
    }
   }
  },
  {
   "cell_type": "code",
   "execution_count": 6,
   "outputs": [
    {
     "data": {
      "text/plain": "     Comunidades y Ciudades Autónomas Nacionalidad  Periodo  Total\n40                     Total Nacional   Extranjera     2021  13.51\n41                     Total Nacional   Extranjera     2020  14.39\n42                     Total Nacional   Extranjera     2019  15.72\n43                     Total Nacional   Extranjera     2018  16.27\n44                     Total Nacional   Extranjera     2017  16.75\n...                               ...          ...      ...    ...\n1195                       19 Melilla   Extranjera     2006  66.33\n1196                       19 Melilla   Extranjera     2005  64.04\n1197                       19 Melilla   Extranjera     2004  69.46\n1198                       19 Melilla   Extranjera     2003  72.98\n1199                       19 Melilla   Extranjera     2002  54.43\n\n[400 rows x 4 columns]",
      "text/html": "<div>\n<style scoped>\n    .dataframe tbody tr th:only-of-type {\n        vertical-align: middle;\n    }\n\n    .dataframe tbody tr th {\n        vertical-align: top;\n    }\n\n    .dataframe thead th {\n        text-align: right;\n    }\n</style>\n<table border=\"1\" class=\"dataframe\">\n  <thead>\n    <tr style=\"text-align: right;\">\n      <th></th>\n      <th>Comunidades y Ciudades Autónomas</th>\n      <th>Nacionalidad</th>\n      <th>Periodo</th>\n      <th>Total</th>\n    </tr>\n  </thead>\n  <tbody>\n    <tr>\n      <th>40</th>\n      <td>Total Nacional</td>\n      <td>Extranjera</td>\n      <td>2021</td>\n      <td>13.51</td>\n    </tr>\n    <tr>\n      <th>41</th>\n      <td>Total Nacional</td>\n      <td>Extranjera</td>\n      <td>2020</td>\n      <td>14.39</td>\n    </tr>\n    <tr>\n      <th>42</th>\n      <td>Total Nacional</td>\n      <td>Extranjera</td>\n      <td>2019</td>\n      <td>15.72</td>\n    </tr>\n    <tr>\n      <th>43</th>\n      <td>Total Nacional</td>\n      <td>Extranjera</td>\n      <td>2018</td>\n      <td>16.27</td>\n    </tr>\n    <tr>\n      <th>44</th>\n      <td>Total Nacional</td>\n      <td>Extranjera</td>\n      <td>2017</td>\n      <td>16.75</td>\n    </tr>\n    <tr>\n      <th>...</th>\n      <td>...</td>\n      <td>...</td>\n      <td>...</td>\n      <td>...</td>\n    </tr>\n    <tr>\n      <th>1195</th>\n      <td>19 Melilla</td>\n      <td>Extranjera</td>\n      <td>2006</td>\n      <td>66.33</td>\n    </tr>\n    <tr>\n      <th>1196</th>\n      <td>19 Melilla</td>\n      <td>Extranjera</td>\n      <td>2005</td>\n      <td>64.04</td>\n    </tr>\n    <tr>\n      <th>1197</th>\n      <td>19 Melilla</td>\n      <td>Extranjera</td>\n      <td>2004</td>\n      <td>69.46</td>\n    </tr>\n    <tr>\n      <th>1198</th>\n      <td>19 Melilla</td>\n      <td>Extranjera</td>\n      <td>2003</td>\n      <td>72.98</td>\n    </tr>\n    <tr>\n      <th>1199</th>\n      <td>19 Melilla</td>\n      <td>Extranjera</td>\n      <td>2002</td>\n      <td>54.43</td>\n    </tr>\n  </tbody>\n</table>\n<p>400 rows × 4 columns</p>\n</div>"
     },
     "execution_count": 6,
     "metadata": {},
     "output_type": "execute_result"
    }
   ],
   "source": [
    "# Creamos la variable donde vamos a guardar los datos de la población mundial\n",
    "\n",
    "poblacion_mundial = data[data['Nacionalidad'] == 'Extranjera']\n",
    "poblacion_mundial"
   ],
   "metadata": {
    "collapsed": false,
    "ExecuteTime": {
     "start_time": "2023-04-21T23:13:16.170977Z",
     "end_time": "2023-04-21T23:13:16.174616Z"
    }
   }
  },
  {
   "cell_type": "code",
   "execution_count": 7,
   "outputs": [
    {
     "data": {
      "text/plain": "    Periodo   Total\n0      2002  470.00\n1      2003  475.30\n2      2004  478.41\n3      2005  446.88\n4      2006  452.93\n5      2007  454.80\n6      2008  487.67\n7      2009  448.13\n8      2010  441.09\n9      2011  407.08\n10     2012  391.27\n11     2013  381.38\n12     2014  407.43\n13     2015  410.72\n14     2016  413.67\n15     2017  410.79\n16     2018  402.08\n17     2019  384.69\n18     2020  349.21\n19     2021  316.32",
      "text/html": "<div>\n<style scoped>\n    .dataframe tbody tr th:only-of-type {\n        vertical-align: middle;\n    }\n\n    .dataframe tbody tr th {\n        vertical-align: top;\n    }\n\n    .dataframe thead th {\n        text-align: right;\n    }\n</style>\n<table border=\"1\" class=\"dataframe\">\n  <thead>\n    <tr style=\"text-align: right;\">\n      <th></th>\n      <th>Periodo</th>\n      <th>Total</th>\n    </tr>\n  </thead>\n  <tbody>\n    <tr>\n      <th>0</th>\n      <td>2002</td>\n      <td>470.00</td>\n    </tr>\n    <tr>\n      <th>1</th>\n      <td>2003</td>\n      <td>475.30</td>\n    </tr>\n    <tr>\n      <th>2</th>\n      <td>2004</td>\n      <td>478.41</td>\n    </tr>\n    <tr>\n      <th>3</th>\n      <td>2005</td>\n      <td>446.88</td>\n    </tr>\n    <tr>\n      <th>4</th>\n      <td>2006</td>\n      <td>452.93</td>\n    </tr>\n    <tr>\n      <th>5</th>\n      <td>2007</td>\n      <td>454.80</td>\n    </tr>\n    <tr>\n      <th>6</th>\n      <td>2008</td>\n      <td>487.67</td>\n    </tr>\n    <tr>\n      <th>7</th>\n      <td>2009</td>\n      <td>448.13</td>\n    </tr>\n    <tr>\n      <th>8</th>\n      <td>2010</td>\n      <td>441.09</td>\n    </tr>\n    <tr>\n      <th>9</th>\n      <td>2011</td>\n      <td>407.08</td>\n    </tr>\n    <tr>\n      <th>10</th>\n      <td>2012</td>\n      <td>391.27</td>\n    </tr>\n    <tr>\n      <th>11</th>\n      <td>2013</td>\n      <td>381.38</td>\n    </tr>\n    <tr>\n      <th>12</th>\n      <td>2014</td>\n      <td>407.43</td>\n    </tr>\n    <tr>\n      <th>13</th>\n      <td>2015</td>\n      <td>410.72</td>\n    </tr>\n    <tr>\n      <th>14</th>\n      <td>2016</td>\n      <td>413.67</td>\n    </tr>\n    <tr>\n      <th>15</th>\n      <td>2017</td>\n      <td>410.79</td>\n    </tr>\n    <tr>\n      <th>16</th>\n      <td>2018</td>\n      <td>402.08</td>\n    </tr>\n    <tr>\n      <th>17</th>\n      <td>2019</td>\n      <td>384.69</td>\n    </tr>\n    <tr>\n      <th>18</th>\n      <td>2020</td>\n      <td>349.21</td>\n    </tr>\n    <tr>\n      <th>19</th>\n      <td>2021</td>\n      <td>316.32</td>\n    </tr>\n  </tbody>\n</table>\n</div>"
     },
     "execution_count": 7,
     "metadata": {},
     "output_type": "execute_result"
    }
   ],
   "source": [
    "# Agrupamos los datos por año y sumamos la población\n",
    "\n",
    "natalidad_mundial = poblacion_mundial.groupby('Periodo')['Total'].sum().reset_index()\n",
    "natalidad_mundial"
   ],
   "metadata": {
    "collapsed": false,
    "ExecuteTime": {
     "start_time": "2023-04-21T23:13:16.647461Z",
     "end_time": "2023-04-21T23:13:16.652618Z"
    }
   }
  },
  {
   "cell_type": "code",
   "execution_count": 12,
   "outputs": [
    {
     "data": {
      "text/plain": "    Periodo  Total_natalidad_espanola  Total_poblacion_general\n0      2002                    189.80                   470.00\n1      2003                    194.58                   475.30\n2      2004                    194.28                   478.41\n3      2005                    194.34                   446.88\n4      2006                    195.92                   452.93\n5      2007                    193.68                   454.80\n6      2008                    199.14                   487.67\n7      2009                    190.07                   448.13\n8      2010                    186.90                   441.09\n9      2011                    182.96                   407.08\n10     2012                    177.22                   391.27\n11     2013                    167.68                   381.38\n12     2014                    170.40                   407.43\n13     2015                    164.21                   410.72\n14     2016                    159.13                   413.67\n15     2017                    150.71                   410.79\n16     2018                    141.44                   402.08\n17     2019                    132.92                   384.69\n18     2020                    125.55                   349.21\n19     2021                    125.81                   316.32",
      "text/html": "<div>\n<style scoped>\n    .dataframe tbody tr th:only-of-type {\n        vertical-align: middle;\n    }\n\n    .dataframe tbody tr th {\n        vertical-align: top;\n    }\n\n    .dataframe thead th {\n        text-align: right;\n    }\n</style>\n<table border=\"1\" class=\"dataframe\">\n  <thead>\n    <tr style=\"text-align: right;\">\n      <th></th>\n      <th>Periodo</th>\n      <th>Total_natalidad_espanola</th>\n      <th>Total_poblacion_general</th>\n    </tr>\n  </thead>\n  <tbody>\n    <tr>\n      <th>0</th>\n      <td>2002</td>\n      <td>189.80</td>\n      <td>470.00</td>\n    </tr>\n    <tr>\n      <th>1</th>\n      <td>2003</td>\n      <td>194.58</td>\n      <td>475.30</td>\n    </tr>\n    <tr>\n      <th>2</th>\n      <td>2004</td>\n      <td>194.28</td>\n      <td>478.41</td>\n    </tr>\n    <tr>\n      <th>3</th>\n      <td>2005</td>\n      <td>194.34</td>\n      <td>446.88</td>\n    </tr>\n    <tr>\n      <th>4</th>\n      <td>2006</td>\n      <td>195.92</td>\n      <td>452.93</td>\n    </tr>\n    <tr>\n      <th>5</th>\n      <td>2007</td>\n      <td>193.68</td>\n      <td>454.80</td>\n    </tr>\n    <tr>\n      <th>6</th>\n      <td>2008</td>\n      <td>199.14</td>\n      <td>487.67</td>\n    </tr>\n    <tr>\n      <th>7</th>\n      <td>2009</td>\n      <td>190.07</td>\n      <td>448.13</td>\n    </tr>\n    <tr>\n      <th>8</th>\n      <td>2010</td>\n      <td>186.90</td>\n      <td>441.09</td>\n    </tr>\n    <tr>\n      <th>9</th>\n      <td>2011</td>\n      <td>182.96</td>\n      <td>407.08</td>\n    </tr>\n    <tr>\n      <th>10</th>\n      <td>2012</td>\n      <td>177.22</td>\n      <td>391.27</td>\n    </tr>\n    <tr>\n      <th>11</th>\n      <td>2013</td>\n      <td>167.68</td>\n      <td>381.38</td>\n    </tr>\n    <tr>\n      <th>12</th>\n      <td>2014</td>\n      <td>170.40</td>\n      <td>407.43</td>\n    </tr>\n    <tr>\n      <th>13</th>\n      <td>2015</td>\n      <td>164.21</td>\n      <td>410.72</td>\n    </tr>\n    <tr>\n      <th>14</th>\n      <td>2016</td>\n      <td>159.13</td>\n      <td>413.67</td>\n    </tr>\n    <tr>\n      <th>15</th>\n      <td>2017</td>\n      <td>150.71</td>\n      <td>410.79</td>\n    </tr>\n    <tr>\n      <th>16</th>\n      <td>2018</td>\n      <td>141.44</td>\n      <td>402.08</td>\n    </tr>\n    <tr>\n      <th>17</th>\n      <td>2019</td>\n      <td>132.92</td>\n      <td>384.69</td>\n    </tr>\n    <tr>\n      <th>18</th>\n      <td>2020</td>\n      <td>125.55</td>\n      <td>349.21</td>\n    </tr>\n    <tr>\n      <th>19</th>\n      <td>2021</td>\n      <td>125.81</td>\n      <td>316.32</td>\n    </tr>\n  </tbody>\n</table>\n</div>"
     },
     "execution_count": 12,
     "metadata": {},
     "output_type": "execute_result"
    }
   ],
   "source": [
    "# Combinar los DataFrames de natalidad_espanola y poblacion_general:\n",
    "\n",
    "datos_correlacion = natalidad_española.merge(natalidad_mundial, on='Periodo', suffixes=('_natalidad_espanola', '_poblacion_general'))\n",
    "datos_correlacion"
   ],
   "metadata": {
    "collapsed": false,
    "ExecuteTime": {
     "start_time": "2023-04-21T23:14:07.699233Z",
     "end_time": "2023-04-21T23:14:07.703530Z"
    }
   }
  },
  {
   "cell_type": "code",
   "execution_count": 23,
   "outputs": [
    {
     "data": {
      "application/vnd.plotly.v1+json": {
       "data": [
        {
         "marker": {
          "color": "red"
         },
         "mode": "markers",
         "name": "Natalidad Española",
         "x": [
          2002,
          2003,
          2004,
          2005,
          2006,
          2007,
          2008,
          2009,
          2010,
          2011,
          2012,
          2013,
          2014,
          2015,
          2016,
          2017,
          2018,
          2019,
          2020,
          2021
         ],
         "y": [
          189.8,
          194.58,
          194.28,
          194.34,
          195.92,
          193.68,
          199.14,
          190.07,
          186.9,
          182.96,
          177.22,
          167.68,
          170.4,
          164.21,
          159.13,
          150.71,
          141.44,
          132.92,
          125.55,
          125.81
         ],
         "type": "scatter"
        },
        {
         "marker": {
          "color": "blue"
         },
         "mode": "markers",
         "name": "Población General",
         "x": [
          2021,
          2020,
          2019,
          2018,
          2017,
          2016,
          2015,
          2014,
          2013,
          2012,
          2011,
          2010,
          2009,
          2008,
          2007,
          2006,
          2005,
          2004,
          2003,
          2002,
          2021,
          2020,
          2019,
          2018,
          2017,
          2016,
          2015,
          2014,
          2013,
          2012,
          2011,
          2010,
          2009,
          2008,
          2007,
          2006,
          2005,
          2004,
          2003,
          2002,
          2021,
          2020,
          2019,
          2018,
          2017,
          2016,
          2015,
          2014,
          2013,
          2012,
          2011,
          2010,
          2009,
          2008,
          2007,
          2006,
          2005,
          2004,
          2003,
          2002,
          2021,
          2020,
          2019,
          2018,
          2017,
          2016,
          2015,
          2014,
          2013,
          2012,
          2011,
          2010,
          2009,
          2008,
          2007,
          2006,
          2005,
          2004,
          2003,
          2002,
          2021,
          2020,
          2019,
          2018,
          2017,
          2016,
          2015,
          2014,
          2013,
          2012,
          2011,
          2010,
          2009,
          2008,
          2007,
          2006,
          2005,
          2004,
          2003,
          2002,
          2021,
          2020,
          2019,
          2018,
          2017,
          2016,
          2015,
          2014,
          2013,
          2012,
          2011,
          2010,
          2009,
          2008,
          2007,
          2006,
          2005,
          2004,
          2003,
          2002,
          2021,
          2020,
          2019,
          2018,
          2017,
          2016,
          2015,
          2014,
          2013,
          2012,
          2011,
          2010,
          2009,
          2008,
          2007,
          2006,
          2005,
          2004,
          2003,
          2002,
          2021,
          2020,
          2019,
          2018,
          2017,
          2016,
          2015,
          2014,
          2013,
          2012,
          2011,
          2010,
          2009,
          2008,
          2007,
          2006,
          2005,
          2004,
          2003,
          2002,
          2021,
          2020,
          2019,
          2018,
          2017,
          2016,
          2015,
          2014,
          2013,
          2012,
          2011,
          2010,
          2009,
          2008,
          2007,
          2006,
          2005,
          2004,
          2003,
          2002,
          2021,
          2020,
          2019,
          2018,
          2017,
          2016,
          2015,
          2014,
          2013,
          2012,
          2011,
          2010,
          2009,
          2008,
          2007,
          2006,
          2005,
          2004,
          2003,
          2002,
          2021,
          2020,
          2019,
          2018,
          2017,
          2016,
          2015,
          2014,
          2013,
          2012,
          2011,
          2010,
          2009,
          2008,
          2007,
          2006,
          2005,
          2004,
          2003,
          2002,
          2021,
          2020,
          2019,
          2018,
          2017,
          2016,
          2015,
          2014,
          2013,
          2012,
          2011,
          2010,
          2009,
          2008,
          2007,
          2006,
          2005,
          2004,
          2003,
          2002,
          2021,
          2020,
          2019,
          2018,
          2017,
          2016,
          2015,
          2014,
          2013,
          2012,
          2011,
          2010,
          2009,
          2008,
          2007,
          2006,
          2005,
          2004,
          2003,
          2002,
          2021,
          2020,
          2019,
          2018,
          2017,
          2016,
          2015,
          2014,
          2013,
          2012,
          2011,
          2010,
          2009,
          2008,
          2007,
          2006,
          2005,
          2004,
          2003,
          2002,
          2021,
          2020,
          2019,
          2018,
          2017,
          2016,
          2015,
          2014,
          2013,
          2012,
          2011,
          2010,
          2009,
          2008,
          2007,
          2006,
          2005,
          2004,
          2003,
          2002,
          2021,
          2020,
          2019,
          2018,
          2017,
          2016,
          2015,
          2014,
          2013,
          2012,
          2011,
          2010,
          2009,
          2008,
          2007,
          2006,
          2005,
          2004,
          2003,
          2002,
          2021,
          2020,
          2019,
          2018,
          2017,
          2016,
          2015,
          2014,
          2013,
          2012,
          2011,
          2010,
          2009,
          2008,
          2007,
          2006,
          2005,
          2004,
          2003,
          2002,
          2021,
          2020,
          2019,
          2018,
          2017,
          2016,
          2015,
          2014,
          2013,
          2012,
          2011,
          2010,
          2009,
          2008,
          2007,
          2006,
          2005,
          2004,
          2003,
          2002,
          2021,
          2020,
          2019,
          2018,
          2017,
          2016,
          2015,
          2014,
          2013,
          2012,
          2011,
          2010,
          2009,
          2008,
          2007,
          2006,
          2005,
          2004,
          2003,
          2002,
          2021,
          2020,
          2019,
          2018,
          2017,
          2016,
          2015,
          2014,
          2013,
          2012,
          2011,
          2010,
          2009,
          2008,
          2007,
          2006,
          2005,
          2004,
          2003,
          2002
         ],
         "y": [
          13.51,
          14.39,
          15.72,
          16.27,
          16.75,
          16.97,
          16.71,
          16.59,
          16.05,
          16.78,
          17.24,
          18.46,
          18.69,
          20.34,
          19.27,
          18.86,
          18.57,
          19.74,
          19.99,
          21.02,
          12.19,
          13.1,
          14.51,
          14.52,
          14.53,
          14.98,
          14.69,
          14.66,
          14.64,
          15.38,
          16.29,
          17.46,
          18.17,
          19.94,
          19.19,
          17.77,
          17.0,
          19.56,
          18.52,
          17.96,
          15.55,
          14.12,
          15.59,
          16.86,
          16.87,
          17.59,
          16.62,
          17.0,
          16.51,
          17.0,
          17.7,
          19.44,
          19.45,
          21.13,
          20.02,
          19.98,
          19.11,
          20.11,
          22.05,
          20.93,
          11.44,
          12.99,
          14.07,
          15.05,
          14.38,
          14.94,
          14.84,
          13.68,
          14.36,
          15.08,
          15.85,
          17.03,
          17.28,
          18.34,
          18.09,
          17.1,
          19.08,
          18.28,
          18.39,
          17.1,
          10.52,
          11.18,
          12.35,
          12.81,
          13.07,
          13.43,
          13.09,
          13.01,
          13.83,
          14.56,
          14.73,
          16.42,
          17.35,
          18.58,
          17.02,
          17.45,
          17.45,
          17.91,
          19.19,
          21.18,
          7.02,
          7.83,
          8.5,
          8.91,
          9.34,
          9.67,
          9.6,
          9.7,
          9.46,
          11.06,
          11.18,
          12.36,
          13.26,
          14.4,
          13.24,
          14.25,
          14.37,
          13.67,
          14.76,
          17.53,
          11.41,
          12.75,
          13.68,
          13.98,
          14.21,
          14.74,
          15.01,
          15.01,
          14.43,
          15.53,
          16.71,
          17.79,
          18.49,
          20.08,
          20.36,
          17.86,
          18.22,
          19.76,
          19.13,
          20.86,
          12.59,
          14.06,
          15.5,
          15.15,
          15.21,
          15.04,
          15.74,
          15.22,
          14.88,
          16.1,
          17.13,
          18.56,
          18.64,
          20.58,
          19.13,
          19.96,
          19.56,
          19.87,
          20.61,
          21.12,
          14.18,
          15.43,
          16.14,
          16.04,
          16.83,
          16.66,
          16.15,
          15.59,
          16.43,
          17.44,
          18.32,
          20.86,
          20.8,
          22.76,
          21.05,
          21.69,
          20.29,
          23.1,
          22.91,
          21.42,
          16.37,
          17.22,
          18.71,
          19.46,
          20.67,
          20.77,
          20.34,
          20.26,
          18.93,
          19.61,
          20.08,
          21.19,
          20.74,
          22.0,
          20.75,
          20.4,
          20.46,
          21.5,
          21.26,
          22.54,
          10.97,
          11.88,
          12.31,
          12.82,
          12.91,
          12.98,
          12.8,
          12.6,
          12.2,
          12.99,
          13.7,
          14.79,
          14.89,
          17.0,
          15.9,
          15.58,
          15.53,
          16.32,
          16.53,
          17.02,
          15.11,
          17.05,
          18.2,
          18.22,
          17.76,
          17.79,
          16.81,
          16.26,
          15.59,
          15.01,
          18.3,
          20.0,
          19.55,
          21.51,
          19.37,
          19.66,
          20.86,
          25.37,
          22.09,
          23.63,
          12.69,
          13.1,
          14.32,
          14.48,
          14.78,
          14.15,
          13.42,
          14.58,
          14.21,
          15.17,
          15.08,
          17.39,
          17.72,
          18.43,
          17.08,
          16.59,
          18.1,
          18.25,
          18.8,
          18.54,
          14.06,
          14.86,
          16.77,
          17.91,
          18.74,
          19.11,
          19.01,
          19.0,
          17.89,
          18.05,
          17.91,
          18.97,
          19.42,
          21.44,
          20.88,
          20.23,
          19.5,
          20.7,
          21.05,
          23.26,
          15.76,
          16.9,
          17.98,
          18.4,
          18.08,
          18.11,
          17.75,
          17.52,
          16.9,
          17.69,
          18.36,
          19.17,
          20.11,
          22.02,
          21.35,
          20.32,
          20.43,
          22.49,
          24.41,
          26.12,
          18.91,
          19.89,
          21.98,
          21.48,
          23.2,
          20.97,
          21.49,
          19.53,
          18.62,
          20.93,
          19.68,
          21.81,
          21.12,
          22.48,
          21.96,
          23.63,
          20.7,
          22.56,
          22.2,
          21.41,
          21.69,
          22.72,
          25.21,
          26.73,
          26.9,
          28.98,
          28.26,
          26.17,
          23.41,
          22.34,
          21.23,
          20.83,
          22.41,
          22.92,
          20.26,
          18.76,
          18.42,
          19.2,
          19.99,
          20.62,
          15.91,
          17.26,
          19.49,
          19.07,
          21.36,
          21.36,
          20.24,
          18.78,
          19.13,
          19.79,
          20.78,
          22.65,
          20.19,
          23.03,
          22.78,
          21.83,
          21.39,
          20.8,
          21.47,
          20.02,
          32.35,
          44.34,
          37.88,
          47.22,
          44.79,
          43.2,
          43.54,
          45.52,
          39.26,
          33.29,
          41.19,
          52.47,
          56.74,
          63.58,
          50.34,
          44.68,
          43.8,
          49.76,
          38.97,
          43.29,
          34.09,
          38.14,
          55.78,
          56.7,
          60.41,
          62.23,
          64.61,
          66.75,
          54.65,
          57.47,
          55.62,
          53.44,
          53.11,
          57.11,
          56.76,
          66.33,
          64.04,
          69.46,
          72.98,
          54.43
         ],
         "type": "scatter"
        }
       ],
       "layout": {
        "title": {
         "text": "Correlación entre la natalidad española y la población general"
        },
        "xaxis": {
         "title": {
          "text": "Período"
         }
        },
        "yaxis": {
         "title": {
          "text": "Total"
         }
        },
        "template": {
         "data": {
          "histogram2dcontour": [
           {
            "type": "histogram2dcontour",
            "colorbar": {
             "outlinewidth": 0,
             "ticks": ""
            },
            "colorscale": [
             [
              0.0,
              "#0d0887"
             ],
             [
              0.1111111111111111,
              "#46039f"
             ],
             [
              0.2222222222222222,
              "#7201a8"
             ],
             [
              0.3333333333333333,
              "#9c179e"
             ],
             [
              0.4444444444444444,
              "#bd3786"
             ],
             [
              0.5555555555555556,
              "#d8576b"
             ],
             [
              0.6666666666666666,
              "#ed7953"
             ],
             [
              0.7777777777777778,
              "#fb9f3a"
             ],
             [
              0.8888888888888888,
              "#fdca26"
             ],
             [
              1.0,
              "#f0f921"
             ]
            ]
           }
          ],
          "choropleth": [
           {
            "type": "choropleth",
            "colorbar": {
             "outlinewidth": 0,
             "ticks": ""
            }
           }
          ],
          "histogram2d": [
           {
            "type": "histogram2d",
            "colorbar": {
             "outlinewidth": 0,
             "ticks": ""
            },
            "colorscale": [
             [
              0.0,
              "#0d0887"
             ],
             [
              0.1111111111111111,
              "#46039f"
             ],
             [
              0.2222222222222222,
              "#7201a8"
             ],
             [
              0.3333333333333333,
              "#9c179e"
             ],
             [
              0.4444444444444444,
              "#bd3786"
             ],
             [
              0.5555555555555556,
              "#d8576b"
             ],
             [
              0.6666666666666666,
              "#ed7953"
             ],
             [
              0.7777777777777778,
              "#fb9f3a"
             ],
             [
              0.8888888888888888,
              "#fdca26"
             ],
             [
              1.0,
              "#f0f921"
             ]
            ]
           }
          ],
          "heatmap": [
           {
            "type": "heatmap",
            "colorbar": {
             "outlinewidth": 0,
             "ticks": ""
            },
            "colorscale": [
             [
              0.0,
              "#0d0887"
             ],
             [
              0.1111111111111111,
              "#46039f"
             ],
             [
              0.2222222222222222,
              "#7201a8"
             ],
             [
              0.3333333333333333,
              "#9c179e"
             ],
             [
              0.4444444444444444,
              "#bd3786"
             ],
             [
              0.5555555555555556,
              "#d8576b"
             ],
             [
              0.6666666666666666,
              "#ed7953"
             ],
             [
              0.7777777777777778,
              "#fb9f3a"
             ],
             [
              0.8888888888888888,
              "#fdca26"
             ],
             [
              1.0,
              "#f0f921"
             ]
            ]
           }
          ],
          "heatmapgl": [
           {
            "type": "heatmapgl",
            "colorbar": {
             "outlinewidth": 0,
             "ticks": ""
            },
            "colorscale": [
             [
              0.0,
              "#0d0887"
             ],
             [
              0.1111111111111111,
              "#46039f"
             ],
             [
              0.2222222222222222,
              "#7201a8"
             ],
             [
              0.3333333333333333,
              "#9c179e"
             ],
             [
              0.4444444444444444,
              "#bd3786"
             ],
             [
              0.5555555555555556,
              "#d8576b"
             ],
             [
              0.6666666666666666,
              "#ed7953"
             ],
             [
              0.7777777777777778,
              "#fb9f3a"
             ],
             [
              0.8888888888888888,
              "#fdca26"
             ],
             [
              1.0,
              "#f0f921"
             ]
            ]
           }
          ],
          "contourcarpet": [
           {
            "type": "contourcarpet",
            "colorbar": {
             "outlinewidth": 0,
             "ticks": ""
            }
           }
          ],
          "contour": [
           {
            "type": "contour",
            "colorbar": {
             "outlinewidth": 0,
             "ticks": ""
            },
            "colorscale": [
             [
              0.0,
              "#0d0887"
             ],
             [
              0.1111111111111111,
              "#46039f"
             ],
             [
              0.2222222222222222,
              "#7201a8"
             ],
             [
              0.3333333333333333,
              "#9c179e"
             ],
             [
              0.4444444444444444,
              "#bd3786"
             ],
             [
              0.5555555555555556,
              "#d8576b"
             ],
             [
              0.6666666666666666,
              "#ed7953"
             ],
             [
              0.7777777777777778,
              "#fb9f3a"
             ],
             [
              0.8888888888888888,
              "#fdca26"
             ],
             [
              1.0,
              "#f0f921"
             ]
            ]
           }
          ],
          "surface": [
           {
            "type": "surface",
            "colorbar": {
             "outlinewidth": 0,
             "ticks": ""
            },
            "colorscale": [
             [
              0.0,
              "#0d0887"
             ],
             [
              0.1111111111111111,
              "#46039f"
             ],
             [
              0.2222222222222222,
              "#7201a8"
             ],
             [
              0.3333333333333333,
              "#9c179e"
             ],
             [
              0.4444444444444444,
              "#bd3786"
             ],
             [
              0.5555555555555556,
              "#d8576b"
             ],
             [
              0.6666666666666666,
              "#ed7953"
             ],
             [
              0.7777777777777778,
              "#fb9f3a"
             ],
             [
              0.8888888888888888,
              "#fdca26"
             ],
             [
              1.0,
              "#f0f921"
             ]
            ]
           }
          ],
          "mesh3d": [
           {
            "type": "mesh3d",
            "colorbar": {
             "outlinewidth": 0,
             "ticks": ""
            }
           }
          ],
          "scatter": [
           {
            "marker": {
             "line": {
              "color": "#283442"
             }
            },
            "type": "scatter"
           }
          ],
          "parcoords": [
           {
            "type": "parcoords",
            "line": {
             "colorbar": {
              "outlinewidth": 0,
              "ticks": ""
             }
            }
           }
          ],
          "scatterpolargl": [
           {
            "type": "scatterpolargl",
            "marker": {
             "colorbar": {
              "outlinewidth": 0,
              "ticks": ""
             }
            }
           }
          ],
          "bar": [
           {
            "error_x": {
             "color": "#f2f5fa"
            },
            "error_y": {
             "color": "#f2f5fa"
            },
            "marker": {
             "line": {
              "color": "rgb(17,17,17)",
              "width": 0.5
             },
             "pattern": {
              "fillmode": "overlay",
              "size": 10,
              "solidity": 0.2
             }
            },
            "type": "bar"
           }
          ],
          "scattergeo": [
           {
            "type": "scattergeo",
            "marker": {
             "colorbar": {
              "outlinewidth": 0,
              "ticks": ""
             }
            }
           }
          ],
          "scatterpolar": [
           {
            "type": "scatterpolar",
            "marker": {
             "colorbar": {
              "outlinewidth": 0,
              "ticks": ""
             }
            }
           }
          ],
          "histogram": [
           {
            "marker": {
             "pattern": {
              "fillmode": "overlay",
              "size": 10,
              "solidity": 0.2
             }
            },
            "type": "histogram"
           }
          ],
          "scattergl": [
           {
            "marker": {
             "line": {
              "color": "#283442"
             }
            },
            "type": "scattergl"
           }
          ],
          "scatter3d": [
           {
            "type": "scatter3d",
            "line": {
             "colorbar": {
              "outlinewidth": 0,
              "ticks": ""
             }
            },
            "marker": {
             "colorbar": {
              "outlinewidth": 0,
              "ticks": ""
             }
            }
           }
          ],
          "scattermapbox": [
           {
            "type": "scattermapbox",
            "marker": {
             "colorbar": {
              "outlinewidth": 0,
              "ticks": ""
             }
            }
           }
          ],
          "scatterternary": [
           {
            "type": "scatterternary",
            "marker": {
             "colorbar": {
              "outlinewidth": 0,
              "ticks": ""
             }
            }
           }
          ],
          "scattercarpet": [
           {
            "type": "scattercarpet",
            "marker": {
             "colorbar": {
              "outlinewidth": 0,
              "ticks": ""
             }
            }
           }
          ],
          "carpet": [
           {
            "aaxis": {
             "endlinecolor": "#A2B1C6",
             "gridcolor": "#506784",
             "linecolor": "#506784",
             "minorgridcolor": "#506784",
             "startlinecolor": "#A2B1C6"
            },
            "baxis": {
             "endlinecolor": "#A2B1C6",
             "gridcolor": "#506784",
             "linecolor": "#506784",
             "minorgridcolor": "#506784",
             "startlinecolor": "#A2B1C6"
            },
            "type": "carpet"
           }
          ],
          "table": [
           {
            "cells": {
             "fill": {
              "color": "#506784"
             },
             "line": {
              "color": "rgb(17,17,17)"
             }
            },
            "header": {
             "fill": {
              "color": "#2a3f5f"
             },
             "line": {
              "color": "rgb(17,17,17)"
             }
            },
            "type": "table"
           }
          ],
          "barpolar": [
           {
            "marker": {
             "line": {
              "color": "rgb(17,17,17)",
              "width": 0.5
             },
             "pattern": {
              "fillmode": "overlay",
              "size": 10,
              "solidity": 0.2
             }
            },
            "type": "barpolar"
           }
          ],
          "pie": [
           {
            "automargin": true,
            "type": "pie"
           }
          ]
         },
         "layout": {
          "autotypenumbers": "strict",
          "colorway": [
           "#636efa",
           "#EF553B",
           "#00cc96",
           "#ab63fa",
           "#FFA15A",
           "#19d3f3",
           "#FF6692",
           "#B6E880",
           "#FF97FF",
           "#FECB52"
          ],
          "font": {
           "color": "#f2f5fa"
          },
          "hovermode": "closest",
          "hoverlabel": {
           "align": "left"
          },
          "paper_bgcolor": "rgb(17,17,17)",
          "plot_bgcolor": "rgb(17,17,17)",
          "polar": {
           "bgcolor": "rgb(17,17,17)",
           "angularaxis": {
            "gridcolor": "#506784",
            "linecolor": "#506784",
            "ticks": ""
           },
           "radialaxis": {
            "gridcolor": "#506784",
            "linecolor": "#506784",
            "ticks": ""
           }
          },
          "ternary": {
           "bgcolor": "rgb(17,17,17)",
           "aaxis": {
            "gridcolor": "#506784",
            "linecolor": "#506784",
            "ticks": ""
           },
           "baxis": {
            "gridcolor": "#506784",
            "linecolor": "#506784",
            "ticks": ""
           },
           "caxis": {
            "gridcolor": "#506784",
            "linecolor": "#506784",
            "ticks": ""
           }
          },
          "coloraxis": {
           "colorbar": {
            "outlinewidth": 0,
            "ticks": ""
           }
          },
          "colorscale": {
           "sequential": [
            [
             0.0,
             "#0d0887"
            ],
            [
             0.1111111111111111,
             "#46039f"
            ],
            [
             0.2222222222222222,
             "#7201a8"
            ],
            [
             0.3333333333333333,
             "#9c179e"
            ],
            [
             0.4444444444444444,
             "#bd3786"
            ],
            [
             0.5555555555555556,
             "#d8576b"
            ],
            [
             0.6666666666666666,
             "#ed7953"
            ],
            [
             0.7777777777777778,
             "#fb9f3a"
            ],
            [
             0.8888888888888888,
             "#fdca26"
            ],
            [
             1.0,
             "#f0f921"
            ]
           ],
           "sequentialminus": [
            [
             0.0,
             "#0d0887"
            ],
            [
             0.1111111111111111,
             "#46039f"
            ],
            [
             0.2222222222222222,
             "#7201a8"
            ],
            [
             0.3333333333333333,
             "#9c179e"
            ],
            [
             0.4444444444444444,
             "#bd3786"
            ],
            [
             0.5555555555555556,
             "#d8576b"
            ],
            [
             0.6666666666666666,
             "#ed7953"
            ],
            [
             0.7777777777777778,
             "#fb9f3a"
            ],
            [
             0.8888888888888888,
             "#fdca26"
            ],
            [
             1.0,
             "#f0f921"
            ]
           ],
           "diverging": [
            [
             0,
             "#8e0152"
            ],
            [
             0.1,
             "#c51b7d"
            ],
            [
             0.2,
             "#de77ae"
            ],
            [
             0.3,
             "#f1b6da"
            ],
            [
             0.4,
             "#fde0ef"
            ],
            [
             0.5,
             "#f7f7f7"
            ],
            [
             0.6,
             "#e6f5d0"
            ],
            [
             0.7,
             "#b8e186"
            ],
            [
             0.8,
             "#7fbc41"
            ],
            [
             0.9,
             "#4d9221"
            ],
            [
             1,
             "#276419"
            ]
           ]
          },
          "xaxis": {
           "gridcolor": "#283442",
           "linecolor": "#506784",
           "ticks": "",
           "title": {
            "standoff": 15
           },
           "zerolinecolor": "#283442",
           "automargin": true,
           "zerolinewidth": 2
          },
          "yaxis": {
           "gridcolor": "#283442",
           "linecolor": "#506784",
           "ticks": "",
           "title": {
            "standoff": 15
           },
           "zerolinecolor": "#283442",
           "automargin": true,
           "zerolinewidth": 2
          },
          "scene": {
           "xaxis": {
            "backgroundcolor": "rgb(17,17,17)",
            "gridcolor": "#506784",
            "linecolor": "#506784",
            "showbackground": true,
            "ticks": "",
            "zerolinecolor": "#C8D4E3",
            "gridwidth": 2
           },
           "yaxis": {
            "backgroundcolor": "rgb(17,17,17)",
            "gridcolor": "#506784",
            "linecolor": "#506784",
            "showbackground": true,
            "ticks": "",
            "zerolinecolor": "#C8D4E3",
            "gridwidth": 2
           },
           "zaxis": {
            "backgroundcolor": "rgb(17,17,17)",
            "gridcolor": "#506784",
            "linecolor": "#506784",
            "showbackground": true,
            "ticks": "",
            "zerolinecolor": "#C8D4E3",
            "gridwidth": 2
           }
          },
          "shapedefaults": {
           "line": {
            "color": "#f2f5fa"
           }
          },
          "annotationdefaults": {
           "arrowcolor": "#f2f5fa",
           "arrowhead": 0,
           "arrowwidth": 1
          },
          "geo": {
           "bgcolor": "rgb(17,17,17)",
           "landcolor": "rgb(17,17,17)",
           "subunitcolor": "#506784",
           "showland": true,
           "showlakes": true,
           "lakecolor": "rgb(17,17,17)"
          },
          "title": {
           "x": 0.05
          },
          "updatemenudefaults": {
           "bgcolor": "#506784",
           "borderwidth": 0
          },
          "sliderdefaults": {
           "bgcolor": "#C8D4E3",
           "borderwidth": 1,
           "bordercolor": "rgb(17,17,17)",
           "tickwidth": 0
          },
          "mapbox": {
           "style": "dark"
          }
         }
        }
       },
       "config": {
        "plotlyServerURL": "https://plot.ly"
       }
      },
      "text/html": "<div>                            <div id=\"d493c876-0a46-442d-8d80-05cea6b9e034\" class=\"plotly-graph-div\" style=\"height:525px; width:100%;\"></div>            <script type=\"text/javascript\">                require([\"plotly\"], function(Plotly) {                    window.PLOTLYENV=window.PLOTLYENV || {};                                    if (document.getElementById(\"d493c876-0a46-442d-8d80-05cea6b9e034\")) {                    Plotly.newPlot(                        \"d493c876-0a46-442d-8d80-05cea6b9e034\",                        [{\"marker\":{\"color\":\"red\"},\"mode\":\"markers\",\"name\":\"Natalidad Espa\\u00f1ola\",\"x\":[2002,2003,2004,2005,2006,2007,2008,2009,2010,2011,2012,2013,2014,2015,2016,2017,2018,2019,2020,2021],\"y\":[189.8,194.58,194.28,194.34,195.92,193.68,199.14,190.07,186.9,182.96,177.22,167.68,170.4,164.21,159.13,150.71,141.44,132.92,125.55,125.81],\"type\":\"scatter\"},{\"marker\":{\"color\":\"blue\"},\"mode\":\"markers\",\"name\":\"Poblaci\\u00f3n General\",\"x\":[2021,2020,2019,2018,2017,2016,2015,2014,2013,2012,2011,2010,2009,2008,2007,2006,2005,2004,2003,2002,2021,2020,2019,2018,2017,2016,2015,2014,2013,2012,2011,2010,2009,2008,2007,2006,2005,2004,2003,2002,2021,2020,2019,2018,2017,2016,2015,2014,2013,2012,2011,2010,2009,2008,2007,2006,2005,2004,2003,2002,2021,2020,2019,2018,2017,2016,2015,2014,2013,2012,2011,2010,2009,2008,2007,2006,2005,2004,2003,2002,2021,2020,2019,2018,2017,2016,2015,2014,2013,2012,2011,2010,2009,2008,2007,2006,2005,2004,2003,2002,2021,2020,2019,2018,2017,2016,2015,2014,2013,2012,2011,2010,2009,2008,2007,2006,2005,2004,2003,2002,2021,2020,2019,2018,2017,2016,2015,2014,2013,2012,2011,2010,2009,2008,2007,2006,2005,2004,2003,2002,2021,2020,2019,2018,2017,2016,2015,2014,2013,2012,2011,2010,2009,2008,2007,2006,2005,2004,2003,2002,2021,2020,2019,2018,2017,2016,2015,2014,2013,2012,2011,2010,2009,2008,2007,2006,2005,2004,2003,2002,2021,2020,2019,2018,2017,2016,2015,2014,2013,2012,2011,2010,2009,2008,2007,2006,2005,2004,2003,2002,2021,2020,2019,2018,2017,2016,2015,2014,2013,2012,2011,2010,2009,2008,2007,2006,2005,2004,2003,2002,2021,2020,2019,2018,2017,2016,2015,2014,2013,2012,2011,2010,2009,2008,2007,2006,2005,2004,2003,2002,2021,2020,2019,2018,2017,2016,2015,2014,2013,2012,2011,2010,2009,2008,2007,2006,2005,2004,2003,2002,2021,2020,2019,2018,2017,2016,2015,2014,2013,2012,2011,2010,2009,2008,2007,2006,2005,2004,2003,2002,2021,2020,2019,2018,2017,2016,2015,2014,2013,2012,2011,2010,2009,2008,2007,2006,2005,2004,2003,2002,2021,2020,2019,2018,2017,2016,2015,2014,2013,2012,2011,2010,2009,2008,2007,2006,2005,2004,2003,2002,2021,2020,2019,2018,2017,2016,2015,2014,2013,2012,2011,2010,2009,2008,2007,2006,2005,2004,2003,2002,2021,2020,2019,2018,2017,2016,2015,2014,2013,2012,2011,2010,2009,2008,2007,2006,2005,2004,2003,2002,2021,2020,2019,2018,2017,2016,2015,2014,2013,2012,2011,2010,2009,2008,2007,2006,2005,2004,2003,2002,2021,2020,2019,2018,2017,2016,2015,2014,2013,2012,2011,2010,2009,2008,2007,2006,2005,2004,2003,2002],\"y\":[13.51,14.39,15.72,16.27,16.75,16.97,16.71,16.59,16.05,16.78,17.24,18.46,18.69,20.34,19.27,18.86,18.57,19.74,19.99,21.02,12.19,13.1,14.51,14.52,14.53,14.98,14.69,14.66,14.64,15.38,16.29,17.46,18.17,19.94,19.19,17.77,17.0,19.56,18.52,17.96,15.55,14.12,15.59,16.86,16.87,17.59,16.62,17.0,16.51,17.0,17.7,19.44,19.45,21.13,20.02,19.98,19.11,20.11,22.05,20.93,11.44,12.99,14.07,15.05,14.38,14.94,14.84,13.68,14.36,15.08,15.85,17.03,17.28,18.34,18.09,17.1,19.08,18.28,18.39,17.1,10.52,11.18,12.35,12.81,13.07,13.43,13.09,13.01,13.83,14.56,14.73,16.42,17.35,18.58,17.02,17.45,17.45,17.91,19.19,21.18,7.02,7.83,8.5,8.91,9.34,9.67,9.6,9.7,9.46,11.06,11.18,12.36,13.26,14.4,13.24,14.25,14.37,13.67,14.76,17.53,11.41,12.75,13.68,13.98,14.21,14.74,15.01,15.01,14.43,15.53,16.71,17.79,18.49,20.08,20.36,17.86,18.22,19.76,19.13,20.86,12.59,14.06,15.5,15.15,15.21,15.04,15.74,15.22,14.88,16.1,17.13,18.56,18.64,20.58,19.13,19.96,19.56,19.87,20.61,21.12,14.18,15.43,16.14,16.04,16.83,16.66,16.15,15.59,16.43,17.44,18.32,20.86,20.8,22.76,21.05,21.69,20.29,23.1,22.91,21.42,16.37,17.22,18.71,19.46,20.67,20.77,20.34,20.26,18.93,19.61,20.08,21.19,20.74,22.0,20.75,20.4,20.46,21.5,21.26,22.54,10.97,11.88,12.31,12.82,12.91,12.98,12.8,12.6,12.2,12.99,13.7,14.79,14.89,17.0,15.9,15.58,15.53,16.32,16.53,17.02,15.11,17.05,18.2,18.22,17.76,17.79,16.81,16.26,15.59,15.01,18.3,20.0,19.55,21.51,19.37,19.66,20.86,25.37,22.09,23.63,12.69,13.1,14.32,14.48,14.78,14.15,13.42,14.58,14.21,15.17,15.08,17.39,17.72,18.43,17.08,16.59,18.1,18.25,18.8,18.54,14.06,14.86,16.77,17.91,18.74,19.11,19.01,19.0,17.89,18.05,17.91,18.97,19.42,21.44,20.88,20.23,19.5,20.7,21.05,23.26,15.76,16.9,17.98,18.4,18.08,18.11,17.75,17.52,16.9,17.69,18.36,19.17,20.11,22.02,21.35,20.32,20.43,22.49,24.41,26.12,18.91,19.89,21.98,21.48,23.2,20.97,21.49,19.53,18.62,20.93,19.68,21.81,21.12,22.48,21.96,23.63,20.7,22.56,22.2,21.41,21.69,22.72,25.21,26.73,26.9,28.98,28.26,26.17,23.41,22.34,21.23,20.83,22.41,22.92,20.26,18.76,18.42,19.2,19.99,20.62,15.91,17.26,19.49,19.07,21.36,21.36,20.24,18.78,19.13,19.79,20.78,22.65,20.19,23.03,22.78,21.83,21.39,20.8,21.47,20.02,32.35,44.34,37.88,47.22,44.79,43.2,43.54,45.52,39.26,33.29,41.19,52.47,56.74,63.58,50.34,44.68,43.8,49.76,38.97,43.29,34.09,38.14,55.78,56.7,60.41,62.23,64.61,66.75,54.65,57.47,55.62,53.44,53.11,57.11,56.76,66.33,64.04,69.46,72.98,54.43],\"type\":\"scatter\"}],                        {\"title\":{\"text\":\"Correlaci\\u00f3n entre la natalidad espa\\u00f1ola y la poblaci\\u00f3n general\"},\"xaxis\":{\"title\":{\"text\":\"Per\\u00edodo\"}},\"yaxis\":{\"title\":{\"text\":\"Total\"}},\"template\":{\"data\":{\"histogram2dcontour\":[{\"type\":\"histogram2dcontour\",\"colorbar\":{\"outlinewidth\":0,\"ticks\":\"\"},\"colorscale\":[[0.0,\"#0d0887\"],[0.1111111111111111,\"#46039f\"],[0.2222222222222222,\"#7201a8\"],[0.3333333333333333,\"#9c179e\"],[0.4444444444444444,\"#bd3786\"],[0.5555555555555556,\"#d8576b\"],[0.6666666666666666,\"#ed7953\"],[0.7777777777777778,\"#fb9f3a\"],[0.8888888888888888,\"#fdca26\"],[1.0,\"#f0f921\"]]}],\"choropleth\":[{\"type\":\"choropleth\",\"colorbar\":{\"outlinewidth\":0,\"ticks\":\"\"}}],\"histogram2d\":[{\"type\":\"histogram2d\",\"colorbar\":{\"outlinewidth\":0,\"ticks\":\"\"},\"colorscale\":[[0.0,\"#0d0887\"],[0.1111111111111111,\"#46039f\"],[0.2222222222222222,\"#7201a8\"],[0.3333333333333333,\"#9c179e\"],[0.4444444444444444,\"#bd3786\"],[0.5555555555555556,\"#d8576b\"],[0.6666666666666666,\"#ed7953\"],[0.7777777777777778,\"#fb9f3a\"],[0.8888888888888888,\"#fdca26\"],[1.0,\"#f0f921\"]]}],\"heatmap\":[{\"type\":\"heatmap\",\"colorbar\":{\"outlinewidth\":0,\"ticks\":\"\"},\"colorscale\":[[0.0,\"#0d0887\"],[0.1111111111111111,\"#46039f\"],[0.2222222222222222,\"#7201a8\"],[0.3333333333333333,\"#9c179e\"],[0.4444444444444444,\"#bd3786\"],[0.5555555555555556,\"#d8576b\"],[0.6666666666666666,\"#ed7953\"],[0.7777777777777778,\"#fb9f3a\"],[0.8888888888888888,\"#fdca26\"],[1.0,\"#f0f921\"]]}],\"heatmapgl\":[{\"type\":\"heatmapgl\",\"colorbar\":{\"outlinewidth\":0,\"ticks\":\"\"},\"colorscale\":[[0.0,\"#0d0887\"],[0.1111111111111111,\"#46039f\"],[0.2222222222222222,\"#7201a8\"],[0.3333333333333333,\"#9c179e\"],[0.4444444444444444,\"#bd3786\"],[0.5555555555555556,\"#d8576b\"],[0.6666666666666666,\"#ed7953\"],[0.7777777777777778,\"#fb9f3a\"],[0.8888888888888888,\"#fdca26\"],[1.0,\"#f0f921\"]]}],\"contourcarpet\":[{\"type\":\"contourcarpet\",\"colorbar\":{\"outlinewidth\":0,\"ticks\":\"\"}}],\"contour\":[{\"type\":\"contour\",\"colorbar\":{\"outlinewidth\":0,\"ticks\":\"\"},\"colorscale\":[[0.0,\"#0d0887\"],[0.1111111111111111,\"#46039f\"],[0.2222222222222222,\"#7201a8\"],[0.3333333333333333,\"#9c179e\"],[0.4444444444444444,\"#bd3786\"],[0.5555555555555556,\"#d8576b\"],[0.6666666666666666,\"#ed7953\"],[0.7777777777777778,\"#fb9f3a\"],[0.8888888888888888,\"#fdca26\"],[1.0,\"#f0f921\"]]}],\"surface\":[{\"type\":\"surface\",\"colorbar\":{\"outlinewidth\":0,\"ticks\":\"\"},\"colorscale\":[[0.0,\"#0d0887\"],[0.1111111111111111,\"#46039f\"],[0.2222222222222222,\"#7201a8\"],[0.3333333333333333,\"#9c179e\"],[0.4444444444444444,\"#bd3786\"],[0.5555555555555556,\"#d8576b\"],[0.6666666666666666,\"#ed7953\"],[0.7777777777777778,\"#fb9f3a\"],[0.8888888888888888,\"#fdca26\"],[1.0,\"#f0f921\"]]}],\"mesh3d\":[{\"type\":\"mesh3d\",\"colorbar\":{\"outlinewidth\":0,\"ticks\":\"\"}}],\"scatter\":[{\"marker\":{\"line\":{\"color\":\"#283442\"}},\"type\":\"scatter\"}],\"parcoords\":[{\"type\":\"parcoords\",\"line\":{\"colorbar\":{\"outlinewidth\":0,\"ticks\":\"\"}}}],\"scatterpolargl\":[{\"type\":\"scatterpolargl\",\"marker\":{\"colorbar\":{\"outlinewidth\":0,\"ticks\":\"\"}}}],\"bar\":[{\"error_x\":{\"color\":\"#f2f5fa\"},\"error_y\":{\"color\":\"#f2f5fa\"},\"marker\":{\"line\":{\"color\":\"rgb(17,17,17)\",\"width\":0.5},\"pattern\":{\"fillmode\":\"overlay\",\"size\":10,\"solidity\":0.2}},\"type\":\"bar\"}],\"scattergeo\":[{\"type\":\"scattergeo\",\"marker\":{\"colorbar\":{\"outlinewidth\":0,\"ticks\":\"\"}}}],\"scatterpolar\":[{\"type\":\"scatterpolar\",\"marker\":{\"colorbar\":{\"outlinewidth\":0,\"ticks\":\"\"}}}],\"histogram\":[{\"marker\":{\"pattern\":{\"fillmode\":\"overlay\",\"size\":10,\"solidity\":0.2}},\"type\":\"histogram\"}],\"scattergl\":[{\"marker\":{\"line\":{\"color\":\"#283442\"}},\"type\":\"scattergl\"}],\"scatter3d\":[{\"type\":\"scatter3d\",\"line\":{\"colorbar\":{\"outlinewidth\":0,\"ticks\":\"\"}},\"marker\":{\"colorbar\":{\"outlinewidth\":0,\"ticks\":\"\"}}}],\"scattermapbox\":[{\"type\":\"scattermapbox\",\"marker\":{\"colorbar\":{\"outlinewidth\":0,\"ticks\":\"\"}}}],\"scatterternary\":[{\"type\":\"scatterternary\",\"marker\":{\"colorbar\":{\"outlinewidth\":0,\"ticks\":\"\"}}}],\"scattercarpet\":[{\"type\":\"scattercarpet\",\"marker\":{\"colorbar\":{\"outlinewidth\":0,\"ticks\":\"\"}}}],\"carpet\":[{\"aaxis\":{\"endlinecolor\":\"#A2B1C6\",\"gridcolor\":\"#506784\",\"linecolor\":\"#506784\",\"minorgridcolor\":\"#506784\",\"startlinecolor\":\"#A2B1C6\"},\"baxis\":{\"endlinecolor\":\"#A2B1C6\",\"gridcolor\":\"#506784\",\"linecolor\":\"#506784\",\"minorgridcolor\":\"#506784\",\"startlinecolor\":\"#A2B1C6\"},\"type\":\"carpet\"}],\"table\":[{\"cells\":{\"fill\":{\"color\":\"#506784\"},\"line\":{\"color\":\"rgb(17,17,17)\"}},\"header\":{\"fill\":{\"color\":\"#2a3f5f\"},\"line\":{\"color\":\"rgb(17,17,17)\"}},\"type\":\"table\"}],\"barpolar\":[{\"marker\":{\"line\":{\"color\":\"rgb(17,17,17)\",\"width\":0.5},\"pattern\":{\"fillmode\":\"overlay\",\"size\":10,\"solidity\":0.2}},\"type\":\"barpolar\"}],\"pie\":[{\"automargin\":true,\"type\":\"pie\"}]},\"layout\":{\"autotypenumbers\":\"strict\",\"colorway\":[\"#636efa\",\"#EF553B\",\"#00cc96\",\"#ab63fa\",\"#FFA15A\",\"#19d3f3\",\"#FF6692\",\"#B6E880\",\"#FF97FF\",\"#FECB52\"],\"font\":{\"color\":\"#f2f5fa\"},\"hovermode\":\"closest\",\"hoverlabel\":{\"align\":\"left\"},\"paper_bgcolor\":\"rgb(17,17,17)\",\"plot_bgcolor\":\"rgb(17,17,17)\",\"polar\":{\"bgcolor\":\"rgb(17,17,17)\",\"angularaxis\":{\"gridcolor\":\"#506784\",\"linecolor\":\"#506784\",\"ticks\":\"\"},\"radialaxis\":{\"gridcolor\":\"#506784\",\"linecolor\":\"#506784\",\"ticks\":\"\"}},\"ternary\":{\"bgcolor\":\"rgb(17,17,17)\",\"aaxis\":{\"gridcolor\":\"#506784\",\"linecolor\":\"#506784\",\"ticks\":\"\"},\"baxis\":{\"gridcolor\":\"#506784\",\"linecolor\":\"#506784\",\"ticks\":\"\"},\"caxis\":{\"gridcolor\":\"#506784\",\"linecolor\":\"#506784\",\"ticks\":\"\"}},\"coloraxis\":{\"colorbar\":{\"outlinewidth\":0,\"ticks\":\"\"}},\"colorscale\":{\"sequential\":[[0.0,\"#0d0887\"],[0.1111111111111111,\"#46039f\"],[0.2222222222222222,\"#7201a8\"],[0.3333333333333333,\"#9c179e\"],[0.4444444444444444,\"#bd3786\"],[0.5555555555555556,\"#d8576b\"],[0.6666666666666666,\"#ed7953\"],[0.7777777777777778,\"#fb9f3a\"],[0.8888888888888888,\"#fdca26\"],[1.0,\"#f0f921\"]],\"sequentialminus\":[[0.0,\"#0d0887\"],[0.1111111111111111,\"#46039f\"],[0.2222222222222222,\"#7201a8\"],[0.3333333333333333,\"#9c179e\"],[0.4444444444444444,\"#bd3786\"],[0.5555555555555556,\"#d8576b\"],[0.6666666666666666,\"#ed7953\"],[0.7777777777777778,\"#fb9f3a\"],[0.8888888888888888,\"#fdca26\"],[1.0,\"#f0f921\"]],\"diverging\":[[0,\"#8e0152\"],[0.1,\"#c51b7d\"],[0.2,\"#de77ae\"],[0.3,\"#f1b6da\"],[0.4,\"#fde0ef\"],[0.5,\"#f7f7f7\"],[0.6,\"#e6f5d0\"],[0.7,\"#b8e186\"],[0.8,\"#7fbc41\"],[0.9,\"#4d9221\"],[1,\"#276419\"]]},\"xaxis\":{\"gridcolor\":\"#283442\",\"linecolor\":\"#506784\",\"ticks\":\"\",\"title\":{\"standoff\":15},\"zerolinecolor\":\"#283442\",\"automargin\":true,\"zerolinewidth\":2},\"yaxis\":{\"gridcolor\":\"#283442\",\"linecolor\":\"#506784\",\"ticks\":\"\",\"title\":{\"standoff\":15},\"zerolinecolor\":\"#283442\",\"automargin\":true,\"zerolinewidth\":2},\"scene\":{\"xaxis\":{\"backgroundcolor\":\"rgb(17,17,17)\",\"gridcolor\":\"#506784\",\"linecolor\":\"#506784\",\"showbackground\":true,\"ticks\":\"\",\"zerolinecolor\":\"#C8D4E3\",\"gridwidth\":2},\"yaxis\":{\"backgroundcolor\":\"rgb(17,17,17)\",\"gridcolor\":\"#506784\",\"linecolor\":\"#506784\",\"showbackground\":true,\"ticks\":\"\",\"zerolinecolor\":\"#C8D4E3\",\"gridwidth\":2},\"zaxis\":{\"backgroundcolor\":\"rgb(17,17,17)\",\"gridcolor\":\"#506784\",\"linecolor\":\"#506784\",\"showbackground\":true,\"ticks\":\"\",\"zerolinecolor\":\"#C8D4E3\",\"gridwidth\":2}},\"shapedefaults\":{\"line\":{\"color\":\"#f2f5fa\"}},\"annotationdefaults\":{\"arrowcolor\":\"#f2f5fa\",\"arrowhead\":0,\"arrowwidth\":1},\"geo\":{\"bgcolor\":\"rgb(17,17,17)\",\"landcolor\":\"rgb(17,17,17)\",\"subunitcolor\":\"#506784\",\"showland\":true,\"showlakes\":true,\"lakecolor\":\"rgb(17,17,17)\"},\"title\":{\"x\":0.05},\"updatemenudefaults\":{\"bgcolor\":\"#506784\",\"borderwidth\":0},\"sliderdefaults\":{\"bgcolor\":\"#C8D4E3\",\"borderwidth\":1,\"bordercolor\":\"rgb(17,17,17)\",\"tickwidth\":0},\"mapbox\":{\"style\":\"dark\"}}}},                        {\"responsive\": true}                    ).then(function(){\n                            \nvar gd = document.getElementById('d493c876-0a46-442d-8d80-05cea6b9e034');\nvar x = new MutationObserver(function (mutations, observer) {{\n        var display = window.getComputedStyle(gd).display;\n        if (!display || display === 'none') {{\n            console.log([gd, 'removed!']);\n            Plotly.purge(gd);\n            observer.disconnect();\n        }}\n}});\n\n// Listen for the removal of the full notebook cells\nvar notebookContainer = gd.closest('#notebook-container');\nif (notebookContainer) {{\n    x.observe(notebookContainer, {childList: true});\n}}\n\n// Listen for the clearing of the current output cell\nvar outputEl = gd.closest('.output');\nif (outputEl) {{\n    x.observe(outputEl, {childList: true});\n}}\n\n                        })                };                });            </script>        </div>"
     },
     "metadata": {},
     "output_type": "display_data"
    }
   ],
   "source": [
    "# Creamos el gráfico de dispersión\n",
    "\n",
    "# Crear la traza de natalidad española\n",
    "trace_natalidad_española = go.Scatter(\n",
    "    x=natalidad_española['Periodo'],\n",
    "    y=natalidad_española['Total'],\n",
    "    mode='markers',\n",
    "    name='Natalidad Española',\n",
    "    marker=dict(color='red')\n",
    ")\n",
    "\n",
    "# Crear la traza de población general\n",
    "trace_poblacion_mundial = go.Scatter(\n",
    "    x=poblacion_mundial['Periodo'],\n",
    "    y=poblacion_mundial['Total'],\n",
    "    mode='markers',\n",
    "    name='Población General',\n",
    "    marker=dict(color='blue')\n",
    ")\n",
    "\n",
    "# Combinar las trazas en un solo gráfico\n",
    "data = [trace_natalidad_española, trace_poblacion_mundial]\n",
    "\n",
    "# Definir el diseño del gráfico\n",
    "layout = go.Layout(\n",
    "    title='Correlación entre la natalidad española y la población general',\n",
    "    xaxis=dict(title='Período'),\n",
    "    yaxis=dict(title='Total')\n",
    ")\n",
    "\n",
    "# Crear el objeto Figure con los datos y el diseño\n",
    "fig = go.Figure(data=data, layout=layout)\n",
    "\n",
    "# Mostrar el gráfico\n",
    "fig.show()\n"
   ],
   "metadata": {
    "collapsed": false,
    "ExecuteTime": {
     "start_time": "2023-04-21T23:20:15.620092Z",
     "end_time": "2023-04-21T23:20:15.638151Z"
    }
   }
  },
  {
   "cell_type": "code",
   "execution_count": null,
   "outputs": [],
   "source": [
    "# Ejercicio 5: Vamos a combinar 2 tipos de graficos en un mismo dashboard"
   ],
   "metadata": {
    "collapsed": false
   }
  },
  {
   "cell_type": "code",
   "execution_count": 24,
   "outputs": [
    {
     "data": {
      "text/plain": "   periodo  natalidad_espanola  poblacion_general\n0     2010                1000              40000\n1     2011                1100              41000\n2     2012                1200              42000\n3     2013                1300              43000\n4     2014                1400              44000\n5     2015                1500              45000\n6     2016                1600              46000\n7     2017                1700              47000\n8     2018                1800              48000\n9     2019                1900              49000",
      "text/html": "<div>\n<style scoped>\n    .dataframe tbody tr th:only-of-type {\n        vertical-align: middle;\n    }\n\n    .dataframe tbody tr th {\n        vertical-align: top;\n    }\n\n    .dataframe thead th {\n        text-align: right;\n    }\n</style>\n<table border=\"1\" class=\"dataframe\">\n  <thead>\n    <tr style=\"text-align: right;\">\n      <th></th>\n      <th>periodo</th>\n      <th>natalidad_espanola</th>\n      <th>poblacion_general</th>\n    </tr>\n  </thead>\n  <tbody>\n    <tr>\n      <th>0</th>\n      <td>2010</td>\n      <td>1000</td>\n      <td>40000</td>\n    </tr>\n    <tr>\n      <th>1</th>\n      <td>2011</td>\n      <td>1100</td>\n      <td>41000</td>\n    </tr>\n    <tr>\n      <th>2</th>\n      <td>2012</td>\n      <td>1200</td>\n      <td>42000</td>\n    </tr>\n    <tr>\n      <th>3</th>\n      <td>2013</td>\n      <td>1300</td>\n      <td>43000</td>\n    </tr>\n    <tr>\n      <th>4</th>\n      <td>2014</td>\n      <td>1400</td>\n      <td>44000</td>\n    </tr>\n    <tr>\n      <th>5</th>\n      <td>2015</td>\n      <td>1500</td>\n      <td>45000</td>\n    </tr>\n    <tr>\n      <th>6</th>\n      <td>2016</td>\n      <td>1600</td>\n      <td>46000</td>\n    </tr>\n    <tr>\n      <th>7</th>\n      <td>2017</td>\n      <td>1700</td>\n      <td>47000</td>\n    </tr>\n    <tr>\n      <th>8</th>\n      <td>2018</td>\n      <td>1800</td>\n      <td>48000</td>\n    </tr>\n    <tr>\n      <th>9</th>\n      <td>2019</td>\n      <td>1900</td>\n      <td>49000</td>\n    </tr>\n  </tbody>\n</table>\n</div>"
     },
     "execution_count": 24,
     "metadata": {},
     "output_type": "execute_result"
    }
   ],
   "source": [
    "datos = {\n",
    "    'periodo': [2010, 2011, 2012, 2013, 2014, 2015, 2016, 2017, 2018, 2019],\n",
    "    'natalidad_espanola': [1000, 1100, 1200, 1300, 1400, 1500, 1600, 1700, 1800, 1900],\n",
    "    'poblacion_general': [40000, 41000, 42000, 43000, 44000, 45000, 46000, 47000, 48000, 49000],\n",
    "}\n",
    "\n",
    "df = pd.DataFrame(datos)\n",
    "df"
   ],
   "metadata": {
    "collapsed": false,
    "ExecuteTime": {
     "start_time": "2023-04-21T23:25:20.293968Z",
     "end_time": "2023-04-21T23:25:20.368734Z"
    }
   }
  },
  {
   "cell_type": "code",
   "execution_count": 25,
   "outputs": [
    {
     "data": {
      "application/vnd.plotly.v1+json": {
       "data": [
        {
         "marker": {
          "color": "red"
         },
         "name": "Natalidad Española",
         "x": [
          2010,
          2011,
          2012,
          2013,
          2014,
          2015,
          2016,
          2017,
          2018,
          2019
         ],
         "y": [
          1000,
          1100,
          1200,
          1300,
          1400,
          1500,
          1600,
          1700,
          1800,
          1900
         ],
         "type": "bar"
        },
        {
         "marker": {
          "color": "blue"
         },
         "mode": "lines+markers",
         "name": "Población General",
         "x": [
          2010,
          2011,
          2012,
          2013,
          2014,
          2015,
          2016,
          2017,
          2018,
          2019
         ],
         "y": [
          40000,
          41000,
          42000,
          43000,
          44000,
          45000,
          46000,
          47000,
          48000,
          49000
         ],
         "type": "scatter"
        }
       ],
       "layout": {
        "title": {
         "text": "Natalidad Española y Población General"
        },
        "xaxis": {
         "title": {
          "text": "Período"
         }
        },
        "yaxis": {
         "title": {
          "text": "Total"
         }
        },
        "template": {
         "data": {
          "histogram2dcontour": [
           {
            "type": "histogram2dcontour",
            "colorbar": {
             "outlinewidth": 0,
             "ticks": ""
            },
            "colorscale": [
             [
              0.0,
              "#0d0887"
             ],
             [
              0.1111111111111111,
              "#46039f"
             ],
             [
              0.2222222222222222,
              "#7201a8"
             ],
             [
              0.3333333333333333,
              "#9c179e"
             ],
             [
              0.4444444444444444,
              "#bd3786"
             ],
             [
              0.5555555555555556,
              "#d8576b"
             ],
             [
              0.6666666666666666,
              "#ed7953"
             ],
             [
              0.7777777777777778,
              "#fb9f3a"
             ],
             [
              0.8888888888888888,
              "#fdca26"
             ],
             [
              1.0,
              "#f0f921"
             ]
            ]
           }
          ],
          "choropleth": [
           {
            "type": "choropleth",
            "colorbar": {
             "outlinewidth": 0,
             "ticks": ""
            }
           }
          ],
          "histogram2d": [
           {
            "type": "histogram2d",
            "colorbar": {
             "outlinewidth": 0,
             "ticks": ""
            },
            "colorscale": [
             [
              0.0,
              "#0d0887"
             ],
             [
              0.1111111111111111,
              "#46039f"
             ],
             [
              0.2222222222222222,
              "#7201a8"
             ],
             [
              0.3333333333333333,
              "#9c179e"
             ],
             [
              0.4444444444444444,
              "#bd3786"
             ],
             [
              0.5555555555555556,
              "#d8576b"
             ],
             [
              0.6666666666666666,
              "#ed7953"
             ],
             [
              0.7777777777777778,
              "#fb9f3a"
             ],
             [
              0.8888888888888888,
              "#fdca26"
             ],
             [
              1.0,
              "#f0f921"
             ]
            ]
           }
          ],
          "heatmap": [
           {
            "type": "heatmap",
            "colorbar": {
             "outlinewidth": 0,
             "ticks": ""
            },
            "colorscale": [
             [
              0.0,
              "#0d0887"
             ],
             [
              0.1111111111111111,
              "#46039f"
             ],
             [
              0.2222222222222222,
              "#7201a8"
             ],
             [
              0.3333333333333333,
              "#9c179e"
             ],
             [
              0.4444444444444444,
              "#bd3786"
             ],
             [
              0.5555555555555556,
              "#d8576b"
             ],
             [
              0.6666666666666666,
              "#ed7953"
             ],
             [
              0.7777777777777778,
              "#fb9f3a"
             ],
             [
              0.8888888888888888,
              "#fdca26"
             ],
             [
              1.0,
              "#f0f921"
             ]
            ]
           }
          ],
          "heatmapgl": [
           {
            "type": "heatmapgl",
            "colorbar": {
             "outlinewidth": 0,
             "ticks": ""
            },
            "colorscale": [
             [
              0.0,
              "#0d0887"
             ],
             [
              0.1111111111111111,
              "#46039f"
             ],
             [
              0.2222222222222222,
              "#7201a8"
             ],
             [
              0.3333333333333333,
              "#9c179e"
             ],
             [
              0.4444444444444444,
              "#bd3786"
             ],
             [
              0.5555555555555556,
              "#d8576b"
             ],
             [
              0.6666666666666666,
              "#ed7953"
             ],
             [
              0.7777777777777778,
              "#fb9f3a"
             ],
             [
              0.8888888888888888,
              "#fdca26"
             ],
             [
              1.0,
              "#f0f921"
             ]
            ]
           }
          ],
          "contourcarpet": [
           {
            "type": "contourcarpet",
            "colorbar": {
             "outlinewidth": 0,
             "ticks": ""
            }
           }
          ],
          "contour": [
           {
            "type": "contour",
            "colorbar": {
             "outlinewidth": 0,
             "ticks": ""
            },
            "colorscale": [
             [
              0.0,
              "#0d0887"
             ],
             [
              0.1111111111111111,
              "#46039f"
             ],
             [
              0.2222222222222222,
              "#7201a8"
             ],
             [
              0.3333333333333333,
              "#9c179e"
             ],
             [
              0.4444444444444444,
              "#bd3786"
             ],
             [
              0.5555555555555556,
              "#d8576b"
             ],
             [
              0.6666666666666666,
              "#ed7953"
             ],
             [
              0.7777777777777778,
              "#fb9f3a"
             ],
             [
              0.8888888888888888,
              "#fdca26"
             ],
             [
              1.0,
              "#f0f921"
             ]
            ]
           }
          ],
          "surface": [
           {
            "type": "surface",
            "colorbar": {
             "outlinewidth": 0,
             "ticks": ""
            },
            "colorscale": [
             [
              0.0,
              "#0d0887"
             ],
             [
              0.1111111111111111,
              "#46039f"
             ],
             [
              0.2222222222222222,
              "#7201a8"
             ],
             [
              0.3333333333333333,
              "#9c179e"
             ],
             [
              0.4444444444444444,
              "#bd3786"
             ],
             [
              0.5555555555555556,
              "#d8576b"
             ],
             [
              0.6666666666666666,
              "#ed7953"
             ],
             [
              0.7777777777777778,
              "#fb9f3a"
             ],
             [
              0.8888888888888888,
              "#fdca26"
             ],
             [
              1.0,
              "#f0f921"
             ]
            ]
           }
          ],
          "mesh3d": [
           {
            "type": "mesh3d",
            "colorbar": {
             "outlinewidth": 0,
             "ticks": ""
            }
           }
          ],
          "scatter": [
           {
            "marker": {
             "line": {
              "color": "#283442"
             }
            },
            "type": "scatter"
           }
          ],
          "parcoords": [
           {
            "type": "parcoords",
            "line": {
             "colorbar": {
              "outlinewidth": 0,
              "ticks": ""
             }
            }
           }
          ],
          "scatterpolargl": [
           {
            "type": "scatterpolargl",
            "marker": {
             "colorbar": {
              "outlinewidth": 0,
              "ticks": ""
             }
            }
           }
          ],
          "bar": [
           {
            "error_x": {
             "color": "#f2f5fa"
            },
            "error_y": {
             "color": "#f2f5fa"
            },
            "marker": {
             "line": {
              "color": "rgb(17,17,17)",
              "width": 0.5
             },
             "pattern": {
              "fillmode": "overlay",
              "size": 10,
              "solidity": 0.2
             }
            },
            "type": "bar"
           }
          ],
          "scattergeo": [
           {
            "type": "scattergeo",
            "marker": {
             "colorbar": {
              "outlinewidth": 0,
              "ticks": ""
             }
            }
           }
          ],
          "scatterpolar": [
           {
            "type": "scatterpolar",
            "marker": {
             "colorbar": {
              "outlinewidth": 0,
              "ticks": ""
             }
            }
           }
          ],
          "histogram": [
           {
            "marker": {
             "pattern": {
              "fillmode": "overlay",
              "size": 10,
              "solidity": 0.2
             }
            },
            "type": "histogram"
           }
          ],
          "scattergl": [
           {
            "marker": {
             "line": {
              "color": "#283442"
             }
            },
            "type": "scattergl"
           }
          ],
          "scatter3d": [
           {
            "type": "scatter3d",
            "line": {
             "colorbar": {
              "outlinewidth": 0,
              "ticks": ""
             }
            },
            "marker": {
             "colorbar": {
              "outlinewidth": 0,
              "ticks": ""
             }
            }
           }
          ],
          "scattermapbox": [
           {
            "type": "scattermapbox",
            "marker": {
             "colorbar": {
              "outlinewidth": 0,
              "ticks": ""
             }
            }
           }
          ],
          "scatterternary": [
           {
            "type": "scatterternary",
            "marker": {
             "colorbar": {
              "outlinewidth": 0,
              "ticks": ""
             }
            }
           }
          ],
          "scattercarpet": [
           {
            "type": "scattercarpet",
            "marker": {
             "colorbar": {
              "outlinewidth": 0,
              "ticks": ""
             }
            }
           }
          ],
          "carpet": [
           {
            "aaxis": {
             "endlinecolor": "#A2B1C6",
             "gridcolor": "#506784",
             "linecolor": "#506784",
             "minorgridcolor": "#506784",
             "startlinecolor": "#A2B1C6"
            },
            "baxis": {
             "endlinecolor": "#A2B1C6",
             "gridcolor": "#506784",
             "linecolor": "#506784",
             "minorgridcolor": "#506784",
             "startlinecolor": "#A2B1C6"
            },
            "type": "carpet"
           }
          ],
          "table": [
           {
            "cells": {
             "fill": {
              "color": "#506784"
             },
             "line": {
              "color": "rgb(17,17,17)"
             }
            },
            "header": {
             "fill": {
              "color": "#2a3f5f"
             },
             "line": {
              "color": "rgb(17,17,17)"
             }
            },
            "type": "table"
           }
          ],
          "barpolar": [
           {
            "marker": {
             "line": {
              "color": "rgb(17,17,17)",
              "width": 0.5
             },
             "pattern": {
              "fillmode": "overlay",
              "size": 10,
              "solidity": 0.2
             }
            },
            "type": "barpolar"
           }
          ],
          "pie": [
           {
            "automargin": true,
            "type": "pie"
           }
          ]
         },
         "layout": {
          "autotypenumbers": "strict",
          "colorway": [
           "#636efa",
           "#EF553B",
           "#00cc96",
           "#ab63fa",
           "#FFA15A",
           "#19d3f3",
           "#FF6692",
           "#B6E880",
           "#FF97FF",
           "#FECB52"
          ],
          "font": {
           "color": "#f2f5fa"
          },
          "hovermode": "closest",
          "hoverlabel": {
           "align": "left"
          },
          "paper_bgcolor": "rgb(17,17,17)",
          "plot_bgcolor": "rgb(17,17,17)",
          "polar": {
           "bgcolor": "rgb(17,17,17)",
           "angularaxis": {
            "gridcolor": "#506784",
            "linecolor": "#506784",
            "ticks": ""
           },
           "radialaxis": {
            "gridcolor": "#506784",
            "linecolor": "#506784",
            "ticks": ""
           }
          },
          "ternary": {
           "bgcolor": "rgb(17,17,17)",
           "aaxis": {
            "gridcolor": "#506784",
            "linecolor": "#506784",
            "ticks": ""
           },
           "baxis": {
            "gridcolor": "#506784",
            "linecolor": "#506784",
            "ticks": ""
           },
           "caxis": {
            "gridcolor": "#506784",
            "linecolor": "#506784",
            "ticks": ""
           }
          },
          "coloraxis": {
           "colorbar": {
            "outlinewidth": 0,
            "ticks": ""
           }
          },
          "colorscale": {
           "sequential": [
            [
             0.0,
             "#0d0887"
            ],
            [
             0.1111111111111111,
             "#46039f"
            ],
            [
             0.2222222222222222,
             "#7201a8"
            ],
            [
             0.3333333333333333,
             "#9c179e"
            ],
            [
             0.4444444444444444,
             "#bd3786"
            ],
            [
             0.5555555555555556,
             "#d8576b"
            ],
            [
             0.6666666666666666,
             "#ed7953"
            ],
            [
             0.7777777777777778,
             "#fb9f3a"
            ],
            [
             0.8888888888888888,
             "#fdca26"
            ],
            [
             1.0,
             "#f0f921"
            ]
           ],
           "sequentialminus": [
            [
             0.0,
             "#0d0887"
            ],
            [
             0.1111111111111111,
             "#46039f"
            ],
            [
             0.2222222222222222,
             "#7201a8"
            ],
            [
             0.3333333333333333,
             "#9c179e"
            ],
            [
             0.4444444444444444,
             "#bd3786"
            ],
            [
             0.5555555555555556,
             "#d8576b"
            ],
            [
             0.6666666666666666,
             "#ed7953"
            ],
            [
             0.7777777777777778,
             "#fb9f3a"
            ],
            [
             0.8888888888888888,
             "#fdca26"
            ],
            [
             1.0,
             "#f0f921"
            ]
           ],
           "diverging": [
            [
             0,
             "#8e0152"
            ],
            [
             0.1,
             "#c51b7d"
            ],
            [
             0.2,
             "#de77ae"
            ],
            [
             0.3,
             "#f1b6da"
            ],
            [
             0.4,
             "#fde0ef"
            ],
            [
             0.5,
             "#f7f7f7"
            ],
            [
             0.6,
             "#e6f5d0"
            ],
            [
             0.7,
             "#b8e186"
            ],
            [
             0.8,
             "#7fbc41"
            ],
            [
             0.9,
             "#4d9221"
            ],
            [
             1,
             "#276419"
            ]
           ]
          },
          "xaxis": {
           "gridcolor": "#283442",
           "linecolor": "#506784",
           "ticks": "",
           "title": {
            "standoff": 15
           },
           "zerolinecolor": "#283442",
           "automargin": true,
           "zerolinewidth": 2
          },
          "yaxis": {
           "gridcolor": "#283442",
           "linecolor": "#506784",
           "ticks": "",
           "title": {
            "standoff": 15
           },
           "zerolinecolor": "#283442",
           "automargin": true,
           "zerolinewidth": 2
          },
          "scene": {
           "xaxis": {
            "backgroundcolor": "rgb(17,17,17)",
            "gridcolor": "#506784",
            "linecolor": "#506784",
            "showbackground": true,
            "ticks": "",
            "zerolinecolor": "#C8D4E3",
            "gridwidth": 2
           },
           "yaxis": {
            "backgroundcolor": "rgb(17,17,17)",
            "gridcolor": "#506784",
            "linecolor": "#506784",
            "showbackground": true,
            "ticks": "",
            "zerolinecolor": "#C8D4E3",
            "gridwidth": 2
           },
           "zaxis": {
            "backgroundcolor": "rgb(17,17,17)",
            "gridcolor": "#506784",
            "linecolor": "#506784",
            "showbackground": true,
            "ticks": "",
            "zerolinecolor": "#C8D4E3",
            "gridwidth": 2
           }
          },
          "shapedefaults": {
           "line": {
            "color": "#f2f5fa"
           }
          },
          "annotationdefaults": {
           "arrowcolor": "#f2f5fa",
           "arrowhead": 0,
           "arrowwidth": 1
          },
          "geo": {
           "bgcolor": "rgb(17,17,17)",
           "landcolor": "rgb(17,17,17)",
           "subunitcolor": "#506784",
           "showland": true,
           "showlakes": true,
           "lakecolor": "rgb(17,17,17)"
          },
          "title": {
           "x": 0.05
          },
          "updatemenudefaults": {
           "bgcolor": "#506784",
           "borderwidth": 0
          },
          "sliderdefaults": {
           "bgcolor": "#C8D4E3",
           "borderwidth": 1,
           "bordercolor": "rgb(17,17,17)",
           "tickwidth": 0
          },
          "mapbox": {
           "style": "dark"
          }
         }
        }
       },
       "config": {
        "plotlyServerURL": "https://plot.ly"
       }
      },
      "text/html": "<div>                            <div id=\"d059106c-4d3d-4e7c-bded-08753f770ccf\" class=\"plotly-graph-div\" style=\"height:525px; width:100%;\"></div>            <script type=\"text/javascript\">                require([\"plotly\"], function(Plotly) {                    window.PLOTLYENV=window.PLOTLYENV || {};                                    if (document.getElementById(\"d059106c-4d3d-4e7c-bded-08753f770ccf\")) {                    Plotly.newPlot(                        \"d059106c-4d3d-4e7c-bded-08753f770ccf\",                        [{\"marker\":{\"color\":\"red\"},\"name\":\"Natalidad Espa\\u00f1ola\",\"x\":[2010,2011,2012,2013,2014,2015,2016,2017,2018,2019],\"y\":[1000,1100,1200,1300,1400,1500,1600,1700,1800,1900],\"type\":\"bar\"},{\"marker\":{\"color\":\"blue\"},\"mode\":\"lines+markers\",\"name\":\"Poblaci\\u00f3n General\",\"x\":[2010,2011,2012,2013,2014,2015,2016,2017,2018,2019],\"y\":[40000,41000,42000,43000,44000,45000,46000,47000,48000,49000],\"type\":\"scatter\"}],                        {\"title\":{\"text\":\"Natalidad Espa\\u00f1ola y Poblaci\\u00f3n General\"},\"xaxis\":{\"title\":{\"text\":\"Per\\u00edodo\"}},\"yaxis\":{\"title\":{\"text\":\"Total\"}},\"template\":{\"data\":{\"histogram2dcontour\":[{\"type\":\"histogram2dcontour\",\"colorbar\":{\"outlinewidth\":0,\"ticks\":\"\"},\"colorscale\":[[0.0,\"#0d0887\"],[0.1111111111111111,\"#46039f\"],[0.2222222222222222,\"#7201a8\"],[0.3333333333333333,\"#9c179e\"],[0.4444444444444444,\"#bd3786\"],[0.5555555555555556,\"#d8576b\"],[0.6666666666666666,\"#ed7953\"],[0.7777777777777778,\"#fb9f3a\"],[0.8888888888888888,\"#fdca26\"],[1.0,\"#f0f921\"]]}],\"choropleth\":[{\"type\":\"choropleth\",\"colorbar\":{\"outlinewidth\":0,\"ticks\":\"\"}}],\"histogram2d\":[{\"type\":\"histogram2d\",\"colorbar\":{\"outlinewidth\":0,\"ticks\":\"\"},\"colorscale\":[[0.0,\"#0d0887\"],[0.1111111111111111,\"#46039f\"],[0.2222222222222222,\"#7201a8\"],[0.3333333333333333,\"#9c179e\"],[0.4444444444444444,\"#bd3786\"],[0.5555555555555556,\"#d8576b\"],[0.6666666666666666,\"#ed7953\"],[0.7777777777777778,\"#fb9f3a\"],[0.8888888888888888,\"#fdca26\"],[1.0,\"#f0f921\"]]}],\"heatmap\":[{\"type\":\"heatmap\",\"colorbar\":{\"outlinewidth\":0,\"ticks\":\"\"},\"colorscale\":[[0.0,\"#0d0887\"],[0.1111111111111111,\"#46039f\"],[0.2222222222222222,\"#7201a8\"],[0.3333333333333333,\"#9c179e\"],[0.4444444444444444,\"#bd3786\"],[0.5555555555555556,\"#d8576b\"],[0.6666666666666666,\"#ed7953\"],[0.7777777777777778,\"#fb9f3a\"],[0.8888888888888888,\"#fdca26\"],[1.0,\"#f0f921\"]]}],\"heatmapgl\":[{\"type\":\"heatmapgl\",\"colorbar\":{\"outlinewidth\":0,\"ticks\":\"\"},\"colorscale\":[[0.0,\"#0d0887\"],[0.1111111111111111,\"#46039f\"],[0.2222222222222222,\"#7201a8\"],[0.3333333333333333,\"#9c179e\"],[0.4444444444444444,\"#bd3786\"],[0.5555555555555556,\"#d8576b\"],[0.6666666666666666,\"#ed7953\"],[0.7777777777777778,\"#fb9f3a\"],[0.8888888888888888,\"#fdca26\"],[1.0,\"#f0f921\"]]}],\"contourcarpet\":[{\"type\":\"contourcarpet\",\"colorbar\":{\"outlinewidth\":0,\"ticks\":\"\"}}],\"contour\":[{\"type\":\"contour\",\"colorbar\":{\"outlinewidth\":0,\"ticks\":\"\"},\"colorscale\":[[0.0,\"#0d0887\"],[0.1111111111111111,\"#46039f\"],[0.2222222222222222,\"#7201a8\"],[0.3333333333333333,\"#9c179e\"],[0.4444444444444444,\"#bd3786\"],[0.5555555555555556,\"#d8576b\"],[0.6666666666666666,\"#ed7953\"],[0.7777777777777778,\"#fb9f3a\"],[0.8888888888888888,\"#fdca26\"],[1.0,\"#f0f921\"]]}],\"surface\":[{\"type\":\"surface\",\"colorbar\":{\"outlinewidth\":0,\"ticks\":\"\"},\"colorscale\":[[0.0,\"#0d0887\"],[0.1111111111111111,\"#46039f\"],[0.2222222222222222,\"#7201a8\"],[0.3333333333333333,\"#9c179e\"],[0.4444444444444444,\"#bd3786\"],[0.5555555555555556,\"#d8576b\"],[0.6666666666666666,\"#ed7953\"],[0.7777777777777778,\"#fb9f3a\"],[0.8888888888888888,\"#fdca26\"],[1.0,\"#f0f921\"]]}],\"mesh3d\":[{\"type\":\"mesh3d\",\"colorbar\":{\"outlinewidth\":0,\"ticks\":\"\"}}],\"scatter\":[{\"marker\":{\"line\":{\"color\":\"#283442\"}},\"type\":\"scatter\"}],\"parcoords\":[{\"type\":\"parcoords\",\"line\":{\"colorbar\":{\"outlinewidth\":0,\"ticks\":\"\"}}}],\"scatterpolargl\":[{\"type\":\"scatterpolargl\",\"marker\":{\"colorbar\":{\"outlinewidth\":0,\"ticks\":\"\"}}}],\"bar\":[{\"error_x\":{\"color\":\"#f2f5fa\"},\"error_y\":{\"color\":\"#f2f5fa\"},\"marker\":{\"line\":{\"color\":\"rgb(17,17,17)\",\"width\":0.5},\"pattern\":{\"fillmode\":\"overlay\",\"size\":10,\"solidity\":0.2}},\"type\":\"bar\"}],\"scattergeo\":[{\"type\":\"scattergeo\",\"marker\":{\"colorbar\":{\"outlinewidth\":0,\"ticks\":\"\"}}}],\"scatterpolar\":[{\"type\":\"scatterpolar\",\"marker\":{\"colorbar\":{\"outlinewidth\":0,\"ticks\":\"\"}}}],\"histogram\":[{\"marker\":{\"pattern\":{\"fillmode\":\"overlay\",\"size\":10,\"solidity\":0.2}},\"type\":\"histogram\"}],\"scattergl\":[{\"marker\":{\"line\":{\"color\":\"#283442\"}},\"type\":\"scattergl\"}],\"scatter3d\":[{\"type\":\"scatter3d\",\"line\":{\"colorbar\":{\"outlinewidth\":0,\"ticks\":\"\"}},\"marker\":{\"colorbar\":{\"outlinewidth\":0,\"ticks\":\"\"}}}],\"scattermapbox\":[{\"type\":\"scattermapbox\",\"marker\":{\"colorbar\":{\"outlinewidth\":0,\"ticks\":\"\"}}}],\"scatterternary\":[{\"type\":\"scatterternary\",\"marker\":{\"colorbar\":{\"outlinewidth\":0,\"ticks\":\"\"}}}],\"scattercarpet\":[{\"type\":\"scattercarpet\",\"marker\":{\"colorbar\":{\"outlinewidth\":0,\"ticks\":\"\"}}}],\"carpet\":[{\"aaxis\":{\"endlinecolor\":\"#A2B1C6\",\"gridcolor\":\"#506784\",\"linecolor\":\"#506784\",\"minorgridcolor\":\"#506784\",\"startlinecolor\":\"#A2B1C6\"},\"baxis\":{\"endlinecolor\":\"#A2B1C6\",\"gridcolor\":\"#506784\",\"linecolor\":\"#506784\",\"minorgridcolor\":\"#506784\",\"startlinecolor\":\"#A2B1C6\"},\"type\":\"carpet\"}],\"table\":[{\"cells\":{\"fill\":{\"color\":\"#506784\"},\"line\":{\"color\":\"rgb(17,17,17)\"}},\"header\":{\"fill\":{\"color\":\"#2a3f5f\"},\"line\":{\"color\":\"rgb(17,17,17)\"}},\"type\":\"table\"}],\"barpolar\":[{\"marker\":{\"line\":{\"color\":\"rgb(17,17,17)\",\"width\":0.5},\"pattern\":{\"fillmode\":\"overlay\",\"size\":10,\"solidity\":0.2}},\"type\":\"barpolar\"}],\"pie\":[{\"automargin\":true,\"type\":\"pie\"}]},\"layout\":{\"autotypenumbers\":\"strict\",\"colorway\":[\"#636efa\",\"#EF553B\",\"#00cc96\",\"#ab63fa\",\"#FFA15A\",\"#19d3f3\",\"#FF6692\",\"#B6E880\",\"#FF97FF\",\"#FECB52\"],\"font\":{\"color\":\"#f2f5fa\"},\"hovermode\":\"closest\",\"hoverlabel\":{\"align\":\"left\"},\"paper_bgcolor\":\"rgb(17,17,17)\",\"plot_bgcolor\":\"rgb(17,17,17)\",\"polar\":{\"bgcolor\":\"rgb(17,17,17)\",\"angularaxis\":{\"gridcolor\":\"#506784\",\"linecolor\":\"#506784\",\"ticks\":\"\"},\"radialaxis\":{\"gridcolor\":\"#506784\",\"linecolor\":\"#506784\",\"ticks\":\"\"}},\"ternary\":{\"bgcolor\":\"rgb(17,17,17)\",\"aaxis\":{\"gridcolor\":\"#506784\",\"linecolor\":\"#506784\",\"ticks\":\"\"},\"baxis\":{\"gridcolor\":\"#506784\",\"linecolor\":\"#506784\",\"ticks\":\"\"},\"caxis\":{\"gridcolor\":\"#506784\",\"linecolor\":\"#506784\",\"ticks\":\"\"}},\"coloraxis\":{\"colorbar\":{\"outlinewidth\":0,\"ticks\":\"\"}},\"colorscale\":{\"sequential\":[[0.0,\"#0d0887\"],[0.1111111111111111,\"#46039f\"],[0.2222222222222222,\"#7201a8\"],[0.3333333333333333,\"#9c179e\"],[0.4444444444444444,\"#bd3786\"],[0.5555555555555556,\"#d8576b\"],[0.6666666666666666,\"#ed7953\"],[0.7777777777777778,\"#fb9f3a\"],[0.8888888888888888,\"#fdca26\"],[1.0,\"#f0f921\"]],\"sequentialminus\":[[0.0,\"#0d0887\"],[0.1111111111111111,\"#46039f\"],[0.2222222222222222,\"#7201a8\"],[0.3333333333333333,\"#9c179e\"],[0.4444444444444444,\"#bd3786\"],[0.5555555555555556,\"#d8576b\"],[0.6666666666666666,\"#ed7953\"],[0.7777777777777778,\"#fb9f3a\"],[0.8888888888888888,\"#fdca26\"],[1.0,\"#f0f921\"]],\"diverging\":[[0,\"#8e0152\"],[0.1,\"#c51b7d\"],[0.2,\"#de77ae\"],[0.3,\"#f1b6da\"],[0.4,\"#fde0ef\"],[0.5,\"#f7f7f7\"],[0.6,\"#e6f5d0\"],[0.7,\"#b8e186\"],[0.8,\"#7fbc41\"],[0.9,\"#4d9221\"],[1,\"#276419\"]]},\"xaxis\":{\"gridcolor\":\"#283442\",\"linecolor\":\"#506784\",\"ticks\":\"\",\"title\":{\"standoff\":15},\"zerolinecolor\":\"#283442\",\"automargin\":true,\"zerolinewidth\":2},\"yaxis\":{\"gridcolor\":\"#283442\",\"linecolor\":\"#506784\",\"ticks\":\"\",\"title\":{\"standoff\":15},\"zerolinecolor\":\"#283442\",\"automargin\":true,\"zerolinewidth\":2},\"scene\":{\"xaxis\":{\"backgroundcolor\":\"rgb(17,17,17)\",\"gridcolor\":\"#506784\",\"linecolor\":\"#506784\",\"showbackground\":true,\"ticks\":\"\",\"zerolinecolor\":\"#C8D4E3\",\"gridwidth\":2},\"yaxis\":{\"backgroundcolor\":\"rgb(17,17,17)\",\"gridcolor\":\"#506784\",\"linecolor\":\"#506784\",\"showbackground\":true,\"ticks\":\"\",\"zerolinecolor\":\"#C8D4E3\",\"gridwidth\":2},\"zaxis\":{\"backgroundcolor\":\"rgb(17,17,17)\",\"gridcolor\":\"#506784\",\"linecolor\":\"#506784\",\"showbackground\":true,\"ticks\":\"\",\"zerolinecolor\":\"#C8D4E3\",\"gridwidth\":2}},\"shapedefaults\":{\"line\":{\"color\":\"#f2f5fa\"}},\"annotationdefaults\":{\"arrowcolor\":\"#f2f5fa\",\"arrowhead\":0,\"arrowwidth\":1},\"geo\":{\"bgcolor\":\"rgb(17,17,17)\",\"landcolor\":\"rgb(17,17,17)\",\"subunitcolor\":\"#506784\",\"showland\":true,\"showlakes\":true,\"lakecolor\":\"rgb(17,17,17)\"},\"title\":{\"x\":0.05},\"updatemenudefaults\":{\"bgcolor\":\"#506784\",\"borderwidth\":0},\"sliderdefaults\":{\"bgcolor\":\"#C8D4E3\",\"borderwidth\":1,\"bordercolor\":\"rgb(17,17,17)\",\"tickwidth\":0},\"mapbox\":{\"style\":\"dark\"}}}},                        {\"responsive\": true}                    ).then(function(){\n                            \nvar gd = document.getElementById('d059106c-4d3d-4e7c-bded-08753f770ccf');\nvar x = new MutationObserver(function (mutations, observer) {{\n        var display = window.getComputedStyle(gd).display;\n        if (!display || display === 'none') {{\n            console.log([gd, 'removed!']);\n            Plotly.purge(gd);\n            observer.disconnect();\n        }}\n}});\n\n// Listen for the removal of the full notebook cells\nvar notebookContainer = gd.closest('#notebook-container');\nif (notebookContainer) {{\n    x.observe(notebookContainer, {childList: true});\n}}\n\n// Listen for the clearing of the current output cell\nvar outputEl = gd.closest('.output');\nif (outputEl) {{\n    x.observe(outputEl, {childList: true});\n}}\n\n                        })                };                });            </script>        </div>"
     },
     "metadata": {},
     "output_type": "display_data"
    }
   ],
   "source": [
    "# Crear la traza del gráfico de barras para natalidad española\n",
    "trace_natalidad_espanola = go.Bar(\n",
    "    x=df['periodo'],\n",
    "    y=df['natalidad_espanola'],\n",
    "    name='Natalidad Española',\n",
    "    marker=dict(color='red')\n",
    ")\n",
    "\n",
    "# Crear la traza del gráfico de línea para población general\n",
    "trace_poblacion_general = go.Scatter(\n",
    "    x=df['periodo'],\n",
    "    y=df['poblacion_general'],\n",
    "    mode='lines+markers',\n",
    "    name='Población General',\n",
    "    marker=dict(color='blue')\n",
    ")\n",
    "\n",
    "# Combinar las trazas en un solo gráfico\n",
    "data = [trace_natalidad_espanola, trace_poblacion_general]\n",
    "\n",
    "# Definir el diseño del gráfico\n",
    "layout = go.Layout(\n",
    "    title='Natalidad Española y Población General',\n",
    "    xaxis=dict(title='Período'),\n",
    "    yaxis=dict(title='Total')\n",
    ")\n",
    "\n",
    "# Crear el objeto Figure con los datos y el diseño\n",
    "fig = go.Figure(data=data, layout=layout)\n",
    "\n",
    "# Mostrar el gráfico\n",
    "fig.show()\n"
   ],
   "metadata": {
    "collapsed": false,
    "ExecuteTime": {
     "start_time": "2023-04-21T23:25:40.173133Z",
     "end_time": "2023-04-21T23:25:40.268471Z"
    }
   }
  },
  {
   "cell_type": "code",
   "execution_count": null,
   "outputs": [],
   "source": [],
   "metadata": {
    "collapsed": false
   }
  }
 ],
 "metadata": {
  "kernelspec": {
   "display_name": "Python 3",
   "language": "python",
   "name": "python3"
  },
  "language_info": {
   "codemirror_mode": {
    "name": "ipython",
    "version": 2
   },
   "file_extension": ".py",
   "mimetype": "text/x-python",
   "name": "python",
   "nbconvert_exporter": "python",
   "pygments_lexer": "ipython2",
   "version": "2.7.6"
  }
 },
 "nbformat": 4,
 "nbformat_minor": 0
}
